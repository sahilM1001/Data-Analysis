{
 "cells": [
  {
   "cell_type": "markdown",
   "metadata": {},
   "source": [
    "Data Analysis on Udemy Course Dataset"
   ]
  },
  {
   "cell_type": "markdown",
   "metadata": {},
   "source": [
    "Importing Libraries & Loading Dataset"
   ]
  },
  {
   "cell_type": "code",
   "execution_count": 1,
   "metadata": {},
   "outputs": [],
   "source": [
    "import pandas as pd\n",
    "import matplotlib.pyplot as plt\n",
    "%matplotlib inline\n"
   ]
  },
  {
   "cell_type": "code",
   "execution_count": 171,
   "metadata": {},
   "outputs": [
    {
     "data": {
      "text/html": [
       "<div>\n",
       "<style scoped>\n",
       "    .dataframe tbody tr th:only-of-type {\n",
       "        vertical-align: middle;\n",
       "    }\n",
       "\n",
       "    .dataframe tbody tr th {\n",
       "        vertical-align: top;\n",
       "    }\n",
       "\n",
       "    .dataframe thead th {\n",
       "        text-align: right;\n",
       "    }\n",
       "</style>\n",
       "<table border=\"1\" class=\"dataframe\">\n",
       "  <thead>\n",
       "    <tr style=\"text-align: right;\">\n",
       "      <th></th>\n",
       "      <th>course_id</th>\n",
       "      <th>course_title</th>\n",
       "      <th>url</th>\n",
       "      <th>is_paid</th>\n",
       "      <th>price</th>\n",
       "      <th>num_subscribers</th>\n",
       "      <th>num_reviews</th>\n",
       "      <th>num_lectures</th>\n",
       "      <th>level</th>\n",
       "      <th>content_duration</th>\n",
       "      <th>published_timestamp</th>\n",
       "      <th>subject</th>\n",
       "    </tr>\n",
       "  </thead>\n",
       "  <tbody>\n",
       "    <tr>\n",
       "      <th>0</th>\n",
       "      <td>1070968</td>\n",
       "      <td>Ultimate Investment Banking Course</td>\n",
       "      <td>https://www.udemy.com/ultimate-investment-bank...</td>\n",
       "      <td>True</td>\n",
       "      <td>200</td>\n",
       "      <td>2147</td>\n",
       "      <td>23</td>\n",
       "      <td>51</td>\n",
       "      <td>All Levels</td>\n",
       "      <td>1.5</td>\n",
       "      <td>2017-01-18T20:58:58Z</td>\n",
       "      <td>Business Finance</td>\n",
       "    </tr>\n",
       "    <tr>\n",
       "      <th>1</th>\n",
       "      <td>1113822</td>\n",
       "      <td>Complete GST Course &amp; Certification - Grow You...</td>\n",
       "      <td>https://www.udemy.com/goods-and-services-tax/</td>\n",
       "      <td>True</td>\n",
       "      <td>75</td>\n",
       "      <td>2792</td>\n",
       "      <td>923</td>\n",
       "      <td>274</td>\n",
       "      <td>All Levels</td>\n",
       "      <td>39.0</td>\n",
       "      <td>2017-03-09T16:34:20Z</td>\n",
       "      <td>Business Finance</td>\n",
       "    </tr>\n",
       "    <tr>\n",
       "      <th>2</th>\n",
       "      <td>1006314</td>\n",
       "      <td>Financial Modeling for Business Analysts and C...</td>\n",
       "      <td>https://www.udemy.com/financial-modeling-for-b...</td>\n",
       "      <td>True</td>\n",
       "      <td>45</td>\n",
       "      <td>2174</td>\n",
       "      <td>74</td>\n",
       "      <td>51</td>\n",
       "      <td>Intermediate Level</td>\n",
       "      <td>2.5</td>\n",
       "      <td>2016-12-19T19:26:30Z</td>\n",
       "      <td>Business Finance</td>\n",
       "    </tr>\n",
       "    <tr>\n",
       "      <th>3</th>\n",
       "      <td>1210588</td>\n",
       "      <td>Beginner to Pro - Financial Analysis in Excel ...</td>\n",
       "      <td>https://www.udemy.com/complete-excel-finance-c...</td>\n",
       "      <td>True</td>\n",
       "      <td>95</td>\n",
       "      <td>2451</td>\n",
       "      <td>11</td>\n",
       "      <td>36</td>\n",
       "      <td>All Levels</td>\n",
       "      <td>3.0</td>\n",
       "      <td>2017-05-30T20:07:24Z</td>\n",
       "      <td>Business Finance</td>\n",
       "    </tr>\n",
       "    <tr>\n",
       "      <th>4</th>\n",
       "      <td>1011058</td>\n",
       "      <td>How To Maximize Your Profits Trading Options</td>\n",
       "      <td>https://www.udemy.com/how-to-maximize-your-pro...</td>\n",
       "      <td>True</td>\n",
       "      <td>200</td>\n",
       "      <td>1276</td>\n",
       "      <td>45</td>\n",
       "      <td>26</td>\n",
       "      <td>Intermediate Level</td>\n",
       "      <td>2.0</td>\n",
       "      <td>2016-12-13T14:57:18Z</td>\n",
       "      <td>Business Finance</td>\n",
       "    </tr>\n",
       "  </tbody>\n",
       "</table>\n",
       "</div>"
      ],
      "text/plain": [
       "   course_id                                       course_title  \\\n",
       "0    1070968                 Ultimate Investment Banking Course   \n",
       "1    1113822  Complete GST Course & Certification - Grow You...   \n",
       "2    1006314  Financial Modeling for Business Analysts and C...   \n",
       "3    1210588  Beginner to Pro - Financial Analysis in Excel ...   \n",
       "4    1011058       How To Maximize Your Profits Trading Options   \n",
       "\n",
       "                                                 url  is_paid  price  \\\n",
       "0  https://www.udemy.com/ultimate-investment-bank...     True    200   \n",
       "1      https://www.udemy.com/goods-and-services-tax/     True     75   \n",
       "2  https://www.udemy.com/financial-modeling-for-b...     True     45   \n",
       "3  https://www.udemy.com/complete-excel-finance-c...     True     95   \n",
       "4  https://www.udemy.com/how-to-maximize-your-pro...     True    200   \n",
       "\n",
       "   num_subscribers  num_reviews  num_lectures               level  \\\n",
       "0             2147           23            51          All Levels   \n",
       "1             2792          923           274          All Levels   \n",
       "2             2174           74            51  Intermediate Level   \n",
       "3             2451           11            36          All Levels   \n",
       "4             1276           45            26  Intermediate Level   \n",
       "\n",
       "   content_duration   published_timestamp           subject  \n",
       "0               1.5  2017-01-18T20:58:58Z  Business Finance  \n",
       "1              39.0  2017-03-09T16:34:20Z  Business Finance  \n",
       "2               2.5  2016-12-19T19:26:30Z  Business Finance  \n",
       "3               3.0  2017-05-30T20:07:24Z  Business Finance  \n",
       "4               2.0  2016-12-13T14:57:18Z  Business Finance  "
      ]
     },
     "execution_count": 171,
     "metadata": {},
     "output_type": "execute_result"
    }
   ],
   "source": [
    "df = pd.read_csv('./udemy_courses.csv')\n",
    "df.head()"
   ]
  },
  {
   "cell_type": "markdown",
   "metadata": {},
   "source": [
    "Basic Exploration"
   ]
  },
  {
   "cell_type": "code",
   "execution_count": 141,
   "metadata": {},
   "outputs": [
    {
     "data": {
      "text/html": [
       "<div>\n",
       "<style scoped>\n",
       "    .dataframe tbody tr th:only-of-type {\n",
       "        vertical-align: middle;\n",
       "    }\n",
       "\n",
       "    .dataframe tbody tr th {\n",
       "        vertical-align: top;\n",
       "    }\n",
       "\n",
       "    .dataframe thead th {\n",
       "        text-align: right;\n",
       "    }\n",
       "</style>\n",
       "<table border=\"1\" class=\"dataframe\">\n",
       "  <thead>\n",
       "    <tr style=\"text-align: right;\">\n",
       "      <th></th>\n",
       "      <th>count</th>\n",
       "      <th>mean</th>\n",
       "      <th>std</th>\n",
       "      <th>min</th>\n",
       "      <th>25%</th>\n",
       "      <th>50%</th>\n",
       "      <th>75%</th>\n",
       "      <th>max</th>\n",
       "    </tr>\n",
       "  </thead>\n",
       "  <tbody>\n",
       "    <tr>\n",
       "      <th>course_id</th>\n",
       "      <td>3678.0</td>\n",
       "      <td>675971.963295</td>\n",
       "      <td>343273.156040</td>\n",
       "      <td>8324.0</td>\n",
       "      <td>407692.5</td>\n",
       "      <td>687917.0</td>\n",
       "      <td>961355.50</td>\n",
       "      <td>1282064.0</td>\n",
       "    </tr>\n",
       "    <tr>\n",
       "      <th>price</th>\n",
       "      <td>3678.0</td>\n",
       "      <td>66.049483</td>\n",
       "      <td>61.005755</td>\n",
       "      <td>0.0</td>\n",
       "      <td>20.0</td>\n",
       "      <td>45.0</td>\n",
       "      <td>95.00</td>\n",
       "      <td>200.0</td>\n",
       "    </tr>\n",
       "    <tr>\n",
       "      <th>num_subscribers</th>\n",
       "      <td>3678.0</td>\n",
       "      <td>3197.150625</td>\n",
       "      <td>9504.117010</td>\n",
       "      <td>0.0</td>\n",
       "      <td>111.0</td>\n",
       "      <td>911.5</td>\n",
       "      <td>2546.00</td>\n",
       "      <td>268923.0</td>\n",
       "    </tr>\n",
       "    <tr>\n",
       "      <th>num_reviews</th>\n",
       "      <td>3678.0</td>\n",
       "      <td>156.259108</td>\n",
       "      <td>935.452044</td>\n",
       "      <td>0.0</td>\n",
       "      <td>4.0</td>\n",
       "      <td>18.0</td>\n",
       "      <td>67.00</td>\n",
       "      <td>27445.0</td>\n",
       "    </tr>\n",
       "    <tr>\n",
       "      <th>num_lectures</th>\n",
       "      <td>3678.0</td>\n",
       "      <td>40.108755</td>\n",
       "      <td>50.383346</td>\n",
       "      <td>0.0</td>\n",
       "      <td>15.0</td>\n",
       "      <td>25.0</td>\n",
       "      <td>45.75</td>\n",
       "      <td>779.0</td>\n",
       "    </tr>\n",
       "    <tr>\n",
       "      <th>content_duration</th>\n",
       "      <td>3678.0</td>\n",
       "      <td>4.094517</td>\n",
       "      <td>6.053840</td>\n",
       "      <td>0.0</td>\n",
       "      <td>1.0</td>\n",
       "      <td>2.0</td>\n",
       "      <td>4.50</td>\n",
       "      <td>78.5</td>\n",
       "    </tr>\n",
       "  </tbody>\n",
       "</table>\n",
       "</div>"
      ],
      "text/plain": [
       "                   count           mean            std     min       25%  \\\n",
       "course_id         3678.0  675971.963295  343273.156040  8324.0  407692.5   \n",
       "price             3678.0      66.049483      61.005755     0.0      20.0   \n",
       "num_subscribers   3678.0    3197.150625    9504.117010     0.0     111.0   \n",
       "num_reviews       3678.0     156.259108     935.452044     0.0       4.0   \n",
       "num_lectures      3678.0      40.108755      50.383346     0.0      15.0   \n",
       "content_duration  3678.0       4.094517       6.053840     0.0       1.0   \n",
       "\n",
       "                       50%        75%        max  \n",
       "course_id         687917.0  961355.50  1282064.0  \n",
       "price                 45.0      95.00      200.0  \n",
       "num_subscribers      911.5    2546.00   268923.0  \n",
       "num_reviews           18.0      67.00    27445.0  \n",
       "num_lectures          25.0      45.75      779.0  \n",
       "content_duration       2.0       4.50       78.5  "
      ]
     },
     "execution_count": 141,
     "metadata": {},
     "output_type": "execute_result"
    }
   ],
   "source": [
    "df.describe().T"
   ]
  },
  {
   "cell_type": "code",
   "execution_count": 142,
   "metadata": {},
   "outputs": [
    {
     "name": "stdout",
     "output_type": "stream",
     "text": [
      "<class 'pandas.core.frame.DataFrame'>\n",
      "RangeIndex: 3678 entries, 0 to 3677\n",
      "Data columns (total 12 columns):\n",
      " #   Column               Non-Null Count  Dtype  \n",
      "---  ------               --------------  -----  \n",
      " 0   course_id            3678 non-null   int64  \n",
      " 1   course_title         3678 non-null   object \n",
      " 2   url                  3678 non-null   object \n",
      " 3   is_paid              3678 non-null   bool   \n",
      " 4   price                3678 non-null   int64  \n",
      " 5   num_subscribers      3678 non-null   int64  \n",
      " 6   num_reviews          3678 non-null   int64  \n",
      " 7   num_lectures         3678 non-null   int64  \n",
      " 8   level                3678 non-null   object \n",
      " 9   content_duration     3678 non-null   float64\n",
      " 10  published_timestamp  3678 non-null   object \n",
      " 11  subject              3678 non-null   object \n",
      "dtypes: bool(1), float64(1), int64(5), object(5)\n",
      "memory usage: 319.8+ KB\n"
     ]
    }
   ],
   "source": [
    "df.info()"
   ]
  },
  {
   "cell_type": "markdown",
   "metadata": {},
   "source": [
    "Checking Null Values"
   ]
  },
  {
   "cell_type": "code",
   "execution_count": 5,
   "metadata": {},
   "outputs": [
    {
     "data": {
      "text/plain": [
       "course_id              0\n",
       "course_title           0\n",
       "url                    0\n",
       "is_paid                0\n",
       "price                  0\n",
       "num_subscribers        0\n",
       "num_reviews            0\n",
       "num_lectures           0\n",
       "level                  0\n",
       "content_duration       0\n",
       "published_timestamp    0\n",
       "subject                0\n",
       "dtype: int64"
      ]
     },
     "execution_count": 5,
     "metadata": {},
     "output_type": "execute_result"
    }
   ],
   "source": [
    "df.isnull().sum()"
   ]
  },
  {
   "cell_type": "markdown",
   "metadata": {},
   "source": [
    "Dropping Unnecessary Columns"
   ]
  },
  {
   "cell_type": "code",
   "execution_count": 172,
   "metadata": {},
   "outputs": [
    {
     "data": {
      "text/html": [
       "<div>\n",
       "<style scoped>\n",
       "    .dataframe tbody tr th:only-of-type {\n",
       "        vertical-align: middle;\n",
       "    }\n",
       "\n",
       "    .dataframe tbody tr th {\n",
       "        vertical-align: top;\n",
       "    }\n",
       "\n",
       "    .dataframe thead th {\n",
       "        text-align: right;\n",
       "    }\n",
       "</style>\n",
       "<table border=\"1\" class=\"dataframe\">\n",
       "  <thead>\n",
       "    <tr style=\"text-align: right;\">\n",
       "      <th></th>\n",
       "      <th>course_title</th>\n",
       "      <th>is_paid</th>\n",
       "      <th>price</th>\n",
       "      <th>num_subscribers</th>\n",
       "      <th>num_reviews</th>\n",
       "      <th>num_lectures</th>\n",
       "      <th>level</th>\n",
       "      <th>content_duration</th>\n",
       "      <th>published_timestamp</th>\n",
       "      <th>subject</th>\n",
       "    </tr>\n",
       "  </thead>\n",
       "  <tbody>\n",
       "    <tr>\n",
       "      <th>0</th>\n",
       "      <td>Ultimate Investment Banking Course</td>\n",
       "      <td>True</td>\n",
       "      <td>200</td>\n",
       "      <td>2147</td>\n",
       "      <td>23</td>\n",
       "      <td>51</td>\n",
       "      <td>All Levels</td>\n",
       "      <td>1.5</td>\n",
       "      <td>2017-01-18T20:58:58Z</td>\n",
       "      <td>Business Finance</td>\n",
       "    </tr>\n",
       "    <tr>\n",
       "      <th>1</th>\n",
       "      <td>Complete GST Course &amp; Certification - Grow You...</td>\n",
       "      <td>True</td>\n",
       "      <td>75</td>\n",
       "      <td>2792</td>\n",
       "      <td>923</td>\n",
       "      <td>274</td>\n",
       "      <td>All Levels</td>\n",
       "      <td>39.0</td>\n",
       "      <td>2017-03-09T16:34:20Z</td>\n",
       "      <td>Business Finance</td>\n",
       "    </tr>\n",
       "    <tr>\n",
       "      <th>2</th>\n",
       "      <td>Financial Modeling for Business Analysts and C...</td>\n",
       "      <td>True</td>\n",
       "      <td>45</td>\n",
       "      <td>2174</td>\n",
       "      <td>74</td>\n",
       "      <td>51</td>\n",
       "      <td>Intermediate Level</td>\n",
       "      <td>2.5</td>\n",
       "      <td>2016-12-19T19:26:30Z</td>\n",
       "      <td>Business Finance</td>\n",
       "    </tr>\n",
       "    <tr>\n",
       "      <th>3</th>\n",
       "      <td>Beginner to Pro - Financial Analysis in Excel ...</td>\n",
       "      <td>True</td>\n",
       "      <td>95</td>\n",
       "      <td>2451</td>\n",
       "      <td>11</td>\n",
       "      <td>36</td>\n",
       "      <td>All Levels</td>\n",
       "      <td>3.0</td>\n",
       "      <td>2017-05-30T20:07:24Z</td>\n",
       "      <td>Business Finance</td>\n",
       "    </tr>\n",
       "    <tr>\n",
       "      <th>4</th>\n",
       "      <td>How To Maximize Your Profits Trading Options</td>\n",
       "      <td>True</td>\n",
       "      <td>200</td>\n",
       "      <td>1276</td>\n",
       "      <td>45</td>\n",
       "      <td>26</td>\n",
       "      <td>Intermediate Level</td>\n",
       "      <td>2.0</td>\n",
       "      <td>2016-12-13T14:57:18Z</td>\n",
       "      <td>Business Finance</td>\n",
       "    </tr>\n",
       "  </tbody>\n",
       "</table>\n",
       "</div>"
      ],
      "text/plain": [
       "                                        course_title  is_paid  price  \\\n",
       "0                 Ultimate Investment Banking Course     True    200   \n",
       "1  Complete GST Course & Certification - Grow You...     True     75   \n",
       "2  Financial Modeling for Business Analysts and C...     True     45   \n",
       "3  Beginner to Pro - Financial Analysis in Excel ...     True     95   \n",
       "4       How To Maximize Your Profits Trading Options     True    200   \n",
       "\n",
       "   num_subscribers  num_reviews  num_lectures               level  \\\n",
       "0             2147           23            51          All Levels   \n",
       "1             2792          923           274          All Levels   \n",
       "2             2174           74            51  Intermediate Level   \n",
       "3             2451           11            36          All Levels   \n",
       "4             1276           45            26  Intermediate Level   \n",
       "\n",
       "   content_duration   published_timestamp           subject  \n",
       "0               1.5  2017-01-18T20:58:58Z  Business Finance  \n",
       "1              39.0  2017-03-09T16:34:20Z  Business Finance  \n",
       "2               2.5  2016-12-19T19:26:30Z  Business Finance  \n",
       "3               3.0  2017-05-30T20:07:24Z  Business Finance  \n",
       "4               2.0  2016-12-13T14:57:18Z  Business Finance  "
      ]
     },
     "execution_count": 172,
     "metadata": {},
     "output_type": "execute_result"
    }
   ],
   "source": [
    "df.drop(labels=['course_id', 'url'], axis=1, inplace=True)\n",
    "\n",
    "df.head()"
   ]
  },
  {
   "cell_type": "markdown",
   "metadata": {},
   "source": [
    "Getting Date from the published timestamp column"
   ]
  },
  {
   "cell_type": "code",
   "execution_count": 173,
   "metadata": {},
   "outputs": [
    {
     "data": {
      "text/html": [
       "<div>\n",
       "<style scoped>\n",
       "    .dataframe tbody tr th:only-of-type {\n",
       "        vertical-align: middle;\n",
       "    }\n",
       "\n",
       "    .dataframe tbody tr th {\n",
       "        vertical-align: top;\n",
       "    }\n",
       "\n",
       "    .dataframe thead th {\n",
       "        text-align: right;\n",
       "    }\n",
       "</style>\n",
       "<table border=\"1\" class=\"dataframe\">\n",
       "  <thead>\n",
       "    <tr style=\"text-align: right;\">\n",
       "      <th></th>\n",
       "      <th>course_title</th>\n",
       "      <th>is_paid</th>\n",
       "      <th>price</th>\n",
       "      <th>num_subscribers</th>\n",
       "      <th>num_reviews</th>\n",
       "      <th>num_lectures</th>\n",
       "      <th>level</th>\n",
       "      <th>content_duration</th>\n",
       "      <th>published_timestamp</th>\n",
       "      <th>subject</th>\n",
       "    </tr>\n",
       "  </thead>\n",
       "  <tbody>\n",
       "    <tr>\n",
       "      <th>0</th>\n",
       "      <td>Ultimate Investment Banking Course</td>\n",
       "      <td>True</td>\n",
       "      <td>200</td>\n",
       "      <td>2147</td>\n",
       "      <td>23</td>\n",
       "      <td>51</td>\n",
       "      <td>All Levels</td>\n",
       "      <td>1.5</td>\n",
       "      <td>2017-01-18</td>\n",
       "      <td>Business Finance</td>\n",
       "    </tr>\n",
       "    <tr>\n",
       "      <th>1</th>\n",
       "      <td>Complete GST Course &amp; Certification - Grow You...</td>\n",
       "      <td>True</td>\n",
       "      <td>75</td>\n",
       "      <td>2792</td>\n",
       "      <td>923</td>\n",
       "      <td>274</td>\n",
       "      <td>All Levels</td>\n",
       "      <td>39.0</td>\n",
       "      <td>2017-03-09</td>\n",
       "      <td>Business Finance</td>\n",
       "    </tr>\n",
       "    <tr>\n",
       "      <th>2</th>\n",
       "      <td>Financial Modeling for Business Analysts and C...</td>\n",
       "      <td>True</td>\n",
       "      <td>45</td>\n",
       "      <td>2174</td>\n",
       "      <td>74</td>\n",
       "      <td>51</td>\n",
       "      <td>Intermediate Level</td>\n",
       "      <td>2.5</td>\n",
       "      <td>2016-12-19</td>\n",
       "      <td>Business Finance</td>\n",
       "    </tr>\n",
       "    <tr>\n",
       "      <th>3</th>\n",
       "      <td>Beginner to Pro - Financial Analysis in Excel ...</td>\n",
       "      <td>True</td>\n",
       "      <td>95</td>\n",
       "      <td>2451</td>\n",
       "      <td>11</td>\n",
       "      <td>36</td>\n",
       "      <td>All Levels</td>\n",
       "      <td>3.0</td>\n",
       "      <td>2017-05-30</td>\n",
       "      <td>Business Finance</td>\n",
       "    </tr>\n",
       "    <tr>\n",
       "      <th>4</th>\n",
       "      <td>How To Maximize Your Profits Trading Options</td>\n",
       "      <td>True</td>\n",
       "      <td>200</td>\n",
       "      <td>1276</td>\n",
       "      <td>45</td>\n",
       "      <td>26</td>\n",
       "      <td>Intermediate Level</td>\n",
       "      <td>2.0</td>\n",
       "      <td>2016-12-13</td>\n",
       "      <td>Business Finance</td>\n",
       "    </tr>\n",
       "  </tbody>\n",
       "</table>\n",
       "</div>"
      ],
      "text/plain": [
       "                                        course_title  is_paid  price  \\\n",
       "0                 Ultimate Investment Banking Course     True    200   \n",
       "1  Complete GST Course & Certification - Grow You...     True     75   \n",
       "2  Financial Modeling for Business Analysts and C...     True     45   \n",
       "3  Beginner to Pro - Financial Analysis in Excel ...     True     95   \n",
       "4       How To Maximize Your Profits Trading Options     True    200   \n",
       "\n",
       "   num_subscribers  num_reviews  num_lectures               level  \\\n",
       "0             2147           23            51          All Levels   \n",
       "1             2792          923           274          All Levels   \n",
       "2             2174           74            51  Intermediate Level   \n",
       "3             2451           11            36          All Levels   \n",
       "4             1276           45            26  Intermediate Level   \n",
       "\n",
       "   content_duration published_timestamp           subject  \n",
       "0               1.5          2017-01-18  Business Finance  \n",
       "1              39.0          2017-03-09  Business Finance  \n",
       "2               2.5          2016-12-19  Business Finance  \n",
       "3               3.0          2017-05-30  Business Finance  \n",
       "4               2.0          2016-12-13  Business Finance  "
      ]
     },
     "execution_count": 173,
     "metadata": {},
     "output_type": "execute_result"
    }
   ],
   "source": [
    "df['published_timestamp'] = df['published_timestamp'].apply(lambda x: x.split(\"T\")[0])\n",
    "df.head()"
   ]
  },
  {
   "cell_type": "markdown",
   "metadata": {},
   "source": [
    "Converting published timestamp to datetime type"
   ]
  },
  {
   "cell_type": "code",
   "execution_count": 174,
   "metadata": {},
   "outputs": [],
   "source": [
    "df['published_timestamp'] = pd.to_datetime(df['published_timestamp'])\n"
   ]
  },
  {
   "cell_type": "code",
   "execution_count": 9,
   "metadata": {},
   "outputs": [
    {
     "data": {
      "text/plain": [
       "dtype('<M8[ns]')"
      ]
     },
     "execution_count": 9,
     "metadata": {},
     "output_type": "execute_result"
    }
   ],
   "source": [
    "df['published_timestamp'].dtype"
   ]
  },
  {
   "cell_type": "markdown",
   "metadata": {},
   "source": [
    "Creating Features"
   ]
  },
  {
   "cell_type": "code",
   "execution_count": 175,
   "metadata": {},
   "outputs": [
    {
     "data": {
      "text/html": [
       "<div>\n",
       "<style scoped>\n",
       "    .dataframe tbody tr th:only-of-type {\n",
       "        vertical-align: middle;\n",
       "    }\n",
       "\n",
       "    .dataframe tbody tr th {\n",
       "        vertical-align: top;\n",
       "    }\n",
       "\n",
       "    .dataframe thead th {\n",
       "        text-align: right;\n",
       "    }\n",
       "</style>\n",
       "<table border=\"1\" class=\"dataframe\">\n",
       "  <thead>\n",
       "    <tr style=\"text-align: right;\">\n",
       "      <th></th>\n",
       "      <th>course_title</th>\n",
       "      <th>is_paid</th>\n",
       "      <th>price</th>\n",
       "      <th>num_subscribers</th>\n",
       "      <th>num_reviews</th>\n",
       "      <th>num_lectures</th>\n",
       "      <th>level</th>\n",
       "      <th>content_duration</th>\n",
       "      <th>published_timestamp</th>\n",
       "      <th>subject</th>\n",
       "      <th>gross_earnings</th>\n",
       "    </tr>\n",
       "  </thead>\n",
       "  <tbody>\n",
       "    <tr>\n",
       "      <th>0</th>\n",
       "      <td>Ultimate Investment Banking Course</td>\n",
       "      <td>True</td>\n",
       "      <td>200</td>\n",
       "      <td>2147</td>\n",
       "      <td>23</td>\n",
       "      <td>51</td>\n",
       "      <td>All Levels</td>\n",
       "      <td>1.5</td>\n",
       "      <td>2017-01-18</td>\n",
       "      <td>Business Finance</td>\n",
       "      <td>429400</td>\n",
       "    </tr>\n",
       "    <tr>\n",
       "      <th>1</th>\n",
       "      <td>Complete GST Course &amp; Certification - Grow You...</td>\n",
       "      <td>True</td>\n",
       "      <td>75</td>\n",
       "      <td>2792</td>\n",
       "      <td>923</td>\n",
       "      <td>274</td>\n",
       "      <td>All Levels</td>\n",
       "      <td>39.0</td>\n",
       "      <td>2017-03-09</td>\n",
       "      <td>Business Finance</td>\n",
       "      <td>209400</td>\n",
       "    </tr>\n",
       "    <tr>\n",
       "      <th>2</th>\n",
       "      <td>Financial Modeling for Business Analysts and C...</td>\n",
       "      <td>True</td>\n",
       "      <td>45</td>\n",
       "      <td>2174</td>\n",
       "      <td>74</td>\n",
       "      <td>51</td>\n",
       "      <td>Intermediate Level</td>\n",
       "      <td>2.5</td>\n",
       "      <td>2016-12-19</td>\n",
       "      <td>Business Finance</td>\n",
       "      <td>97830</td>\n",
       "    </tr>\n",
       "  </tbody>\n",
       "</table>\n",
       "</div>"
      ],
      "text/plain": [
       "                                        course_title  is_paid  price  \\\n",
       "0                 Ultimate Investment Banking Course     True    200   \n",
       "1  Complete GST Course & Certification - Grow You...     True     75   \n",
       "2  Financial Modeling for Business Analysts and C...     True     45   \n",
       "\n",
       "   num_subscribers  num_reviews  num_lectures               level  \\\n",
       "0             2147           23            51          All Levels   \n",
       "1             2792          923           274          All Levels   \n",
       "2             2174           74            51  Intermediate Level   \n",
       "\n",
       "   content_duration published_timestamp           subject  gross_earnings  \n",
       "0               1.5          2017-01-18  Business Finance          429400  \n",
       "1              39.0          2017-03-09  Business Finance          209400  \n",
       "2               2.5          2016-12-19  Business Finance           97830  "
      ]
     },
     "execution_count": 175,
     "metadata": {},
     "output_type": "execute_result"
    }
   ],
   "source": [
    "#developing a calculated column \"Gross Earnings\" based on total subscribers * price\n",
    "df['gross_earnings'] = df['price'] * df['num_subscribers'] \n",
    "df.head(3)"
   ]
  },
  {
   "cell_type": "code",
   "execution_count": 177,
   "metadata": {},
   "outputs": [
    {
     "data": {
      "text/html": [
       "<div>\n",
       "<style scoped>\n",
       "    .dataframe tbody tr th:only-of-type {\n",
       "        vertical-align: middle;\n",
       "    }\n",
       "\n",
       "    .dataframe tbody tr th {\n",
       "        vertical-align: top;\n",
       "    }\n",
       "\n",
       "    .dataframe thead th {\n",
       "        text-align: right;\n",
       "    }\n",
       "</style>\n",
       "<table border=\"1\" class=\"dataframe\">\n",
       "  <thead>\n",
       "    <tr style=\"text-align: right;\">\n",
       "      <th></th>\n",
       "      <th>course_title</th>\n",
       "      <th>is_paid</th>\n",
       "      <th>price</th>\n",
       "      <th>num_subscribers</th>\n",
       "      <th>num_reviews</th>\n",
       "      <th>num_lectures</th>\n",
       "      <th>level</th>\n",
       "      <th>content_duration</th>\n",
       "      <th>published_timestamp</th>\n",
       "      <th>subject</th>\n",
       "      <th>gross_earnings</th>\n",
       "      <th>month</th>\n",
       "    </tr>\n",
       "  </thead>\n",
       "  <tbody>\n",
       "    <tr>\n",
       "      <th>0</th>\n",
       "      <td>Ultimate Investment Banking Course</td>\n",
       "      <td>True</td>\n",
       "      <td>200</td>\n",
       "      <td>2147</td>\n",
       "      <td>23</td>\n",
       "      <td>51</td>\n",
       "      <td>All Levels</td>\n",
       "      <td>1.5</td>\n",
       "      <td>2017-01-18</td>\n",
       "      <td>Business Finance</td>\n",
       "      <td>429400</td>\n",
       "      <td>1</td>\n",
       "    </tr>\n",
       "    <tr>\n",
       "      <th>1</th>\n",
       "      <td>Complete GST Course &amp; Certification - Grow You...</td>\n",
       "      <td>True</td>\n",
       "      <td>75</td>\n",
       "      <td>2792</td>\n",
       "      <td>923</td>\n",
       "      <td>274</td>\n",
       "      <td>All Levels</td>\n",
       "      <td>39.0</td>\n",
       "      <td>2017-03-09</td>\n",
       "      <td>Business Finance</td>\n",
       "      <td>209400</td>\n",
       "      <td>3</td>\n",
       "    </tr>\n",
       "    <tr>\n",
       "      <th>2</th>\n",
       "      <td>Financial Modeling for Business Analysts and C...</td>\n",
       "      <td>True</td>\n",
       "      <td>45</td>\n",
       "      <td>2174</td>\n",
       "      <td>74</td>\n",
       "      <td>51</td>\n",
       "      <td>Intermediate Level</td>\n",
       "      <td>2.5</td>\n",
       "      <td>2016-12-19</td>\n",
       "      <td>Business Finance</td>\n",
       "      <td>97830</td>\n",
       "      <td>12</td>\n",
       "    </tr>\n",
       "  </tbody>\n",
       "</table>\n",
       "</div>"
      ],
      "text/plain": [
       "                                        course_title  is_paid  price  \\\n",
       "0                 Ultimate Investment Banking Course     True    200   \n",
       "1  Complete GST Course & Certification - Grow You...     True     75   \n",
       "2  Financial Modeling for Business Analysts and C...     True     45   \n",
       "\n",
       "   num_subscribers  num_reviews  num_lectures               level  \\\n",
       "0             2147           23            51          All Levels   \n",
       "1             2792          923           274          All Levels   \n",
       "2             2174           74            51  Intermediate Level   \n",
       "\n",
       "   content_duration published_timestamp           subject  gross_earnings  \\\n",
       "0               1.5          2017-01-18  Business Finance          429400   \n",
       "1              39.0          2017-03-09  Business Finance          209400   \n",
       "2               2.5          2016-12-19  Business Finance           97830   \n",
       "\n",
       "   month  \n",
       "0      1  \n",
       "1      3  \n",
       "2     12  "
      ]
     },
     "execution_count": 177,
     "metadata": {},
     "output_type": "execute_result"
    }
   ],
   "source": [
    "#getting month from published_date\n",
    "\n",
    "df['month'] = df['published_timestamp'].dt.month\n",
    "df.head(3)"
   ]
  },
  {
   "cell_type": "code",
   "execution_count": 178,
   "metadata": {},
   "outputs": [
    {
     "data": {
      "text/html": [
       "<div>\n",
       "<style scoped>\n",
       "    .dataframe tbody tr th:only-of-type {\n",
       "        vertical-align: middle;\n",
       "    }\n",
       "\n",
       "    .dataframe tbody tr th {\n",
       "        vertical-align: top;\n",
       "    }\n",
       "\n",
       "    .dataframe thead th {\n",
       "        text-align: right;\n",
       "    }\n",
       "</style>\n",
       "<table border=\"1\" class=\"dataframe\">\n",
       "  <thead>\n",
       "    <tr style=\"text-align: right;\">\n",
       "      <th></th>\n",
       "      <th>course_title</th>\n",
       "      <th>is_paid</th>\n",
       "      <th>price</th>\n",
       "      <th>num_subscribers</th>\n",
       "      <th>num_reviews</th>\n",
       "      <th>num_lectures</th>\n",
       "      <th>level</th>\n",
       "      <th>content_duration</th>\n",
       "      <th>published_timestamp</th>\n",
       "      <th>subject</th>\n",
       "      <th>gross_earnings</th>\n",
       "      <th>month</th>\n",
       "      <th>year</th>\n",
       "    </tr>\n",
       "  </thead>\n",
       "  <tbody>\n",
       "    <tr>\n",
       "      <th>0</th>\n",
       "      <td>Ultimate Investment Banking Course</td>\n",
       "      <td>True</td>\n",
       "      <td>200</td>\n",
       "      <td>2147</td>\n",
       "      <td>23</td>\n",
       "      <td>51</td>\n",
       "      <td>All Levels</td>\n",
       "      <td>1.5</td>\n",
       "      <td>2017-01-18</td>\n",
       "      <td>Business Finance</td>\n",
       "      <td>429400</td>\n",
       "      <td>1</td>\n",
       "      <td>2017</td>\n",
       "    </tr>\n",
       "    <tr>\n",
       "      <th>1</th>\n",
       "      <td>Complete GST Course &amp; Certification - Grow You...</td>\n",
       "      <td>True</td>\n",
       "      <td>75</td>\n",
       "      <td>2792</td>\n",
       "      <td>923</td>\n",
       "      <td>274</td>\n",
       "      <td>All Levels</td>\n",
       "      <td>39.0</td>\n",
       "      <td>2017-03-09</td>\n",
       "      <td>Business Finance</td>\n",
       "      <td>209400</td>\n",
       "      <td>3</td>\n",
       "      <td>2017</td>\n",
       "    </tr>\n",
       "  </tbody>\n",
       "</table>\n",
       "</div>"
      ],
      "text/plain": [
       "                                        course_title  is_paid  price  \\\n",
       "0                 Ultimate Investment Banking Course     True    200   \n",
       "1  Complete GST Course & Certification - Grow You...     True     75   \n",
       "\n",
       "   num_subscribers  num_reviews  num_lectures       level  content_duration  \\\n",
       "0             2147           23            51  All Levels               1.5   \n",
       "1             2792          923           274  All Levels              39.0   \n",
       "\n",
       "  published_timestamp           subject  gross_earnings  month  year  \n",
       "0          2017-01-18  Business Finance          429400      1  2017  \n",
       "1          2017-03-09  Business Finance          209400      3  2017  "
      ]
     },
     "execution_count": 178,
     "metadata": {},
     "output_type": "execute_result"
    }
   ],
   "source": [
    "#getting year from published_timestamp column\n",
    "df['year'] = df['published_timestamp'].dt.year\n",
    "df.head(2) "
   ]
  },
  {
   "cell_type": "markdown",
   "metadata": {},
   "source": [
    "Checking for correlations in dataset"
   ]
  },
  {
   "cell_type": "code",
   "execution_count": 161,
   "metadata": {},
   "outputs": [
    {
     "data": {
      "text/plain": [
       "Text(0.5, 1.0, 'Correlation in the dataset')"
      ]
     },
     "execution_count": 161,
     "metadata": {},
     "output_type": "execute_result"
    },
    {
     "data": {
      "image/png": "[encoded data removed]",
      "text/plain": [
       "<Figure size 864x432 with 2 Axes>"
      ]
     },
     "metadata": {
      "needs_background": "light"
     },
     "output_type": "display_data"
    }
   ],
   "source": [
    "import seaborn as sns\n",
    "plt.figure(figsize=(12,6))\n",
    "sns.heatmap(df.corr(), annot=True)\n",
    "plt.title(\"Correlation in the dataset\")"
   ]
  },
  {
   "cell_type": "markdown",
   "metadata": {},
   "source": [
    "Analysis"
   ]
  },
  {
   "cell_type": "markdown",
   "metadata": {},
   "source": [
    "Pie chart on number of paid and free courses"
   ]
  },
  {
   "cell_type": "code",
   "execution_count": 14,
   "metadata": {},
   "outputs": [
    {
     "data": {
      "text/plain": [
       "<matplotlib.legend.Legend at 0x1dbb043f460>"
      ]
     },
     "execution_count": 14,
     "metadata": {},
     "output_type": "execute_result"
    },
    {
     "data": {
      "image/png": "[encoded data removed]",
      "text/plain": [
       "<Figure size 864x432 with 1 Axes>"
      ]
     },
     "metadata": {},
     "output_type": "display_data"
    }
   ],
   "source": [
    "\n",
    "df['is_paid'].value_counts().plot(kind='pie', startangle=90, autopct='%1.2f', labels=['Paid', 'Free'], figsize=(12,6))\n",
    "plt.title(\"Paid Courses Vs Free Courses\")\n",
    "plt.legend()"
   ]
  },
  {
   "cell_type": "markdown",
   "metadata": {},
   "source": [
    "Course Development Over The Years"
   ]
  },
  {
   "cell_type": "code",
   "execution_count": 15,
   "metadata": {},
   "outputs": [
    {
     "data": {
      "text/plain": [
       "Text(0.5, 1.0, 'Course Development Over The Years')"
      ]
     },
     "execution_count": 15,
     "metadata": {},
     "output_type": "execute_result"
    },
    {
     "data": {
      "image/png": "[encoded data removed]",
      "text/plain": [
       "<Figure size 864x432 with 1 Axes>"
      ]
     },
     "metadata": {
      "needs_background": "light"
     },
     "output_type": "display_data"
    }
   ],
   "source": [
    "groupedYear = df.groupby(by='year').count()['course_title'].reset_index()\n",
    "groupedYear.head()\n",
    "\n",
    "plt.figure(figsize=(12,6))\n",
    "sns.lineplot(data=groupedYear, x='year', y='course_title')\n",
    "plt.title(\"Course Development Over The Years\")"
   ]
  },
  {
   "cell_type": "markdown",
   "metadata": {},
   "source": [
    "Trend of Free Courses Over The Years"
   ]
  },
  {
   "cell_type": "code",
   "execution_count": 16,
   "metadata": {},
   "outputs": [
    {
     "data": {
      "text/plain": [
       "Text(0.5, 1.0, 'Trend of Free Courses Over The Years')"
      ]
     },
     "execution_count": 16,
     "metadata": {},
     "output_type": "execute_result"
    },
    {
     "data": {
      "image/png": "[encoded data removed]",
      "text/plain": [
       "<Figure size 864x432 with 1 Axes>"
      ]
     },
     "metadata": {
      "needs_background": "light"
     },
     "output_type": "display_data"
    }
   ],
   "source": [
    "freeDf = df[df['is_paid'] == False]\n",
    "\n",
    "groupedFree = freeDf.groupby(by='year').count()['course_title'].reset_index()\n",
    "\n",
    "plt.figure(figsize=(12,6))\n",
    "sns.lineplot(data=groupedFree, x='year', y='course_title')\n",
    "plt.title(\"Trend of Free Courses Over The Years\")"
   ]
  },
  {
   "cell_type": "markdown",
   "metadata": {},
   "source": [
    "Trend of Paid Courses Over The Year"
   ]
  },
  {
   "cell_type": "code",
   "execution_count": 17,
   "metadata": {},
   "outputs": [
    {
     "data": {
      "text/plain": [
       "Text(0.5, 1.0, 'Trend of Paid Courses Over The Years')"
      ]
     },
     "execution_count": 17,
     "metadata": {},
     "output_type": "execute_result"
    },
    {
     "data": {
      "image/png": "[encoded data removed]",
      "text/plain": [
       "<Figure size 864x432 with 1 Axes>"
      ]
     },
     "metadata": {
      "needs_background": "light"
     },
     "output_type": "display_data"
    }
   ],
   "source": [
    "freeDf = df[df['is_paid'] == True]\n",
    "\n",
    "groupedPaid = freeDf.groupby(by='year').count()['course_title'].reset_index()\n",
    "\n",
    "plt.figure(figsize=(12,6))\n",
    "sns.lineplot(data=groupedPaid, x='year', y='course_title')\n",
    "plt.title(\"Trend of Paid Courses Over The Years\")"
   ]
  },
  {
   "cell_type": "markdown",
   "metadata": {},
   "source": [
    "Courses By Levels"
   ]
  },
  {
   "cell_type": "code",
   "execution_count": 18,
   "metadata": {},
   "outputs": [
    {
     "name": "stderr",
     "output_type": "stream",
     "text": [
      "C:\\Users\\1992729\\AppData\\Roaming\\Python\\Python39\\site-packages\\seaborn\\_decorators.py:36: FutureWarning: Pass the following variable as a keyword arg: x. From version 0.12, the only valid positional argument will be `data`, and passing other arguments without an explicit keyword will result in an error or misinterpretation.\n",
      "  warnings.warn(\n"
     ]
    },
    {
     "data": {
      "text/plain": [
       "Text(0, 0.5, 'Number of courses')"
      ]
     },
     "execution_count": 18,
     "metadata": {},
     "output_type": "execute_result"
    },
    {
     "data": {
      "image/png": "[encoded data removed]",
      "text/plain": [
       "<Figure size 864x432 with 1 Axes>"
      ]
     },
     "metadata": {
      "needs_background": "light"
     },
     "output_type": "display_data"
    }
   ],
   "source": [
    "plt.figure(figsize=(12,6))\n",
    "sns.countplot(df['level'])\n",
    "plt.title(\"Level Wise Courses\")\n",
    "plt.ylabel(\"Number of courses\")"
   ]
  },
  {
   "cell_type": "markdown",
   "metadata": {},
   "source": [
    "Courses By Category"
   ]
  },
  {
   "cell_type": "code",
   "execution_count": 19,
   "metadata": {},
   "outputs": [
    {
     "name": "stderr",
     "output_type": "stream",
     "text": [
      "C:\\Users\\1992729\\AppData\\Roaming\\Python\\Python39\\site-packages\\seaborn\\_decorators.py:36: FutureWarning: Pass the following variable as a keyword arg: x. From version 0.12, the only valid positional argument will be `data`, and passing other arguments without an explicit keyword will result in an error or misinterpretation.\n",
      "  warnings.warn(\n"
     ]
    },
    {
     "data": {
      "text/plain": [
       "Text(0, 0.5, 'Number of courses')"
      ]
     },
     "execution_count": 19,
     "metadata": {},
     "output_type": "execute_result"
    },
    {
     "data": {
      "image/png": "[encoded data removed]",
      "text/plain": [
       "<Figure size 864x432 with 1 Axes>"
      ]
     },
     "metadata": {
      "needs_background": "light"
     },
     "output_type": "display_data"
    }
   ],
   "source": [
    "plt.figure(figsize=(12,6))\n",
    "sns.countplot(df['subject'])\n",
    "plt.title(\"Subject Wise Courses\")\n",
    "plt.ylabel(\"Number of courses\")"
   ]
  },
  {
   "cell_type": "markdown",
   "metadata": {},
   "source": [
    "Pie chart on subject counts"
   ]
  },
  {
   "cell_type": "code",
   "execution_count": 20,
   "metadata": {},
   "outputs": [
    {
     "data": {
      "text/plain": [
       "Text(0.5, 1.0, 'Subject Distribution In Dataset')"
      ]
     },
     "execution_count": 20,
     "metadata": {},
     "output_type": "execute_result"
    },
    {
     "data": {
      "image/png": "[encoded data removed]",
      "text/plain": [
       "<Figure size 864x432 with 1 Axes>"
      ]
     },
     "metadata": {},
     "output_type": "display_data"
    }
   ],
   "source": [
    "plt.figure(figsize=(12,6))\n",
    "df['subject'].value_counts().plot(kind='pie', startangle=90, autopct='%1.2f')\n",
    "plt.title(\"Subject Distribution In Dataset\")"
   ]
  },
  {
   "cell_type": "markdown",
   "metadata": {},
   "source": [
    "Courses By Year"
   ]
  },
  {
   "cell_type": "code",
   "execution_count": 21,
   "metadata": {},
   "outputs": [
    {
     "name": "stderr",
     "output_type": "stream",
     "text": [
      "C:\\Users\\1992729\\AppData\\Roaming\\Python\\Python39\\site-packages\\seaborn\\_decorators.py:36: FutureWarning: Pass the following variable as a keyword arg: x. From version 0.12, the only valid positional argument will be `data`, and passing other arguments without an explicit keyword will result in an error or misinterpretation.\n",
      "  warnings.warn(\n"
     ]
    },
    {
     "data": {
      "text/plain": [
       "Text(0, 0.5, 'Number of Courses')"
      ]
     },
     "execution_count": 21,
     "metadata": {},
     "output_type": "execute_result"
    },
    {
     "data": {
      "image/png": "[encoded data removed]",
      "text/plain": [
       "<Figure size 864x432 with 1 Axes>"
      ]
     },
     "metadata": {
      "needs_background": "light"
     },
     "output_type": "display_data"
    }
   ],
   "source": [
    "\n",
    "plt.figure(figsize=(12,6))\n",
    "sns.countplot(df['year'])\n",
    "plt.title('Courses By Year')\n",
    "plt.ylabel('Number of Courses')"
   ]
  },
  {
   "cell_type": "code",
   "execution_count": 85,
   "metadata": {},
   "outputs": [
    {
     "data": {
      "text/plain": [
       "2016    1206\n",
       "2015    1014\n",
       "2017     715\n",
       "2014     491\n",
       "2013     202\n",
       "2012      45\n",
       "2011       5\n",
       "Name: year, dtype: int64"
      ]
     },
     "execution_count": 85,
     "metadata": {},
     "output_type": "execute_result"
    }
   ],
   "source": [
    "df['year'].value_counts()"
   ]
  },
  {
   "cell_type": "markdown",
   "metadata": {},
   "source": [
    "Trend of Course Development By Month"
   ]
  },
  {
   "cell_type": "code",
   "execution_count": 22,
   "metadata": {},
   "outputs": [
    {
     "data": {
      "text/plain": [
       "Text(0.5, 1.0, 'Trend of course development by month')"
      ]
     },
     "execution_count": 22,
     "metadata": {},
     "output_type": "execute_result"
    },
    {
     "data": {
      "image/png": "[encoded data removed]",
      "text/plain": [
       "<Figure size 864x432 with 1 Axes>"
      ]
     },
     "metadata": {
      "needs_background": "light"
     },
     "output_type": "display_data"
    }
   ],
   "source": [
    "groupedMonth = df.groupby(by='month').count().reset_index()\n",
    "plt.figure(figsize=(12,6))\n",
    "sns.lineplot(data=groupedMonth, x='month', y='course_title')\n",
    "plt.title('Trend of course development by month')"
   ]
  },
  {
   "cell_type": "markdown",
   "metadata": {},
   "source": [
    "Analysis on Business Finance Courses"
   ]
  },
  {
   "cell_type": "markdown",
   "metadata": {},
   "source": [
    "Top 5 Course In Business and Finance Based On Subscriber Count"
   ]
  },
  {
   "cell_type": "code",
   "execution_count": 23,
   "metadata": {},
   "outputs": [
    {
     "data": {
      "text/html": [
       "<div>\n",
       "<style scoped>\n",
       "    .dataframe tbody tr th:only-of-type {\n",
       "        vertical-align: middle;\n",
       "    }\n",
       "\n",
       "    .dataframe tbody tr th {\n",
       "        vertical-align: top;\n",
       "    }\n",
       "\n",
       "    .dataframe thead th {\n",
       "        text-align: right;\n",
       "    }\n",
       "</style>\n",
       "<table border=\"1\" class=\"dataframe\">\n",
       "  <thead>\n",
       "    <tr style=\"text-align: right;\">\n",
       "      <th></th>\n",
       "      <th>course_title</th>\n",
       "      <th>is_paid</th>\n",
       "      <th>price</th>\n",
       "      <th>num_subscribers</th>\n",
       "      <th>num_reviews</th>\n",
       "      <th>num_lectures</th>\n",
       "      <th>level</th>\n",
       "      <th>content_duration</th>\n",
       "      <th>published_timestamp</th>\n",
       "      <th>subject</th>\n",
       "      <th>gross_earnings</th>\n",
       "      <th>month</th>\n",
       "      <th>year</th>\n",
       "    </tr>\n",
       "  </thead>\n",
       "  <tbody>\n",
       "    <tr>\n",
       "      <th>492</th>\n",
       "      <td>Bitcoin or How I Learned to Stop Worrying and ...</td>\n",
       "      <td>False</td>\n",
       "      <td>0</td>\n",
       "      <td>65576</td>\n",
       "      <td>936</td>\n",
       "      <td>24</td>\n",
       "      <td>All Levels</td>\n",
       "      <td>8.0</td>\n",
       "      <td>2013-04-20</td>\n",
       "      <td>Business Finance</td>\n",
       "      <td>0</td>\n",
       "      <td>4</td>\n",
       "      <td>2013</td>\n",
       "    </tr>\n",
       "    <tr>\n",
       "      <th>143</th>\n",
       "      <td>Accounting in 60 Minutes - A Brief Introduction</td>\n",
       "      <td>False</td>\n",
       "      <td>0</td>\n",
       "      <td>56659</td>\n",
       "      <td>4397</td>\n",
       "      <td>16</td>\n",
       "      <td>Beginner Level</td>\n",
       "      <td>1.5</td>\n",
       "      <td>2013-04-07</td>\n",
       "      <td>Business Finance</td>\n",
       "      <td>0</td>\n",
       "      <td>4</td>\n",
       "      <td>2013</td>\n",
       "    </tr>\n",
       "    <tr>\n",
       "      <th>103</th>\n",
       "      <td>Stock Market Investing for Beginners</td>\n",
       "      <td>False</td>\n",
       "      <td>0</td>\n",
       "      <td>50855</td>\n",
       "      <td>2698</td>\n",
       "      <td>15</td>\n",
       "      <td>Beginner Level</td>\n",
       "      <td>1.5</td>\n",
       "      <td>2013-12-25</td>\n",
       "      <td>Business Finance</td>\n",
       "      <td>0</td>\n",
       "      <td>12</td>\n",
       "      <td>2013</td>\n",
       "    </tr>\n",
       "    <tr>\n",
       "      <th>119</th>\n",
       "      <td>Introduction to Financial Modeling</td>\n",
       "      <td>False</td>\n",
       "      <td>0</td>\n",
       "      <td>29167</td>\n",
       "      <td>1463</td>\n",
       "      <td>8</td>\n",
       "      <td>Intermediate Level</td>\n",
       "      <td>1.5</td>\n",
       "      <td>2014-05-27</td>\n",
       "      <td>Business Finance</td>\n",
       "      <td>0</td>\n",
       "      <td>5</td>\n",
       "      <td>2014</td>\n",
       "    </tr>\n",
       "    <tr>\n",
       "      <th>40</th>\n",
       "      <td>The Complete Financial Analyst Course 2017</td>\n",
       "      <td>True</td>\n",
       "      <td>195</td>\n",
       "      <td>24481</td>\n",
       "      <td>2347</td>\n",
       "      <td>174</td>\n",
       "      <td>All Levels</td>\n",
       "      <td>10.0</td>\n",
       "      <td>2016-01-21</td>\n",
       "      <td>Business Finance</td>\n",
       "      <td>4773795</td>\n",
       "      <td>1</td>\n",
       "      <td>2016</td>\n",
       "    </tr>\n",
       "  </tbody>\n",
       "</table>\n",
       "</div>"
      ],
      "text/plain": [
       "                                          course_title  is_paid  price  \\\n",
       "492  Bitcoin or How I Learned to Stop Worrying and ...    False      0   \n",
       "143    Accounting in 60 Minutes - A Brief Introduction    False      0   \n",
       "103               Stock Market Investing for Beginners    False      0   \n",
       "119                 Introduction to Financial Modeling    False      0   \n",
       "40          The Complete Financial Analyst Course 2017     True    195   \n",
       "\n",
       "     num_subscribers  num_reviews  num_lectures               level  \\\n",
       "492            65576          936            24          All Levels   \n",
       "143            56659         4397            16      Beginner Level   \n",
       "103            50855         2698            15      Beginner Level   \n",
       "119            29167         1463             8  Intermediate Level   \n",
       "40             24481         2347           174          All Levels   \n",
       "\n",
       "     content_duration published_timestamp           subject  gross_earnings  \\\n",
       "492               8.0          2013-04-20  Business Finance               0   \n",
       "143               1.5          2013-04-07  Business Finance               0   \n",
       "103               1.5          2013-12-25  Business Finance               0   \n",
       "119               1.5          2014-05-27  Business Finance               0   \n",
       "40               10.0          2016-01-21  Business Finance         4773795   \n",
       "\n",
       "     month  year  \n",
       "492      4  2013  \n",
       "143      4  2013  \n",
       "103     12  2013  \n",
       "119      5  2014  \n",
       "40       1  2016  "
      ]
     },
     "execution_count": 23,
     "metadata": {},
     "output_type": "execute_result"
    }
   ],
   "source": [
    "df[(df['subject'] == \"Business Finance\")].sort_values(by='num_subscribers', ascending=False)[:5]"
   ]
  },
  {
   "cell_type": "markdown",
   "metadata": {},
   "source": [
    "Most Reviewed Business Finance Course"
   ]
  },
  {
   "cell_type": "code",
   "execution_count": 24,
   "metadata": {},
   "outputs": [
    {
     "data": {
      "text/html": [
       "<div>\n",
       "<style scoped>\n",
       "    .dataframe tbody tr th:only-of-type {\n",
       "        vertical-align: middle;\n",
       "    }\n",
       "\n",
       "    .dataframe tbody tr th {\n",
       "        vertical-align: top;\n",
       "    }\n",
       "\n",
       "    .dataframe thead th {\n",
       "        text-align: right;\n",
       "    }\n",
       "</style>\n",
       "<table border=\"1\" class=\"dataframe\">\n",
       "  <thead>\n",
       "    <tr style=\"text-align: right;\">\n",
       "      <th></th>\n",
       "      <th>course_title</th>\n",
       "      <th>is_paid</th>\n",
       "      <th>price</th>\n",
       "      <th>num_subscribers</th>\n",
       "      <th>num_reviews</th>\n",
       "      <th>num_lectures</th>\n",
       "      <th>level</th>\n",
       "      <th>content_duration</th>\n",
       "      <th>published_timestamp</th>\n",
       "      <th>subject</th>\n",
       "      <th>gross_earnings</th>\n",
       "      <th>month</th>\n",
       "      <th>year</th>\n",
       "    </tr>\n",
       "  </thead>\n",
       "  <tbody>\n",
       "    <tr>\n",
       "      <th>143</th>\n",
       "      <td>Accounting in 60 Minutes - A Brief Introduction</td>\n",
       "      <td>False</td>\n",
       "      <td>0</td>\n",
       "      <td>56659</td>\n",
       "      <td>4397</td>\n",
       "      <td>16</td>\n",
       "      <td>Beginner Level</td>\n",
       "      <td>1.5</td>\n",
       "      <td>2013-04-07</td>\n",
       "      <td>Business Finance</td>\n",
       "      <td>0</td>\n",
       "      <td>4</td>\n",
       "      <td>2013</td>\n",
       "    </tr>\n",
       "    <tr>\n",
       "      <th>103</th>\n",
       "      <td>Stock Market Investing for Beginners</td>\n",
       "      <td>False</td>\n",
       "      <td>0</td>\n",
       "      <td>50855</td>\n",
       "      <td>2698</td>\n",
       "      <td>15</td>\n",
       "      <td>Beginner Level</td>\n",
       "      <td>1.5</td>\n",
       "      <td>2013-12-25</td>\n",
       "      <td>Business Finance</td>\n",
       "      <td>0</td>\n",
       "      <td>12</td>\n",
       "      <td>2013</td>\n",
       "    </tr>\n",
       "    <tr>\n",
       "      <th>38</th>\n",
       "      <td>Beginner to Pro in Excel: Financial Modeling a...</td>\n",
       "      <td>True</td>\n",
       "      <td>195</td>\n",
       "      <td>22257</td>\n",
       "      <td>2697</td>\n",
       "      <td>138</td>\n",
       "      <td>All Levels</td>\n",
       "      <td>7.5</td>\n",
       "      <td>2014-11-25</td>\n",
       "      <td>Business Finance</td>\n",
       "      <td>4340115</td>\n",
       "      <td>11</td>\n",
       "      <td>2014</td>\n",
       "    </tr>\n",
       "    <tr>\n",
       "      <th>36</th>\n",
       "      <td>Forex Trading A-Z™ - With LIVE Examples of For...</td>\n",
       "      <td>True</td>\n",
       "      <td>195</td>\n",
       "      <td>16900</td>\n",
       "      <td>2476</td>\n",
       "      <td>52</td>\n",
       "      <td>Beginner Level</td>\n",
       "      <td>5.5</td>\n",
       "      <td>2014-12-12</td>\n",
       "      <td>Business Finance</td>\n",
       "      <td>3295500</td>\n",
       "      <td>12</td>\n",
       "      <td>2014</td>\n",
       "    </tr>\n",
       "    <tr>\n",
       "      <th>40</th>\n",
       "      <td>The Complete Financial Analyst Course 2017</td>\n",
       "      <td>True</td>\n",
       "      <td>195</td>\n",
       "      <td>24481</td>\n",
       "      <td>2347</td>\n",
       "      <td>174</td>\n",
       "      <td>All Levels</td>\n",
       "      <td>10.0</td>\n",
       "      <td>2016-01-21</td>\n",
       "      <td>Business Finance</td>\n",
       "      <td>4773795</td>\n",
       "      <td>1</td>\n",
       "      <td>2016</td>\n",
       "    </tr>\n",
       "  </tbody>\n",
       "</table>\n",
       "</div>"
      ],
      "text/plain": [
       "                                          course_title  is_paid  price  \\\n",
       "143    Accounting in 60 Minutes - A Brief Introduction    False      0   \n",
       "103               Stock Market Investing for Beginners    False      0   \n",
       "38   Beginner to Pro in Excel: Financial Modeling a...     True    195   \n",
       "36   Forex Trading A-Z™ - With LIVE Examples of For...     True    195   \n",
       "40          The Complete Financial Analyst Course 2017     True    195   \n",
       "\n",
       "     num_subscribers  num_reviews  num_lectures           level  \\\n",
       "143            56659         4397            16  Beginner Level   \n",
       "103            50855         2698            15  Beginner Level   \n",
       "38             22257         2697           138      All Levels   \n",
       "36             16900         2476            52  Beginner Level   \n",
       "40             24481         2347           174      All Levels   \n",
       "\n",
       "     content_duration published_timestamp           subject  gross_earnings  \\\n",
       "143               1.5          2013-04-07  Business Finance               0   \n",
       "103               1.5          2013-12-25  Business Finance               0   \n",
       "38                7.5          2014-11-25  Business Finance         4340115   \n",
       "36                5.5          2014-12-12  Business Finance         3295500   \n",
       "40               10.0          2016-01-21  Business Finance         4773795   \n",
       "\n",
       "     month  year  \n",
       "143      4  2013  \n",
       "103     12  2013  \n",
       "38      11  2014  \n",
       "36      12  2014  \n",
       "40       1  2016  "
      ]
     },
     "execution_count": 24,
     "metadata": {},
     "output_type": "execute_result"
    }
   ],
   "source": [
    "df[(df['subject'] == \"Business Finance\")].sort_values(by='num_reviews', ascending=False)[:5]"
   ]
  },
  {
   "cell_type": "markdown",
   "metadata": {},
   "source": [
    "Longest Business Finance Courses"
   ]
  },
  {
   "cell_type": "code",
   "execution_count": 25,
   "metadata": {},
   "outputs": [
    {
     "data": {
      "text/html": [
       "<div>\n",
       "<style scoped>\n",
       "    .dataframe tbody tr th:only-of-type {\n",
       "        vertical-align: middle;\n",
       "    }\n",
       "\n",
       "    .dataframe tbody tr th {\n",
       "        vertical-align: top;\n",
       "    }\n",
       "\n",
       "    .dataframe thead th {\n",
       "        text-align: right;\n",
       "    }\n",
       "</style>\n",
       "<table border=\"1\" class=\"dataframe\">\n",
       "  <thead>\n",
       "    <tr style=\"text-align: right;\">\n",
       "      <th></th>\n",
       "      <th>course_title</th>\n",
       "      <th>is_paid</th>\n",
       "      <th>price</th>\n",
       "      <th>num_subscribers</th>\n",
       "      <th>num_reviews</th>\n",
       "      <th>num_lectures</th>\n",
       "      <th>level</th>\n",
       "      <th>content_duration</th>\n",
       "      <th>published_timestamp</th>\n",
       "      <th>subject</th>\n",
       "      <th>gross_earnings</th>\n",
       "      <th>month</th>\n",
       "      <th>year</th>\n",
       "    </tr>\n",
       "  </thead>\n",
       "  <tbody>\n",
       "    <tr>\n",
       "      <th>561</th>\n",
       "      <td>Financial Management - A Complete Study</td>\n",
       "      <td>True</td>\n",
       "      <td>190</td>\n",
       "      <td>1941</td>\n",
       "      <td>128</td>\n",
       "      <td>527</td>\n",
       "      <td>All Levels</td>\n",
       "      <td>71.5</td>\n",
       "      <td>2014-12-22</td>\n",
       "      <td>Business Finance</td>\n",
       "      <td>368790</td>\n",
       "      <td>12</td>\n",
       "      <td>2014</td>\n",
       "    </tr>\n",
       "    <tr>\n",
       "      <th>874</th>\n",
       "      <td>TRADER BOT: Introdução à Linguagem MQL5</td>\n",
       "      <td>True</td>\n",
       "      <td>20</td>\n",
       "      <td>209</td>\n",
       "      <td>33</td>\n",
       "      <td>33</td>\n",
       "      <td>All Levels</td>\n",
       "      <td>70.0</td>\n",
       "      <td>2014-03-07</td>\n",
       "      <td>Business Finance</td>\n",
       "      <td>4180</td>\n",
       "      <td>3</td>\n",
       "      <td>2014</td>\n",
       "    </tr>\n",
       "    <tr>\n",
       "      <th>114</th>\n",
       "      <td>Advanced Accounting A Complete Study for CA / ...</td>\n",
       "      <td>True</td>\n",
       "      <td>150</td>\n",
       "      <td>1535</td>\n",
       "      <td>16</td>\n",
       "      <td>462</td>\n",
       "      <td>All Levels</td>\n",
       "      <td>62.0</td>\n",
       "      <td>2016-06-03</td>\n",
       "      <td>Business Finance</td>\n",
       "      <td>230250</td>\n",
       "      <td>6</td>\n",
       "      <td>2016</td>\n",
       "    </tr>\n",
       "    <tr>\n",
       "      <th>590</th>\n",
       "      <td>Financial Risk Manager (FRM) Certification: Le...</td>\n",
       "      <td>True</td>\n",
       "      <td>50</td>\n",
       "      <td>86</td>\n",
       "      <td>7</td>\n",
       "      <td>87</td>\n",
       "      <td>All Levels</td>\n",
       "      <td>47.0</td>\n",
       "      <td>2013-07-24</td>\n",
       "      <td>Business Finance</td>\n",
       "      <td>4300</td>\n",
       "      <td>7</td>\n",
       "      <td>2013</td>\n",
       "    </tr>\n",
       "    <tr>\n",
       "      <th>160</th>\n",
       "      <td>Learn to Trade The News</td>\n",
       "      <td>True</td>\n",
       "      <td>200</td>\n",
       "      <td>1924</td>\n",
       "      <td>351</td>\n",
       "      <td>544</td>\n",
       "      <td>All Levels</td>\n",
       "      <td>46.5</td>\n",
       "      <td>2015-07-16</td>\n",
       "      <td>Business Finance</td>\n",
       "      <td>384800</td>\n",
       "      <td>7</td>\n",
       "      <td>2015</td>\n",
       "    </tr>\n",
       "  </tbody>\n",
       "</table>\n",
       "</div>"
      ],
      "text/plain": [
       "                                          course_title  is_paid  price  \\\n",
       "561            Financial Management - A Complete Study     True    190   \n",
       "874            TRADER BOT: Introdução à Linguagem MQL5     True     20   \n",
       "114  Advanced Accounting A Complete Study for CA / ...     True    150   \n",
       "590  Financial Risk Manager (FRM) Certification: Le...     True     50   \n",
       "160                            Learn to Trade The News     True    200   \n",
       "\n",
       "     num_subscribers  num_reviews  num_lectures       level  content_duration  \\\n",
       "561             1941          128           527  All Levels              71.5   \n",
       "874              209           33            33  All Levels              70.0   \n",
       "114             1535           16           462  All Levels              62.0   \n",
       "590               86            7            87  All Levels              47.0   \n",
       "160             1924          351           544  All Levels              46.5   \n",
       "\n",
       "    published_timestamp           subject  gross_earnings  month  year  \n",
       "561          2014-12-22  Business Finance          368790     12  2014  \n",
       "874          2014-03-07  Business Finance            4180      3  2014  \n",
       "114          2016-06-03  Business Finance          230250      6  2016  \n",
       "590          2013-07-24  Business Finance            4300      7  2013  \n",
       "160          2015-07-16  Business Finance          384800      7  2015  "
      ]
     },
     "execution_count": 25,
     "metadata": {},
     "output_type": "execute_result"
    }
   ],
   "source": [
    "df[(df['subject'] == \"Business Finance\")].sort_values(by='content_duration', ascending=False)[:5]"
   ]
  },
  {
   "cell_type": "markdown",
   "metadata": {},
   "source": [
    "Costliest Business Finance Courses"
   ]
  },
  {
   "cell_type": "code",
   "execution_count": 26,
   "metadata": {},
   "outputs": [
    {
     "data": {
      "text/html": [
       "<div>\n",
       "<style scoped>\n",
       "    .dataframe tbody tr th:only-of-type {\n",
       "        vertical-align: middle;\n",
       "    }\n",
       "\n",
       "    .dataframe tbody tr th {\n",
       "        vertical-align: top;\n",
       "    }\n",
       "\n",
       "    .dataframe thead th {\n",
       "        text-align: right;\n",
       "    }\n",
       "</style>\n",
       "<table border=\"1\" class=\"dataframe\">\n",
       "  <thead>\n",
       "    <tr style=\"text-align: right;\">\n",
       "      <th></th>\n",
       "      <th>course_title</th>\n",
       "      <th>is_paid</th>\n",
       "      <th>price</th>\n",
       "      <th>num_subscribers</th>\n",
       "      <th>num_reviews</th>\n",
       "      <th>num_lectures</th>\n",
       "      <th>level</th>\n",
       "      <th>content_duration</th>\n",
       "      <th>published_timestamp</th>\n",
       "      <th>subject</th>\n",
       "      <th>gross_earnings</th>\n",
       "      <th>month</th>\n",
       "      <th>year</th>\n",
       "    </tr>\n",
       "  </thead>\n",
       "  <tbody>\n",
       "    <tr>\n",
       "      <th>0</th>\n",
       "      <td>Ultimate Investment Banking Course</td>\n",
       "      <td>True</td>\n",
       "      <td>200</td>\n",
       "      <td>2147</td>\n",
       "      <td>23</td>\n",
       "      <td>51</td>\n",
       "      <td>All Levels</td>\n",
       "      <td>1.500000</td>\n",
       "      <td>2017-01-18</td>\n",
       "      <td>Business Finance</td>\n",
       "      <td>429400</td>\n",
       "      <td>1</td>\n",
       "      <td>2017</td>\n",
       "    </tr>\n",
       "    <tr>\n",
       "      <th>190</th>\n",
       "      <td>Investing: How I Consistently Beat The Stock M...</td>\n",
       "      <td>True</td>\n",
       "      <td>200</td>\n",
       "      <td>2000</td>\n",
       "      <td>31</td>\n",
       "      <td>34</td>\n",
       "      <td>All Levels</td>\n",
       "      <td>4.500000</td>\n",
       "      <td>2014-12-11</td>\n",
       "      <td>Business Finance</td>\n",
       "      <td>400000</td>\n",
       "      <td>12</td>\n",
       "      <td>2014</td>\n",
       "    </tr>\n",
       "    <tr>\n",
       "      <th>147</th>\n",
       "      <td>Python Algo Trading: FX Trading with Oanda</td>\n",
       "      <td>True</td>\n",
       "      <td>200</td>\n",
       "      <td>453</td>\n",
       "      <td>42</td>\n",
       "      <td>33</td>\n",
       "      <td>Intermediate Level</td>\n",
       "      <td>3.000000</td>\n",
       "      <td>2017-03-14</td>\n",
       "      <td>Business Finance</td>\n",
       "      <td>90600</td>\n",
       "      <td>3</td>\n",
       "      <td>2017</td>\n",
       "    </tr>\n",
       "    <tr>\n",
       "      <th>568</th>\n",
       "      <td>Successful Day Trading with Fibonacci</td>\n",
       "      <td>True</td>\n",
       "      <td>200</td>\n",
       "      <td>869</td>\n",
       "      <td>135</td>\n",
       "      <td>11</td>\n",
       "      <td>All Levels</td>\n",
       "      <td>2.000000</td>\n",
       "      <td>2015-08-31</td>\n",
       "      <td>Business Finance</td>\n",
       "      <td>173800</td>\n",
       "      <td>8</td>\n",
       "      <td>2015</td>\n",
       "    </tr>\n",
       "    <tr>\n",
       "      <th>538</th>\n",
       "      <td>Intro to Impact Investing</td>\n",
       "      <td>True</td>\n",
       "      <td>200</td>\n",
       "      <td>44</td>\n",
       "      <td>4</td>\n",
       "      <td>12</td>\n",
       "      <td>Beginner Level</td>\n",
       "      <td>0.533333</td>\n",
       "      <td>2016-11-08</td>\n",
       "      <td>Business Finance</td>\n",
       "      <td>8800</td>\n",
       "      <td>11</td>\n",
       "      <td>2016</td>\n",
       "    </tr>\n",
       "  </tbody>\n",
       "</table>\n",
       "</div>"
      ],
      "text/plain": [
       "                                          course_title  is_paid  price  \\\n",
       "0                   Ultimate Investment Banking Course     True    200   \n",
       "190  Investing: How I Consistently Beat The Stock M...     True    200   \n",
       "147         Python Algo Trading: FX Trading with Oanda     True    200   \n",
       "568              Successful Day Trading with Fibonacci     True    200   \n",
       "538                          Intro to Impact Investing     True    200   \n",
       "\n",
       "     num_subscribers  num_reviews  num_lectures               level  \\\n",
       "0               2147           23            51          All Levels   \n",
       "190             2000           31            34          All Levels   \n",
       "147              453           42            33  Intermediate Level   \n",
       "568              869          135            11          All Levels   \n",
       "538               44            4            12      Beginner Level   \n",
       "\n",
       "     content_duration published_timestamp           subject  gross_earnings  \\\n",
       "0            1.500000          2017-01-18  Business Finance          429400   \n",
       "190          4.500000          2014-12-11  Business Finance          400000   \n",
       "147          3.000000          2017-03-14  Business Finance           90600   \n",
       "568          2.000000          2015-08-31  Business Finance          173800   \n",
       "538          0.533333          2016-11-08  Business Finance            8800   \n",
       "\n",
       "     month  year  \n",
       "0        1  2017  \n",
       "190     12  2014  \n",
       "147      3  2017  \n",
       "568      8  2015  \n",
       "538     11  2016  "
      ]
     },
     "execution_count": 26,
     "metadata": {},
     "output_type": "execute_result"
    }
   ],
   "source": [
    "df[(df['subject'] == \"Business Finance\")].sort_values(by='price', ascending=False)[:5]"
   ]
  },
  {
   "cell_type": "markdown",
   "metadata": {},
   "source": [
    "Best Beginner Level Business Finance Courses"
   ]
  },
  {
   "cell_type": "code",
   "execution_count": 27,
   "metadata": {},
   "outputs": [
    {
     "data": {
      "text/html": [
       "<div>\n",
       "<style scoped>\n",
       "    .dataframe tbody tr th:only-of-type {\n",
       "        vertical-align: middle;\n",
       "    }\n",
       "\n",
       "    .dataframe tbody tr th {\n",
       "        vertical-align: top;\n",
       "    }\n",
       "\n",
       "    .dataframe thead th {\n",
       "        text-align: right;\n",
       "    }\n",
       "</style>\n",
       "<table border=\"1\" class=\"dataframe\">\n",
       "  <thead>\n",
       "    <tr style=\"text-align: right;\">\n",
       "      <th></th>\n",
       "      <th>course_title</th>\n",
       "      <th>is_paid</th>\n",
       "      <th>price</th>\n",
       "      <th>num_subscribers</th>\n",
       "      <th>num_reviews</th>\n",
       "      <th>num_lectures</th>\n",
       "      <th>level</th>\n",
       "      <th>content_duration</th>\n",
       "      <th>published_timestamp</th>\n",
       "      <th>subject</th>\n",
       "      <th>gross_earnings</th>\n",
       "      <th>month</th>\n",
       "      <th>year</th>\n",
       "    </tr>\n",
       "  </thead>\n",
       "  <tbody>\n",
       "    <tr>\n",
       "      <th>143</th>\n",
       "      <td>Accounting in 60 Minutes - A Brief Introduction</td>\n",
       "      <td>False</td>\n",
       "      <td>0</td>\n",
       "      <td>56659</td>\n",
       "      <td>4397</td>\n",
       "      <td>16</td>\n",
       "      <td>Beginner Level</td>\n",
       "      <td>1.5</td>\n",
       "      <td>2013-04-07</td>\n",
       "      <td>Business Finance</td>\n",
       "      <td>0</td>\n",
       "      <td>4</td>\n",
       "      <td>2013</td>\n",
       "    </tr>\n",
       "    <tr>\n",
       "      <th>103</th>\n",
       "      <td>Stock Market Investing for Beginners</td>\n",
       "      <td>False</td>\n",
       "      <td>0</td>\n",
       "      <td>50855</td>\n",
       "      <td>2698</td>\n",
       "      <td>15</td>\n",
       "      <td>Beginner Level</td>\n",
       "      <td>1.5</td>\n",
       "      <td>2013-12-25</td>\n",
       "      <td>Business Finance</td>\n",
       "      <td>0</td>\n",
       "      <td>12</td>\n",
       "      <td>2013</td>\n",
       "    </tr>\n",
       "    <tr>\n",
       "      <th>494</th>\n",
       "      <td>Forex Basics</td>\n",
       "      <td>False</td>\n",
       "      <td>0</td>\n",
       "      <td>22344</td>\n",
       "      <td>712</td>\n",
       "      <td>26</td>\n",
       "      <td>Beginner Level</td>\n",
       "      <td>3.5</td>\n",
       "      <td>2013-10-16</td>\n",
       "      <td>Business Finance</td>\n",
       "      <td>0</td>\n",
       "      <td>10</td>\n",
       "      <td>2013</td>\n",
       "    </tr>\n",
       "    <tr>\n",
       "      <th>112</th>\n",
       "      <td>Stock Market Foundations</td>\n",
       "      <td>False</td>\n",
       "      <td>0</td>\n",
       "      <td>19339</td>\n",
       "      <td>794</td>\n",
       "      <td>9</td>\n",
       "      <td>Beginner Level</td>\n",
       "      <td>2.0</td>\n",
       "      <td>2014-03-31</td>\n",
       "      <td>Business Finance</td>\n",
       "      <td>0</td>\n",
       "      <td>3</td>\n",
       "      <td>2014</td>\n",
       "    </tr>\n",
       "    <tr>\n",
       "      <th>374</th>\n",
       "      <td>Financial Accounting - A Brief Introduction</td>\n",
       "      <td>False</td>\n",
       "      <td>0</td>\n",
       "      <td>17847</td>\n",
       "      <td>1440</td>\n",
       "      <td>17</td>\n",
       "      <td>Beginner Level</td>\n",
       "      <td>1.0</td>\n",
       "      <td>2016-02-24</td>\n",
       "      <td>Business Finance</td>\n",
       "      <td>0</td>\n",
       "      <td>2</td>\n",
       "      <td>2016</td>\n",
       "    </tr>\n",
       "  </tbody>\n",
       "</table>\n",
       "</div>"
      ],
      "text/plain": [
       "                                        course_title  is_paid  price  \\\n",
       "143  Accounting in 60 Minutes - A Brief Introduction    False      0   \n",
       "103             Stock Market Investing for Beginners    False      0   \n",
       "494                                     Forex Basics    False      0   \n",
       "112                         Stock Market Foundations    False      0   \n",
       "374      Financial Accounting - A Brief Introduction    False      0   \n",
       "\n",
       "     num_subscribers  num_reviews  num_lectures           level  \\\n",
       "143            56659         4397            16  Beginner Level   \n",
       "103            50855         2698            15  Beginner Level   \n",
       "494            22344          712            26  Beginner Level   \n",
       "112            19339          794             9  Beginner Level   \n",
       "374            17847         1440            17  Beginner Level   \n",
       "\n",
       "     content_duration published_timestamp           subject  gross_earnings  \\\n",
       "143               1.5          2013-04-07  Business Finance               0   \n",
       "103               1.5          2013-12-25  Business Finance               0   \n",
       "494               3.5          2013-10-16  Business Finance               0   \n",
       "112               2.0          2014-03-31  Business Finance               0   \n",
       "374               1.0          2016-02-24  Business Finance               0   \n",
       "\n",
       "     month  year  \n",
       "143      4  2013  \n",
       "103     12  2013  \n",
       "494     10  2013  \n",
       "112      3  2014  \n",
       "374      2  2016  "
      ]
     },
     "execution_count": 27,
     "metadata": {},
     "output_type": "execute_result"
    }
   ],
   "source": [
    "df[(df['subject'] == \"Business Finance\") & (df['level'] == 'Beginner Level')].sort_values(by='num_subscribers', ascending=False)[:5]"
   ]
  },
  {
   "cell_type": "markdown",
   "metadata": {},
   "source": [
    "Best Intermediate Level Business Finance Courses"
   ]
  },
  {
   "cell_type": "code",
   "execution_count": 28,
   "metadata": {},
   "outputs": [
    {
     "data": {
      "text/html": [
       "<div>\n",
       "<style scoped>\n",
       "    .dataframe tbody tr th:only-of-type {\n",
       "        vertical-align: middle;\n",
       "    }\n",
       "\n",
       "    .dataframe tbody tr th {\n",
       "        vertical-align: top;\n",
       "    }\n",
       "\n",
       "    .dataframe thead th {\n",
       "        text-align: right;\n",
       "    }\n",
       "</style>\n",
       "<table border=\"1\" class=\"dataframe\">\n",
       "  <thead>\n",
       "    <tr style=\"text-align: right;\">\n",
       "      <th></th>\n",
       "      <th>course_title</th>\n",
       "      <th>is_paid</th>\n",
       "      <th>price</th>\n",
       "      <th>num_subscribers</th>\n",
       "      <th>num_reviews</th>\n",
       "      <th>num_lectures</th>\n",
       "      <th>level</th>\n",
       "      <th>content_duration</th>\n",
       "      <th>published_timestamp</th>\n",
       "      <th>subject</th>\n",
       "      <th>gross_earnings</th>\n",
       "      <th>month</th>\n",
       "      <th>year</th>\n",
       "    </tr>\n",
       "  </thead>\n",
       "  <tbody>\n",
       "    <tr>\n",
       "      <th>119</th>\n",
       "      <td>Introduction to Financial Modeling</td>\n",
       "      <td>False</td>\n",
       "      <td>0</td>\n",
       "      <td>29167</td>\n",
       "      <td>1463</td>\n",
       "      <td>8</td>\n",
       "      <td>Intermediate Level</td>\n",
       "      <td>1.5</td>\n",
       "      <td>2014-05-27</td>\n",
       "      <td>Business Finance</td>\n",
       "      <td>0</td>\n",
       "      <td>5</td>\n",
       "      <td>2014</td>\n",
       "    </tr>\n",
       "    <tr>\n",
       "      <th>35</th>\n",
       "      <td>Options Trading Stocks: Proven Toolbox For Fin...</td>\n",
       "      <td>True</td>\n",
       "      <td>195</td>\n",
       "      <td>7884</td>\n",
       "      <td>118</td>\n",
       "      <td>68</td>\n",
       "      <td>Intermediate Level</td>\n",
       "      <td>10.0</td>\n",
       "      <td>2015-05-19</td>\n",
       "      <td>Business Finance</td>\n",
       "      <td>1537380</td>\n",
       "      <td>5</td>\n",
       "      <td>2015</td>\n",
       "    </tr>\n",
       "    <tr>\n",
       "      <th>43</th>\n",
       "      <td>Options Trading - How to Win with Weekly Options</td>\n",
       "      <td>True</td>\n",
       "      <td>115</td>\n",
       "      <td>7489</td>\n",
       "      <td>1190</td>\n",
       "      <td>25</td>\n",
       "      <td>Intermediate Level</td>\n",
       "      <td>1.0</td>\n",
       "      <td>2015-10-22</td>\n",
       "      <td>Business Finance</td>\n",
       "      <td>861235</td>\n",
       "      <td>10</td>\n",
       "      <td>2015</td>\n",
       "    </tr>\n",
       "    <tr>\n",
       "      <th>206</th>\n",
       "      <td>Binary Options Course - Level 2</td>\n",
       "      <td>False</td>\n",
       "      <td>0</td>\n",
       "      <td>5874</td>\n",
       "      <td>207</td>\n",
       "      <td>9</td>\n",
       "      <td>Intermediate Level</td>\n",
       "      <td>2.0</td>\n",
       "      <td>2014-06-26</td>\n",
       "      <td>Business Finance</td>\n",
       "      <td>0</td>\n",
       "      <td>6</td>\n",
       "      <td>2014</td>\n",
       "    </tr>\n",
       "    <tr>\n",
       "      <th>830</th>\n",
       "      <td>Learn to Trade Forex Naked Price Action Big Sh...</td>\n",
       "      <td>False</td>\n",
       "      <td>0</td>\n",
       "      <td>5407</td>\n",
       "      <td>192</td>\n",
       "      <td>11</td>\n",
       "      <td>Intermediate Level</td>\n",
       "      <td>1.0</td>\n",
       "      <td>2016-01-25</td>\n",
       "      <td>Business Finance</td>\n",
       "      <td>0</td>\n",
       "      <td>1</td>\n",
       "      <td>2016</td>\n",
       "    </tr>\n",
       "  </tbody>\n",
       "</table>\n",
       "</div>"
      ],
      "text/plain": [
       "                                          course_title  is_paid  price  \\\n",
       "119                 Introduction to Financial Modeling    False      0   \n",
       "35   Options Trading Stocks: Proven Toolbox For Fin...     True    195   \n",
       "43    Options Trading - How to Win with Weekly Options     True    115   \n",
       "206                    Binary Options Course - Level 2    False      0   \n",
       "830  Learn to Trade Forex Naked Price Action Big Sh...    False      0   \n",
       "\n",
       "     num_subscribers  num_reviews  num_lectures               level  \\\n",
       "119            29167         1463             8  Intermediate Level   \n",
       "35              7884          118            68  Intermediate Level   \n",
       "43              7489         1190            25  Intermediate Level   \n",
       "206             5874          207             9  Intermediate Level   \n",
       "830             5407          192            11  Intermediate Level   \n",
       "\n",
       "     content_duration published_timestamp           subject  gross_earnings  \\\n",
       "119               1.5          2014-05-27  Business Finance               0   \n",
       "35               10.0          2015-05-19  Business Finance         1537380   \n",
       "43                1.0          2015-10-22  Business Finance          861235   \n",
       "206               2.0          2014-06-26  Business Finance               0   \n",
       "830               1.0          2016-01-25  Business Finance               0   \n",
       "\n",
       "     month  year  \n",
       "119      5  2014  \n",
       "35       5  2015  \n",
       "43      10  2015  \n",
       "206      6  2014  \n",
       "830      1  2016  "
      ]
     },
     "execution_count": 28,
     "metadata": {},
     "output_type": "execute_result"
    }
   ],
   "source": [
    "df[(df['subject'] == \"Business Finance\") & (df['level'] == 'Intermediate Level')].sort_values(by='num_subscribers', ascending=False)[:5]"
   ]
  },
  {
   "cell_type": "markdown",
   "metadata": {},
   "source": [
    "Latest Courses in Business Finance (sorted by subscribers)"
   ]
  },
  {
   "cell_type": "code",
   "execution_count": 29,
   "metadata": {},
   "outputs": [
    {
     "data": {
      "text/html": [
       "<div>\n",
       "<style scoped>\n",
       "    .dataframe tbody tr th:only-of-type {\n",
       "        vertical-align: middle;\n",
       "    }\n",
       "\n",
       "    .dataframe tbody tr th {\n",
       "        vertical-align: top;\n",
       "    }\n",
       "\n",
       "    .dataframe thead th {\n",
       "        text-align: right;\n",
       "    }\n",
       "</style>\n",
       "<table border=\"1\" class=\"dataframe\">\n",
       "  <thead>\n",
       "    <tr style=\"text-align: right;\">\n",
       "      <th></th>\n",
       "      <th>course_title</th>\n",
       "      <th>is_paid</th>\n",
       "      <th>price</th>\n",
       "      <th>num_subscribers</th>\n",
       "      <th>num_reviews</th>\n",
       "      <th>num_lectures</th>\n",
       "      <th>level</th>\n",
       "      <th>content_duration</th>\n",
       "      <th>published_timestamp</th>\n",
       "      <th>subject</th>\n",
       "      <th>gross_earnings</th>\n",
       "      <th>month</th>\n",
       "      <th>year</th>\n",
       "    </tr>\n",
       "  </thead>\n",
       "  <tbody>\n",
       "    <tr>\n",
       "      <th>1108</th>\n",
       "      <td>Condor Broken Wing Butterfly Options Trading C...</td>\n",
       "      <td>False</td>\n",
       "      <td>0</td>\n",
       "      <td>16</td>\n",
       "      <td>0</td>\n",
       "      <td>15</td>\n",
       "      <td>All Levels</td>\n",
       "      <td>1.5</td>\n",
       "      <td>2017-07-06</td>\n",
       "      <td>Business Finance</td>\n",
       "      <td>0</td>\n",
       "      <td>7</td>\n",
       "      <td>2017</td>\n",
       "    </tr>\n",
       "    <tr>\n",
       "      <th>455</th>\n",
       "      <td>Cryptocurrency (BTC &amp; ETH) Investment &amp; Tradin...</td>\n",
       "      <td>True</td>\n",
       "      <td>20</td>\n",
       "      <td>0</td>\n",
       "      <td>0</td>\n",
       "      <td>7</td>\n",
       "      <td>Beginner Level</td>\n",
       "      <td>2.5</td>\n",
       "      <td>2017-07-06</td>\n",
       "      <td>Business Finance</td>\n",
       "      <td>0</td>\n",
       "      <td>7</td>\n",
       "      <td>2017</td>\n",
       "    </tr>\n",
       "    <tr>\n",
       "      <th>462</th>\n",
       "      <td>Forex how traders beat the markest with little...</td>\n",
       "      <td>True</td>\n",
       "      <td>100</td>\n",
       "      <td>0</td>\n",
       "      <td>0</td>\n",
       "      <td>16</td>\n",
       "      <td>All Levels</td>\n",
       "      <td>1.0</td>\n",
       "      <td>2017-07-06</td>\n",
       "      <td>Business Finance</td>\n",
       "      <td>0</td>\n",
       "      <td>7</td>\n",
       "      <td>2017</td>\n",
       "    </tr>\n",
       "    <tr>\n",
       "      <th>638</th>\n",
       "      <td>Bitcoin &amp; Ethereum Course (2 Course Bundle)</td>\n",
       "      <td>True</td>\n",
       "      <td>200</td>\n",
       "      <td>1</td>\n",
       "      <td>0</td>\n",
       "      <td>52</td>\n",
       "      <td>All Levels</td>\n",
       "      <td>2.5</td>\n",
       "      <td>2017-07-05</td>\n",
       "      <td>Business Finance</td>\n",
       "      <td>200</td>\n",
       "      <td>7</td>\n",
       "      <td>2017</td>\n",
       "    </tr>\n",
       "    <tr>\n",
       "      <th>461</th>\n",
       "      <td>Options Trading Foundation: Your journey to co...</td>\n",
       "      <td>True</td>\n",
       "      <td>95</td>\n",
       "      <td>0</td>\n",
       "      <td>0</td>\n",
       "      <td>5</td>\n",
       "      <td>Intermediate Level</td>\n",
       "      <td>1.0</td>\n",
       "      <td>2017-07-05</td>\n",
       "      <td>Business Finance</td>\n",
       "      <td>0</td>\n",
       "      <td>7</td>\n",
       "      <td>2017</td>\n",
       "    </tr>\n",
       "  </tbody>\n",
       "</table>\n",
       "</div>"
      ],
      "text/plain": [
       "                                           course_title  is_paid  price  \\\n",
       "1108  Condor Broken Wing Butterfly Options Trading C...    False      0   \n",
       "455   Cryptocurrency (BTC & ETH) Investment & Tradin...     True     20   \n",
       "462   Forex how traders beat the markest with little...     True    100   \n",
       "638         Bitcoin & Ethereum Course (2 Course Bundle)     True    200   \n",
       "461   Options Trading Foundation: Your journey to co...     True     95   \n",
       "\n",
       "      num_subscribers  num_reviews  num_lectures               level  \\\n",
       "1108               16            0            15          All Levels   \n",
       "455                 0            0             7      Beginner Level   \n",
       "462                 0            0            16          All Levels   \n",
       "638                 1            0            52          All Levels   \n",
       "461                 0            0             5  Intermediate Level   \n",
       "\n",
       "      content_duration published_timestamp           subject  gross_earnings  \\\n",
       "1108               1.5          2017-07-06  Business Finance               0   \n",
       "455                2.5          2017-07-06  Business Finance               0   \n",
       "462                1.0          2017-07-06  Business Finance               0   \n",
       "638                2.5          2017-07-05  Business Finance             200   \n",
       "461                1.0          2017-07-05  Business Finance               0   \n",
       "\n",
       "      month  year  \n",
       "1108      7  2017  \n",
       "455       7  2017  \n",
       "462       7  2017  \n",
       "638       7  2017  \n",
       "461       7  2017  "
      ]
     },
     "execution_count": 29,
     "metadata": {},
     "output_type": "execute_result"
    }
   ],
   "source": [
    "df[(df['subject'] == \"Business Finance\")].sort_values(by=['published_timestamp', 'num_subscribers'], ascending=False)[:5]"
   ]
  },
  {
   "cell_type": "markdown",
   "metadata": {},
   "source": [
    "Trend of business finance courses"
   ]
  },
  {
   "cell_type": "code",
   "execution_count": 30,
   "metadata": {},
   "outputs": [
    {
     "data": {
      "text/plain": [
       "Text(0.5, 1.0, 'Trend of Business Finance course development by Year')"
      ]
     },
     "execution_count": 30,
     "metadata": {},
     "output_type": "execute_result"
    },
    {
     "data": {
      "image/png": "[encoded data removed]",
      "text/plain": [
       "<Figure size 864x432 with 1 Axes>"
      ]
     },
     "metadata": {
      "needs_background": "light"
     },
     "output_type": "display_data"
    }
   ],
   "source": [
    "busDf = df[df['subject'] == \"Business Finance\"]\n",
    "groupedBsDf = busDf.groupby(by='year').count().reset_index()\n",
    "\n",
    "\n",
    "plt.figure(figsize=(12,6))\n",
    "sns.lineplot(data=groupedBsDf, x='year', y='course_title')\n",
    "plt.title('Trend of Business Finance course development by Year')"
   ]
  },
  {
   "cell_type": "markdown",
   "metadata": {},
   "source": [
    "Trend Of Business Finance Course Subscribers"
   ]
  },
  {
   "cell_type": "code",
   "execution_count": 31,
   "metadata": {},
   "outputs": [
    {
     "data": {
      "text/plain": [
       "Text(0.5, 1.0, 'Trend of Business Finance course Subscribers by Year')"
      ]
     },
     "execution_count": 31,
     "metadata": {},
     "output_type": "execute_result"
    },
    {
     "data": {
      "image/png": "[encoded data removed]",
      "text/plain": [
       "<Figure size 864x432 with 1 Axes>"
      ]
     },
     "metadata": {
      "needs_background": "light"
     },
     "output_type": "display_data"
    }
   ],
   "source": [
    "groupedBsDfSub = busDf.groupby(by='year').sum().reset_index()\n",
    "plt.figure(figsize=(12,6))\n",
    "sns.lineplot(data=groupedBsDfSub, x='year', y='num_subscribers')\n",
    "plt.title('Trend of Business Finance course Subscribers by Year')"
   ]
  },
  {
   "cell_type": "code",
   "execution_count": 87,
   "metadata": {},
   "outputs": [
    {
     "data": {
      "text/html": [
       "<div>\n",
       "<style scoped>\n",
       "    .dataframe tbody tr th:only-of-type {\n",
       "        vertical-align: middle;\n",
       "    }\n",
       "\n",
       "    .dataframe tbody tr th {\n",
       "        vertical-align: top;\n",
       "    }\n",
       "\n",
       "    .dataframe thead th {\n",
       "        text-align: right;\n",
       "    }\n",
       "</style>\n",
       "<table border=\"1\" class=\"dataframe\">\n",
       "  <thead>\n",
       "    <tr style=\"text-align: right;\">\n",
       "      <th></th>\n",
       "      <th>year</th>\n",
       "      <th>is_paid</th>\n",
       "      <th>price</th>\n",
       "      <th>num_subscribers</th>\n",
       "      <th>num_reviews</th>\n",
       "      <th>num_lectures</th>\n",
       "      <th>content_duration</th>\n",
       "      <th>gross_earnings</th>\n",
       "      <th>month</th>\n",
       "    </tr>\n",
       "  </thead>\n",
       "  <tbody>\n",
       "    <tr>\n",
       "      <th>0</th>\n",
       "      <td>2012</td>\n",
       "      <td>6</td>\n",
       "      <td>255</td>\n",
       "      <td>3620</td>\n",
       "      <td>418</td>\n",
       "      <td>159</td>\n",
       "      <td>26.000000</td>\n",
       "      <td>190740</td>\n",
       "      <td>57</td>\n",
       "    </tr>\n",
       "    <tr>\n",
       "      <th>1</th>\n",
       "      <td>2013</td>\n",
       "      <td>77</td>\n",
       "      <td>3825</td>\n",
       "      <td>311664</td>\n",
       "      <td>12753</td>\n",
       "      <td>2048</td>\n",
       "      <td>368.633333</td>\n",
       "      <td>7298950</td>\n",
       "      <td>548</td>\n",
       "    </tr>\n",
       "    <tr>\n",
       "      <th>2</th>\n",
       "      <td>2014</td>\n",
       "      <td>170</td>\n",
       "      <td>10205</td>\n",
       "      <td>494623</td>\n",
       "      <td>21634</td>\n",
       "      <td>7014</td>\n",
       "      <td>924.766667</td>\n",
       "      <td>35870820</td>\n",
       "      <td>1381</td>\n",
       "    </tr>\n",
       "    <tr>\n",
       "      <th>3</th>\n",
       "      <td>2015</td>\n",
       "      <td>326</td>\n",
       "      <td>23100</td>\n",
       "      <td>501858</td>\n",
       "      <td>16053</td>\n",
       "      <td>11933</td>\n",
       "      <td>1128.900000</td>\n",
       "      <td>38702015</td>\n",
       "      <td>2216</td>\n",
       "    </tr>\n",
       "    <tr>\n",
       "      <th>4</th>\n",
       "      <td>2016</td>\n",
       "      <td>315</td>\n",
       "      <td>25450</td>\n",
       "      <td>426647</td>\n",
       "      <td>20326</td>\n",
       "      <td>11490</td>\n",
       "      <td>1100.183333</td>\n",
       "      <td>30727750</td>\n",
       "      <td>2146</td>\n",
       "    </tr>\n",
       "    <tr>\n",
       "      <th>5</th>\n",
       "      <td>2017</td>\n",
       "      <td>205</td>\n",
       "      <td>19085</td>\n",
       "      <td>130299</td>\n",
       "      <td>4718</td>\n",
       "      <td>6111</td>\n",
       "      <td>697.350000</td>\n",
       "      <td>10945040</td>\n",
       "      <td>905</td>\n",
       "    </tr>\n",
       "  </tbody>\n",
       "</table>\n",
       "</div>"
      ],
      "text/plain": [
       "   year  is_paid  price  num_subscribers  num_reviews  num_lectures  \\\n",
       "0  2012        6    255             3620          418           159   \n",
       "1  2013       77   3825           311664        12753          2048   \n",
       "2  2014      170  10205           494623        21634          7014   \n",
       "3  2015      326  23100           501858        16053         11933   \n",
       "4  2016      315  25450           426647        20326         11490   \n",
       "5  2017      205  19085           130299         4718          6111   \n",
       "\n",
       "   content_duration  gross_earnings  month  \n",
       "0         26.000000          190740     57  \n",
       "1        368.633333         7298950    548  \n",
       "2        924.766667        35870820   1381  \n",
       "3       1128.900000        38702015   2216  \n",
       "4       1100.183333        30727750   2146  \n",
       "5        697.350000        10945040    905  "
      ]
     },
     "execution_count": 87,
     "metadata": {},
     "output_type": "execute_result"
    }
   ],
   "source": [
    "groupedBsDfSub.head(7)"
   ]
  },
  {
   "cell_type": "markdown",
   "metadata": {},
   "source": [
    "Trend of Business Finance Course Earnings"
   ]
  },
  {
   "cell_type": "code",
   "execution_count": 32,
   "metadata": {},
   "outputs": [
    {
     "data": {
      "text/plain": [
       "Text(0.5, 1.0, 'Trend of Business Finance course earnings by Year')"
      ]
     },
     "execution_count": 32,
     "metadata": {},
     "output_type": "execute_result"
    },
    {
     "data": {
      "image/png": "[encoded data removed]",
      "text/plain": [
       "<Figure size 864x432 with 1 Axes>"
      ]
     },
     "metadata": {
      "needs_background": "light"
     },
     "output_type": "display_data"
    }
   ],
   "source": [
    "groupedBsDfSub = busDf.groupby(by='year').sum().reset_index()\n",
    "plt.figure(figsize=(12,6))\n",
    "sns.lineplot(data=groupedBsDfSub, x='year', y='gross_earnings')\n",
    "plt.title('Trend of Business Finance course earnings by Year')"
   ]
  },
  {
   "cell_type": "code",
   "execution_count": 33,
   "metadata": {},
   "outputs": [
    {
     "data": {
      "text/html": [
       "<div>\n",
       "<style scoped>\n",
       "    .dataframe tbody tr th:only-of-type {\n",
       "        vertical-align: middle;\n",
       "    }\n",
       "\n",
       "    .dataframe tbody tr th {\n",
       "        vertical-align: top;\n",
       "    }\n",
       "\n",
       "    .dataframe thead th {\n",
       "        text-align: right;\n",
       "    }\n",
       "</style>\n",
       "<table border=\"1\" class=\"dataframe\">\n",
       "  <thead>\n",
       "    <tr style=\"text-align: right;\">\n",
       "      <th></th>\n",
       "      <th>year</th>\n",
       "      <th>is_paid</th>\n",
       "      <th>price</th>\n",
       "      <th>num_subscribers</th>\n",
       "      <th>num_reviews</th>\n",
       "      <th>num_lectures</th>\n",
       "      <th>content_duration</th>\n",
       "      <th>gross_earnings</th>\n",
       "      <th>month</th>\n",
       "    </tr>\n",
       "  </thead>\n",
       "  <tbody>\n",
       "    <tr>\n",
       "      <th>0</th>\n",
       "      <td>2012</td>\n",
       "      <td>6</td>\n",
       "      <td>255</td>\n",
       "      <td>3620</td>\n",
       "      <td>418</td>\n",
       "      <td>159</td>\n",
       "      <td>26.000000</td>\n",
       "      <td>190740</td>\n",
       "      <td>57</td>\n",
       "    </tr>\n",
       "    <tr>\n",
       "      <th>1</th>\n",
       "      <td>2013</td>\n",
       "      <td>77</td>\n",
       "      <td>3825</td>\n",
       "      <td>311664</td>\n",
       "      <td>12753</td>\n",
       "      <td>2048</td>\n",
       "      <td>368.633333</td>\n",
       "      <td>7298950</td>\n",
       "      <td>548</td>\n",
       "    </tr>\n",
       "    <tr>\n",
       "      <th>2</th>\n",
       "      <td>2014</td>\n",
       "      <td>170</td>\n",
       "      <td>10205</td>\n",
       "      <td>494623</td>\n",
       "      <td>21634</td>\n",
       "      <td>7014</td>\n",
       "      <td>924.766667</td>\n",
       "      <td>35870820</td>\n",
       "      <td>1381</td>\n",
       "    </tr>\n",
       "    <tr>\n",
       "      <th>3</th>\n",
       "      <td>2015</td>\n",
       "      <td>326</td>\n",
       "      <td>23100</td>\n",
       "      <td>501858</td>\n",
       "      <td>16053</td>\n",
       "      <td>11933</td>\n",
       "      <td>1128.900000</td>\n",
       "      <td>38702015</td>\n",
       "      <td>2216</td>\n",
       "    </tr>\n",
       "    <tr>\n",
       "      <th>4</th>\n",
       "      <td>2016</td>\n",
       "      <td>315</td>\n",
       "      <td>25450</td>\n",
       "      <td>426647</td>\n",
       "      <td>20326</td>\n",
       "      <td>11490</td>\n",
       "      <td>1100.183333</td>\n",
       "      <td>30727750</td>\n",
       "      <td>2146</td>\n",
       "    </tr>\n",
       "    <tr>\n",
       "      <th>5</th>\n",
       "      <td>2017</td>\n",
       "      <td>205</td>\n",
       "      <td>19085</td>\n",
       "      <td>130299</td>\n",
       "      <td>4718</td>\n",
       "      <td>6111</td>\n",
       "      <td>697.350000</td>\n",
       "      <td>10945040</td>\n",
       "      <td>905</td>\n",
       "    </tr>\n",
       "  </tbody>\n",
       "</table>\n",
       "</div>"
      ],
      "text/plain": [
       "   year  is_paid  price  num_subscribers  num_reviews  num_lectures  \\\n",
       "0  2012        6    255             3620          418           159   \n",
       "1  2013       77   3825           311664        12753          2048   \n",
       "2  2014      170  10205           494623        21634          7014   \n",
       "3  2015      326  23100           501858        16053         11933   \n",
       "4  2016      315  25450           426647        20326         11490   \n",
       "5  2017      205  19085           130299         4718          6111   \n",
       "\n",
       "   content_duration  gross_earnings  month  \n",
       "0         26.000000          190740     57  \n",
       "1        368.633333         7298950    548  \n",
       "2        924.766667        35870820   1381  \n",
       "3       1128.900000        38702015   2216  \n",
       "4       1100.183333        30727750   2146  \n",
       "5        697.350000        10945040    905  "
      ]
     },
     "execution_count": 33,
     "metadata": {},
     "output_type": "execute_result"
    }
   ],
   "source": [
    "groupedBsDfSub.head(7)"
   ]
  },
  {
   "cell_type": "markdown",
   "metadata": {},
   "source": [
    "Analysis On Graphic Designing Category"
   ]
  },
  {
   "cell_type": "markdown",
   "metadata": {},
   "source": [
    "Top 5 Graphic Design Courses"
   ]
  },
  {
   "cell_type": "code",
   "execution_count": 34,
   "metadata": {},
   "outputs": [
    {
     "data": {
      "text/html": [
       "<div>\n",
       "<style scoped>\n",
       "    .dataframe tbody tr th:only-of-type {\n",
       "        vertical-align: middle;\n",
       "    }\n",
       "\n",
       "    .dataframe tbody tr th {\n",
       "        vertical-align: top;\n",
       "    }\n",
       "\n",
       "    .dataframe thead th {\n",
       "        text-align: right;\n",
       "    }\n",
       "</style>\n",
       "<table border=\"1\" class=\"dataframe\">\n",
       "  <thead>\n",
       "    <tr style=\"text-align: right;\">\n",
       "      <th></th>\n",
       "      <th>course_title</th>\n",
       "      <th>is_paid</th>\n",
       "      <th>price</th>\n",
       "      <th>num_subscribers</th>\n",
       "      <th>num_reviews</th>\n",
       "      <th>num_lectures</th>\n",
       "      <th>level</th>\n",
       "      <th>content_duration</th>\n",
       "      <th>published_timestamp</th>\n",
       "      <th>subject</th>\n",
       "      <th>gross_earnings</th>\n",
       "      <th>month</th>\n",
       "      <th>year</th>\n",
       "    </tr>\n",
       "  </thead>\n",
       "  <tbody>\n",
       "    <tr>\n",
       "      <th>1461</th>\n",
       "      <td>Photoshop In-Depth: Master all of Photoshop's ...</td>\n",
       "      <td>False</td>\n",
       "      <td>0</td>\n",
       "      <td>53851</td>\n",
       "      <td>1779</td>\n",
       "      <td>45</td>\n",
       "      <td>All Levels</td>\n",
       "      <td>4.5</td>\n",
       "      <td>2014-11-30</td>\n",
       "      <td>Graphic Design</td>\n",
       "      <td>0</td>\n",
       "      <td>11</td>\n",
       "      <td>2014</td>\n",
       "    </tr>\n",
       "    <tr>\n",
       "      <th>1286</th>\n",
       "      <td>Figure Drawing From Life Using The Reilly Tech...</td>\n",
       "      <td>False</td>\n",
       "      <td>0</td>\n",
       "      <td>47811</td>\n",
       "      <td>1041</td>\n",
       "      <td>22</td>\n",
       "      <td>All Levels</td>\n",
       "      <td>2.5</td>\n",
       "      <td>2012-05-09</td>\n",
       "      <td>Graphic Design</td>\n",
       "      <td>0</td>\n",
       "      <td>5</td>\n",
       "      <td>2012</td>\n",
       "    </tr>\n",
       "    <tr>\n",
       "      <th>1390</th>\n",
       "      <td>Professional Logo Design in Adobe Illustrator</td>\n",
       "      <td>False</td>\n",
       "      <td>0</td>\n",
       "      <td>44044</td>\n",
       "      <td>1563</td>\n",
       "      <td>45</td>\n",
       "      <td>All Levels</td>\n",
       "      <td>7.5</td>\n",
       "      <td>2015-01-22</td>\n",
       "      <td>Graphic Design</td>\n",
       "      <td>0</td>\n",
       "      <td>1</td>\n",
       "      <td>2015</td>\n",
       "    </tr>\n",
       "    <tr>\n",
       "      <th>1213</th>\n",
       "      <td>Photoshop for Entrepreneurs - Design 11 Practi...</td>\n",
       "      <td>True</td>\n",
       "      <td>200</td>\n",
       "      <td>36288</td>\n",
       "      <td>737</td>\n",
       "      <td>63</td>\n",
       "      <td>All Levels</td>\n",
       "      <td>5.0</td>\n",
       "      <td>2016-06-09</td>\n",
       "      <td>Graphic Design</td>\n",
       "      <td>7257600</td>\n",
       "      <td>6</td>\n",
       "      <td>2016</td>\n",
       "    </tr>\n",
       "    <tr>\n",
       "      <th>1531</th>\n",
       "      <td>Logo Design Essentials</td>\n",
       "      <td>True</td>\n",
       "      <td>20</td>\n",
       "      <td>33205</td>\n",
       "      <td>481</td>\n",
       "      <td>12</td>\n",
       "      <td>All Levels</td>\n",
       "      <td>0.7</td>\n",
       "      <td>2014-06-30</td>\n",
       "      <td>Graphic Design</td>\n",
       "      <td>664100</td>\n",
       "      <td>6</td>\n",
       "      <td>2014</td>\n",
       "    </tr>\n",
       "  </tbody>\n",
       "</table>\n",
       "</div>"
      ],
      "text/plain": [
       "                                           course_title  is_paid  price  \\\n",
       "1461  Photoshop In-Depth: Master all of Photoshop's ...    False      0   \n",
       "1286  Figure Drawing From Life Using The Reilly Tech...    False      0   \n",
       "1390      Professional Logo Design in Adobe Illustrator    False      0   \n",
       "1213  Photoshop for Entrepreneurs - Design 11 Practi...     True    200   \n",
       "1531                            Logo Design Essentials      True     20   \n",
       "\n",
       "      num_subscribers  num_reviews  num_lectures       level  \\\n",
       "1461            53851         1779            45  All Levels   \n",
       "1286            47811         1041            22  All Levels   \n",
       "1390            44044         1563            45  All Levels   \n",
       "1213            36288          737            63  All Levels   \n",
       "1531            33205          481            12  All Levels   \n",
       "\n",
       "      content_duration published_timestamp         subject  gross_earnings  \\\n",
       "1461               4.5          2014-11-30  Graphic Design               0   \n",
       "1286               2.5          2012-05-09  Graphic Design               0   \n",
       "1390               7.5          2015-01-22  Graphic Design               0   \n",
       "1213               5.0          2016-06-09  Graphic Design         7257600   \n",
       "1531               0.7          2014-06-30  Graphic Design          664100   \n",
       "\n",
       "      month  year  \n",
       "1461     11  2014  \n",
       "1286      5  2012  \n",
       "1390      1  2015  \n",
       "1213      6  2016  \n",
       "1531      6  2014  "
      ]
     },
     "execution_count": 34,
     "metadata": {},
     "output_type": "execute_result"
    }
   ],
   "source": [
    "df[(df['subject'] == \"Graphic Design\")].sort_values(by='num_subscribers', ascending=False)[:5]"
   ]
  },
  {
   "cell_type": "markdown",
   "metadata": {},
   "source": [
    "Top 5 Free Graphic Designing Courses"
   ]
  },
  {
   "cell_type": "code",
   "execution_count": 35,
   "metadata": {},
   "outputs": [
    {
     "data": {
      "text/html": [
       "<div>\n",
       "<style scoped>\n",
       "    .dataframe tbody tr th:only-of-type {\n",
       "        vertical-align: middle;\n",
       "    }\n",
       "\n",
       "    .dataframe tbody tr th {\n",
       "        vertical-align: top;\n",
       "    }\n",
       "\n",
       "    .dataframe thead th {\n",
       "        text-align: right;\n",
       "    }\n",
       "</style>\n",
       "<table border=\"1\" class=\"dataframe\">\n",
       "  <thead>\n",
       "    <tr style=\"text-align: right;\">\n",
       "      <th></th>\n",
       "      <th>course_title</th>\n",
       "      <th>is_paid</th>\n",
       "      <th>price</th>\n",
       "      <th>num_subscribers</th>\n",
       "      <th>num_reviews</th>\n",
       "      <th>num_lectures</th>\n",
       "      <th>level</th>\n",
       "      <th>content_duration</th>\n",
       "      <th>published_timestamp</th>\n",
       "      <th>subject</th>\n",
       "      <th>gross_earnings</th>\n",
       "      <th>month</th>\n",
       "      <th>year</th>\n",
       "    </tr>\n",
       "  </thead>\n",
       "  <tbody>\n",
       "    <tr>\n",
       "      <th>1461</th>\n",
       "      <td>Photoshop In-Depth: Master all of Photoshop's ...</td>\n",
       "      <td>False</td>\n",
       "      <td>0</td>\n",
       "      <td>53851</td>\n",
       "      <td>1779</td>\n",
       "      <td>45</td>\n",
       "      <td>All Levels</td>\n",
       "      <td>4.500000</td>\n",
       "      <td>2014-11-30</td>\n",
       "      <td>Graphic Design</td>\n",
       "      <td>0</td>\n",
       "      <td>11</td>\n",
       "      <td>2014</td>\n",
       "    </tr>\n",
       "    <tr>\n",
       "      <th>1286</th>\n",
       "      <td>Figure Drawing From Life Using The Reilly Tech...</td>\n",
       "      <td>False</td>\n",
       "      <td>0</td>\n",
       "      <td>47811</td>\n",
       "      <td>1041</td>\n",
       "      <td>22</td>\n",
       "      <td>All Levels</td>\n",
       "      <td>2.500000</td>\n",
       "      <td>2012-05-09</td>\n",
       "      <td>Graphic Design</td>\n",
       "      <td>0</td>\n",
       "      <td>5</td>\n",
       "      <td>2012</td>\n",
       "    </tr>\n",
       "    <tr>\n",
       "      <th>1390</th>\n",
       "      <td>Professional Logo Design in Adobe Illustrator</td>\n",
       "      <td>False</td>\n",
       "      <td>0</td>\n",
       "      <td>44044</td>\n",
       "      <td>1563</td>\n",
       "      <td>45</td>\n",
       "      <td>All Levels</td>\n",
       "      <td>7.500000</td>\n",
       "      <td>2015-01-22</td>\n",
       "      <td>Graphic Design</td>\n",
       "      <td>0</td>\n",
       "      <td>1</td>\n",
       "      <td>2015</td>\n",
       "    </tr>\n",
       "    <tr>\n",
       "      <th>1367</th>\n",
       "      <td>Learn to Design a Letterhead - A Beginners Course</td>\n",
       "      <td>False</td>\n",
       "      <td>0</td>\n",
       "      <td>24687</td>\n",
       "      <td>423</td>\n",
       "      <td>13</td>\n",
       "      <td>All Levels</td>\n",
       "      <td>0.733333</td>\n",
       "      <td>2012-10-10</td>\n",
       "      <td>Graphic Design</td>\n",
       "      <td>0</td>\n",
       "      <td>10</td>\n",
       "      <td>2012</td>\n",
       "    </tr>\n",
       "    <tr>\n",
       "      <th>1409</th>\n",
       "      <td>Graphic Design - An Overview of the Field</td>\n",
       "      <td>False</td>\n",
       "      <td>0</td>\n",
       "      <td>23229</td>\n",
       "      <td>2215</td>\n",
       "      <td>12</td>\n",
       "      <td>Beginner Level</td>\n",
       "      <td>1.000000</td>\n",
       "      <td>2015-11-09</td>\n",
       "      <td>Graphic Design</td>\n",
       "      <td>0</td>\n",
       "      <td>11</td>\n",
       "      <td>2015</td>\n",
       "    </tr>\n",
       "  </tbody>\n",
       "</table>\n",
       "</div>"
      ],
      "text/plain": [
       "                                           course_title  is_paid  price  \\\n",
       "1461  Photoshop In-Depth: Master all of Photoshop's ...    False      0   \n",
       "1286  Figure Drawing From Life Using The Reilly Tech...    False      0   \n",
       "1390      Professional Logo Design in Adobe Illustrator    False      0   \n",
       "1367  Learn to Design a Letterhead - A Beginners Course    False      0   \n",
       "1409          Graphic Design - An Overview of the Field    False      0   \n",
       "\n",
       "      num_subscribers  num_reviews  num_lectures           level  \\\n",
       "1461            53851         1779            45      All Levels   \n",
       "1286            47811         1041            22      All Levels   \n",
       "1390            44044         1563            45      All Levels   \n",
       "1367            24687          423            13      All Levels   \n",
       "1409            23229         2215            12  Beginner Level   \n",
       "\n",
       "      content_duration published_timestamp         subject  gross_earnings  \\\n",
       "1461          4.500000          2014-11-30  Graphic Design               0   \n",
       "1286          2.500000          2012-05-09  Graphic Design               0   \n",
       "1390          7.500000          2015-01-22  Graphic Design               0   \n",
       "1367          0.733333          2012-10-10  Graphic Design               0   \n",
       "1409          1.000000          2015-11-09  Graphic Design               0   \n",
       "\n",
       "      month  year  \n",
       "1461     11  2014  \n",
       "1286      5  2012  \n",
       "1390      1  2015  \n",
       "1367     10  2012  \n",
       "1409     11  2015  "
      ]
     },
     "execution_count": 35,
     "metadata": {},
     "output_type": "execute_result"
    }
   ],
   "source": [
    "df[(df['subject'] == \"Graphic Design\") & (df['is_paid'] == False)].sort_values(by='num_subscribers', ascending=False)[:5]"
   ]
  },
  {
   "cell_type": "markdown",
   "metadata": {},
   "source": [
    "Top 5 Paid Graphic Design Courses"
   ]
  },
  {
   "cell_type": "code",
   "execution_count": 36,
   "metadata": {},
   "outputs": [
    {
     "data": {
      "text/html": [
       "<div>\n",
       "<style scoped>\n",
       "    .dataframe tbody tr th:only-of-type {\n",
       "        vertical-align: middle;\n",
       "    }\n",
       "\n",
       "    .dataframe tbody tr th {\n",
       "        vertical-align: top;\n",
       "    }\n",
       "\n",
       "    .dataframe thead th {\n",
       "        text-align: right;\n",
       "    }\n",
       "</style>\n",
       "<table border=\"1\" class=\"dataframe\">\n",
       "  <thead>\n",
       "    <tr style=\"text-align: right;\">\n",
       "      <th></th>\n",
       "      <th>course_title</th>\n",
       "      <th>is_paid</th>\n",
       "      <th>price</th>\n",
       "      <th>num_subscribers</th>\n",
       "      <th>num_reviews</th>\n",
       "      <th>num_lectures</th>\n",
       "      <th>level</th>\n",
       "      <th>content_duration</th>\n",
       "      <th>published_timestamp</th>\n",
       "      <th>subject</th>\n",
       "      <th>gross_earnings</th>\n",
       "      <th>month</th>\n",
       "      <th>year</th>\n",
       "    </tr>\n",
       "  </thead>\n",
       "  <tbody>\n",
       "    <tr>\n",
       "      <th>1213</th>\n",
       "      <td>Photoshop for Entrepreneurs - Design 11 Practi...</td>\n",
       "      <td>True</td>\n",
       "      <td>200</td>\n",
       "      <td>36288</td>\n",
       "      <td>737</td>\n",
       "      <td>63</td>\n",
       "      <td>All Levels</td>\n",
       "      <td>5.0</td>\n",
       "      <td>2016-06-09</td>\n",
       "      <td>Graphic Design</td>\n",
       "      <td>7257600</td>\n",
       "      <td>6</td>\n",
       "      <td>2016</td>\n",
       "    </tr>\n",
       "    <tr>\n",
       "      <th>1531</th>\n",
       "      <td>Logo Design Essentials</td>\n",
       "      <td>True</td>\n",
       "      <td>20</td>\n",
       "      <td>33205</td>\n",
       "      <td>481</td>\n",
       "      <td>12</td>\n",
       "      <td>All Levels</td>\n",
       "      <td>0.7</td>\n",
       "      <td>2014-06-30</td>\n",
       "      <td>Graphic Design</td>\n",
       "      <td>664100</td>\n",
       "      <td>6</td>\n",
       "      <td>2014</td>\n",
       "    </tr>\n",
       "    <tr>\n",
       "      <th>1211</th>\n",
       "      <td>The Ultimate Drawing Course - Beginner to Adva...</td>\n",
       "      <td>True</td>\n",
       "      <td>150</td>\n",
       "      <td>26742</td>\n",
       "      <td>2379</td>\n",
       "      <td>62</td>\n",
       "      <td>Beginner Level</td>\n",
       "      <td>11.0</td>\n",
       "      <td>2017-01-23</td>\n",
       "      <td>Graphic Design</td>\n",
       "      <td>4011300</td>\n",
       "      <td>1</td>\n",
       "      <td>2017</td>\n",
       "    </tr>\n",
       "    <tr>\n",
       "      <th>1255</th>\n",
       "      <td>Logo Designing for Your Business in an Hour</td>\n",
       "      <td>True</td>\n",
       "      <td>20</td>\n",
       "      <td>25277</td>\n",
       "      <td>311</td>\n",
       "      <td>16</td>\n",
       "      <td>All Levels</td>\n",
       "      <td>1.0</td>\n",
       "      <td>2015-01-05</td>\n",
       "      <td>Graphic Design</td>\n",
       "      <td>505540</td>\n",
       "      <td>1</td>\n",
       "      <td>2015</td>\n",
       "    </tr>\n",
       "    <tr>\n",
       "      <th>1526</th>\n",
       "      <td>How To Make Graphics For A Website</td>\n",
       "      <td>True</td>\n",
       "      <td>200</td>\n",
       "      <td>24857</td>\n",
       "      <td>35</td>\n",
       "      <td>11</td>\n",
       "      <td>All Levels</td>\n",
       "      <td>1.5</td>\n",
       "      <td>2014-03-15</td>\n",
       "      <td>Graphic Design</td>\n",
       "      <td>4971400</td>\n",
       "      <td>3</td>\n",
       "      <td>2014</td>\n",
       "    </tr>\n",
       "  </tbody>\n",
       "</table>\n",
       "</div>"
      ],
      "text/plain": [
       "                                           course_title  is_paid  price  \\\n",
       "1213  Photoshop for Entrepreneurs - Design 11 Practi...     True    200   \n",
       "1531                            Logo Design Essentials      True     20   \n",
       "1211  The Ultimate Drawing Course - Beginner to Adva...     True    150   \n",
       "1255        Logo Designing for Your Business in an Hour     True     20   \n",
       "1526                 How To Make Graphics For A Website     True    200   \n",
       "\n",
       "      num_subscribers  num_reviews  num_lectures           level  \\\n",
       "1213            36288          737            63      All Levels   \n",
       "1531            33205          481            12      All Levels   \n",
       "1211            26742         2379            62  Beginner Level   \n",
       "1255            25277          311            16      All Levels   \n",
       "1526            24857           35            11      All Levels   \n",
       "\n",
       "      content_duration published_timestamp         subject  gross_earnings  \\\n",
       "1213               5.0          2016-06-09  Graphic Design         7257600   \n",
       "1531               0.7          2014-06-30  Graphic Design          664100   \n",
       "1211              11.0          2017-01-23  Graphic Design         4011300   \n",
       "1255               1.0          2015-01-05  Graphic Design          505540   \n",
       "1526               1.5          2014-03-15  Graphic Design         4971400   \n",
       "\n",
       "      month  year  \n",
       "1213      6  2016  \n",
       "1531      6  2014  \n",
       "1211      1  2017  \n",
       "1255      1  2015  \n",
       "1526      3  2014  "
      ]
     },
     "execution_count": 36,
     "metadata": {},
     "output_type": "execute_result"
    }
   ],
   "source": [
    "df[(df['subject'] == \"Graphic Design\") & (df['is_paid'] == True)].sort_values(by='num_subscribers', ascending=False)[:5]"
   ]
  },
  {
   "cell_type": "markdown",
   "metadata": {},
   "source": [
    "Most Reviewed Graphic Design Courses"
   ]
  },
  {
   "cell_type": "code",
   "execution_count": 37,
   "metadata": {},
   "outputs": [
    {
     "data": {
      "text/html": [
       "<div>\n",
       "<style scoped>\n",
       "    .dataframe tbody tr th:only-of-type {\n",
       "        vertical-align: middle;\n",
       "    }\n",
       "\n",
       "    .dataframe tbody tr th {\n",
       "        vertical-align: top;\n",
       "    }\n",
       "\n",
       "    .dataframe thead th {\n",
       "        text-align: right;\n",
       "    }\n",
       "</style>\n",
       "<table border=\"1\" class=\"dataframe\">\n",
       "  <thead>\n",
       "    <tr style=\"text-align: right;\">\n",
       "      <th></th>\n",
       "      <th>course_title</th>\n",
       "      <th>is_paid</th>\n",
       "      <th>price</th>\n",
       "      <th>num_subscribers</th>\n",
       "      <th>num_reviews</th>\n",
       "      <th>num_lectures</th>\n",
       "      <th>level</th>\n",
       "      <th>content_duration</th>\n",
       "      <th>published_timestamp</th>\n",
       "      <th>subject</th>\n",
       "      <th>gross_earnings</th>\n",
       "      <th>month</th>\n",
       "      <th>year</th>\n",
       "    </tr>\n",
       "  </thead>\n",
       "  <tbody>\n",
       "    <tr>\n",
       "      <th>1211</th>\n",
       "      <td>The Ultimate Drawing Course - Beginner to Adva...</td>\n",
       "      <td>True</td>\n",
       "      <td>150</td>\n",
       "      <td>26742</td>\n",
       "      <td>2379</td>\n",
       "      <td>62</td>\n",
       "      <td>Beginner Level</td>\n",
       "      <td>11.0</td>\n",
       "      <td>2017-01-23</td>\n",
       "      <td>Graphic Design</td>\n",
       "      <td>4011300</td>\n",
       "      <td>1</td>\n",
       "      <td>2017</td>\n",
       "    </tr>\n",
       "    <tr>\n",
       "      <th>1409</th>\n",
       "      <td>Graphic Design - An Overview of the Field</td>\n",
       "      <td>False</td>\n",
       "      <td>0</td>\n",
       "      <td>23229</td>\n",
       "      <td>2215</td>\n",
       "      <td>12</td>\n",
       "      <td>Beginner Level</td>\n",
       "      <td>1.0</td>\n",
       "      <td>2015-11-09</td>\n",
       "      <td>Graphic Design</td>\n",
       "      <td>0</td>\n",
       "      <td>11</td>\n",
       "      <td>2015</td>\n",
       "    </tr>\n",
       "    <tr>\n",
       "      <th>1461</th>\n",
       "      <td>Photoshop In-Depth: Master all of Photoshop's ...</td>\n",
       "      <td>False</td>\n",
       "      <td>0</td>\n",
       "      <td>53851</td>\n",
       "      <td>1779</td>\n",
       "      <td>45</td>\n",
       "      <td>All Levels</td>\n",
       "      <td>4.5</td>\n",
       "      <td>2014-11-30</td>\n",
       "      <td>Graphic Design</td>\n",
       "      <td>0</td>\n",
       "      <td>11</td>\n",
       "      <td>2014</td>\n",
       "    </tr>\n",
       "    <tr>\n",
       "      <th>1210</th>\n",
       "      <td>Graphic Design Bootcamp</td>\n",
       "      <td>True</td>\n",
       "      <td>200</td>\n",
       "      <td>15276</td>\n",
       "      <td>1740</td>\n",
       "      <td>65</td>\n",
       "      <td>Beginner Level</td>\n",
       "      <td>8.0</td>\n",
       "      <td>2016-05-13</td>\n",
       "      <td>Graphic Design</td>\n",
       "      <td>3055200</td>\n",
       "      <td>5</td>\n",
       "      <td>2016</td>\n",
       "    </tr>\n",
       "    <tr>\n",
       "      <th>1215</th>\n",
       "      <td>Sketch 3 from A to Z: Become an App Designer</td>\n",
       "      <td>True</td>\n",
       "      <td>75</td>\n",
       "      <td>7282</td>\n",
       "      <td>1629</td>\n",
       "      <td>42</td>\n",
       "      <td>All Levels</td>\n",
       "      <td>3.5</td>\n",
       "      <td>2015-01-03</td>\n",
       "      <td>Graphic Design</td>\n",
       "      <td>546150</td>\n",
       "      <td>1</td>\n",
       "      <td>2015</td>\n",
       "    </tr>\n",
       "  </tbody>\n",
       "</table>\n",
       "</div>"
      ],
      "text/plain": [
       "                                           course_title  is_paid  price  \\\n",
       "1211  The Ultimate Drawing Course - Beginner to Adva...     True    150   \n",
       "1409          Graphic Design - An Overview of the Field    False      0   \n",
       "1461  Photoshop In-Depth: Master all of Photoshop's ...    False      0   \n",
       "1210                            Graphic Design Bootcamp     True    200   \n",
       "1215       Sketch 3 from A to Z: Become an App Designer     True     75   \n",
       "\n",
       "      num_subscribers  num_reviews  num_lectures           level  \\\n",
       "1211            26742         2379            62  Beginner Level   \n",
       "1409            23229         2215            12  Beginner Level   \n",
       "1461            53851         1779            45      All Levels   \n",
       "1210            15276         1740            65  Beginner Level   \n",
       "1215             7282         1629            42      All Levels   \n",
       "\n",
       "      content_duration published_timestamp         subject  gross_earnings  \\\n",
       "1211              11.0          2017-01-23  Graphic Design         4011300   \n",
       "1409               1.0          2015-11-09  Graphic Design               0   \n",
       "1461               4.5          2014-11-30  Graphic Design               0   \n",
       "1210               8.0          2016-05-13  Graphic Design         3055200   \n",
       "1215               3.5          2015-01-03  Graphic Design          546150   \n",
       "\n",
       "      month  year  \n",
       "1211      1  2017  \n",
       "1409     11  2015  \n",
       "1461     11  2014  \n",
       "1210      5  2016  \n",
       "1215      1  2015  "
      ]
     },
     "execution_count": 37,
     "metadata": {},
     "output_type": "execute_result"
    }
   ],
   "source": [
    "df[(df['subject'] == \"Graphic Design\")].sort_values(by='num_reviews', ascending=False)[:5]"
   ]
  },
  {
   "cell_type": "markdown",
   "metadata": {},
   "source": [
    "Longest Graphic Design Courses"
   ]
  },
  {
   "cell_type": "code",
   "execution_count": 38,
   "metadata": {},
   "outputs": [
    {
     "data": {
      "text/html": [
       "<div>\n",
       "<style scoped>\n",
       "    .dataframe tbody tr th:only-of-type {\n",
       "        vertical-align: middle;\n",
       "    }\n",
       "\n",
       "    .dataframe tbody tr th {\n",
       "        vertical-align: top;\n",
       "    }\n",
       "\n",
       "    .dataframe thead th {\n",
       "        text-align: right;\n",
       "    }\n",
       "</style>\n",
       "<table border=\"1\" class=\"dataframe\">\n",
       "  <thead>\n",
       "    <tr style=\"text-align: right;\">\n",
       "      <th></th>\n",
       "      <th>course_title</th>\n",
       "      <th>is_paid</th>\n",
       "      <th>price</th>\n",
       "      <th>num_subscribers</th>\n",
       "      <th>num_reviews</th>\n",
       "      <th>num_lectures</th>\n",
       "      <th>level</th>\n",
       "      <th>content_duration</th>\n",
       "      <th>published_timestamp</th>\n",
       "      <th>subject</th>\n",
       "      <th>gross_earnings</th>\n",
       "      <th>month</th>\n",
       "      <th>year</th>\n",
       "    </tr>\n",
       "  </thead>\n",
       "  <tbody>\n",
       "    <tr>\n",
       "      <th>1658</th>\n",
       "      <td>The Complete Figure Drawing Course HD</td>\n",
       "      <td>True</td>\n",
       "      <td>50</td>\n",
       "      <td>1323</td>\n",
       "      <td>136</td>\n",
       "      <td>225</td>\n",
       "      <td>Beginner Level</td>\n",
       "      <td>78.5</td>\n",
       "      <td>2016-10-11</td>\n",
       "      <td>Graphic Design</td>\n",
       "      <td>66150</td>\n",
       "      <td>10</td>\n",
       "      <td>2016</td>\n",
       "    </tr>\n",
       "    <tr>\n",
       "      <th>1214</th>\n",
       "      <td>Anatomy for Figure Drawing: Mastering the Huma...</td>\n",
       "      <td>True</td>\n",
       "      <td>95</td>\n",
       "      <td>15500</td>\n",
       "      <td>754</td>\n",
       "      <td>65</td>\n",
       "      <td>All Levels</td>\n",
       "      <td>68.5</td>\n",
       "      <td>2013-10-16</td>\n",
       "      <td>Graphic Design</td>\n",
       "      <td>1472500</td>\n",
       "      <td>10</td>\n",
       "      <td>2013</td>\n",
       "    </tr>\n",
       "    <tr>\n",
       "      <th>1202</th>\n",
       "      <td>Discover How to Draw and paint Comics</td>\n",
       "      <td>True</td>\n",
       "      <td>65</td>\n",
       "      <td>8901</td>\n",
       "      <td>424</td>\n",
       "      <td>85</td>\n",
       "      <td>All Levels</td>\n",
       "      <td>62.0</td>\n",
       "      <td>2012-11-21</td>\n",
       "      <td>Graphic Design</td>\n",
       "      <td>578565</td>\n",
       "      <td>11</td>\n",
       "      <td>2012</td>\n",
       "    </tr>\n",
       "    <tr>\n",
       "      <th>1509</th>\n",
       "      <td>الدورة الشاملة illustrator from zero to hero</td>\n",
       "      <td>True</td>\n",
       "      <td>150</td>\n",
       "      <td>155</td>\n",
       "      <td>40</td>\n",
       "      <td>158</td>\n",
       "      <td>All Levels</td>\n",
       "      <td>30.0</td>\n",
       "      <td>2016-12-19</td>\n",
       "      <td>Graphic Design</td>\n",
       "      <td>23250</td>\n",
       "      <td>12</td>\n",
       "      <td>2016</td>\n",
       "    </tr>\n",
       "    <tr>\n",
       "      <th>1769</th>\n",
       "      <td>Architectural Drawing For Creatives</td>\n",
       "      <td>True</td>\n",
       "      <td>195</td>\n",
       "      <td>5</td>\n",
       "      <td>0</td>\n",
       "      <td>156</td>\n",
       "      <td>All Levels</td>\n",
       "      <td>24.0</td>\n",
       "      <td>2017-06-21</td>\n",
       "      <td>Graphic Design</td>\n",
       "      <td>975</td>\n",
       "      <td>6</td>\n",
       "      <td>2017</td>\n",
       "    </tr>\n",
       "  </tbody>\n",
       "</table>\n",
       "</div>"
      ],
      "text/plain": [
       "                                           course_title  is_paid  price  \\\n",
       "1658              The Complete Figure Drawing Course HD     True     50   \n",
       "1214  Anatomy for Figure Drawing: Mastering the Huma...     True     95   \n",
       "1202              Discover How to Draw and paint Comics     True     65   \n",
       "1509       الدورة الشاملة illustrator from zero to hero     True    150   \n",
       "1769                Architectural Drawing For Creatives     True    195   \n",
       "\n",
       "      num_subscribers  num_reviews  num_lectures           level  \\\n",
       "1658             1323          136           225  Beginner Level   \n",
       "1214            15500          754            65      All Levels   \n",
       "1202             8901          424            85      All Levels   \n",
       "1509              155           40           158      All Levels   \n",
       "1769                5            0           156      All Levels   \n",
       "\n",
       "      content_duration published_timestamp         subject  gross_earnings  \\\n",
       "1658              78.5          2016-10-11  Graphic Design           66150   \n",
       "1214              68.5          2013-10-16  Graphic Design         1472500   \n",
       "1202              62.0          2012-11-21  Graphic Design          578565   \n",
       "1509              30.0          2016-12-19  Graphic Design           23250   \n",
       "1769              24.0          2017-06-21  Graphic Design             975   \n",
       "\n",
       "      month  year  \n",
       "1658     10  2016  \n",
       "1214     10  2013  \n",
       "1202     11  2012  \n",
       "1509     12  2016  \n",
       "1769      6  2017  "
      ]
     },
     "execution_count": 38,
     "metadata": {},
     "output_type": "execute_result"
    }
   ],
   "source": [
    "df[(df['subject'] == \"Graphic Design\")].sort_values(by='content_duration', ascending=False)[:5]"
   ]
  },
  {
   "cell_type": "markdown",
   "metadata": {},
   "source": [
    "Costliest Graphic Design Courses"
   ]
  },
  {
   "cell_type": "code",
   "execution_count": 39,
   "metadata": {},
   "outputs": [
    {
     "data": {
      "text/html": [
       "<div>\n",
       "<style scoped>\n",
       "    .dataframe tbody tr th:only-of-type {\n",
       "        vertical-align: middle;\n",
       "    }\n",
       "\n",
       "    .dataframe tbody tr th {\n",
       "        vertical-align: top;\n",
       "    }\n",
       "\n",
       "    .dataframe thead th {\n",
       "        text-align: right;\n",
       "    }\n",
       "</style>\n",
       "<table border=\"1\" class=\"dataframe\">\n",
       "  <thead>\n",
       "    <tr style=\"text-align: right;\">\n",
       "      <th></th>\n",
       "      <th>course_title</th>\n",
       "      <th>is_paid</th>\n",
       "      <th>price</th>\n",
       "      <th>num_subscribers</th>\n",
       "      <th>num_reviews</th>\n",
       "      <th>num_lectures</th>\n",
       "      <th>level</th>\n",
       "      <th>content_duration</th>\n",
       "      <th>published_timestamp</th>\n",
       "      <th>subject</th>\n",
       "      <th>gross_earnings</th>\n",
       "      <th>month</th>\n",
       "      <th>year</th>\n",
       "    </tr>\n",
       "  </thead>\n",
       "  <tbody>\n",
       "    <tr>\n",
       "      <th>1659</th>\n",
       "      <td>Mastering Logo Design - 20 Projects step-by-step</td>\n",
       "      <td>True</td>\n",
       "      <td>200</td>\n",
       "      <td>2599</td>\n",
       "      <td>24</td>\n",
       "      <td>77</td>\n",
       "      <td>All Levels</td>\n",
       "      <td>7.5</td>\n",
       "      <td>2016-09-25</td>\n",
       "      <td>Graphic Design</td>\n",
       "      <td>519800</td>\n",
       "      <td>9</td>\n",
       "      <td>2016</td>\n",
       "    </tr>\n",
       "    <tr>\n",
       "      <th>1656</th>\n",
       "      <td>Canva : Graphic Design Theory Volume2</td>\n",
       "      <td>True</td>\n",
       "      <td>200</td>\n",
       "      <td>4961</td>\n",
       "      <td>38</td>\n",
       "      <td>29</td>\n",
       "      <td>All Levels</td>\n",
       "      <td>2.0</td>\n",
       "      <td>2015-06-20</td>\n",
       "      <td>Graphic Design</td>\n",
       "      <td>992200</td>\n",
       "      <td>6</td>\n",
       "      <td>2015</td>\n",
       "    </tr>\n",
       "    <tr>\n",
       "      <th>1220</th>\n",
       "      <td>Canva Graphics Design for Entrepreneurs - Desi...</td>\n",
       "      <td>True</td>\n",
       "      <td>200</td>\n",
       "      <td>18303</td>\n",
       "      <td>202</td>\n",
       "      <td>54</td>\n",
       "      <td>All Levels</td>\n",
       "      <td>3.5</td>\n",
       "      <td>2016-07-23</td>\n",
       "      <td>Graphic Design</td>\n",
       "      <td>3660600</td>\n",
       "      <td>7</td>\n",
       "      <td>2016</td>\n",
       "    </tr>\n",
       "    <tr>\n",
       "      <th>1309</th>\n",
       "      <td>Make Tech circles in Adobe Photoshop and Illus...</td>\n",
       "      <td>True</td>\n",
       "      <td>200</td>\n",
       "      <td>1150</td>\n",
       "      <td>10</td>\n",
       "      <td>13</td>\n",
       "      <td>All Levels</td>\n",
       "      <td>1.0</td>\n",
       "      <td>2015-10-14</td>\n",
       "      <td>Graphic Design</td>\n",
       "      <td>230000</td>\n",
       "      <td>10</td>\n",
       "      <td>2015</td>\n",
       "    </tr>\n",
       "    <tr>\n",
       "      <th>1598</th>\n",
       "      <td>会声会影深度教学</td>\n",
       "      <td>True</td>\n",
       "      <td>200</td>\n",
       "      <td>3</td>\n",
       "      <td>2</td>\n",
       "      <td>12</td>\n",
       "      <td>Beginner Level</td>\n",
       "      <td>0.6</td>\n",
       "      <td>2017-03-17</td>\n",
       "      <td>Graphic Design</td>\n",
       "      <td>600</td>\n",
       "      <td>3</td>\n",
       "      <td>2017</td>\n",
       "    </tr>\n",
       "  </tbody>\n",
       "</table>\n",
       "</div>"
      ],
      "text/plain": [
       "                                           course_title  is_paid  price  \\\n",
       "1659   Mastering Logo Design - 20 Projects step-by-step     True    200   \n",
       "1656              Canva : Graphic Design Theory Volume2     True    200   \n",
       "1220  Canva Graphics Design for Entrepreneurs - Desi...     True    200   \n",
       "1309  Make Tech circles in Adobe Photoshop and Illus...     True    200   \n",
       "1598                                           会声会影深度教学     True    200   \n",
       "\n",
       "      num_subscribers  num_reviews  num_lectures           level  \\\n",
       "1659             2599           24            77      All Levels   \n",
       "1656             4961           38            29      All Levels   \n",
       "1220            18303          202            54      All Levels   \n",
       "1309             1150           10            13      All Levels   \n",
       "1598                3            2            12  Beginner Level   \n",
       "\n",
       "      content_duration published_timestamp         subject  gross_earnings  \\\n",
       "1659               7.5          2016-09-25  Graphic Design          519800   \n",
       "1656               2.0          2015-06-20  Graphic Design          992200   \n",
       "1220               3.5          2016-07-23  Graphic Design         3660600   \n",
       "1309               1.0          2015-10-14  Graphic Design          230000   \n",
       "1598               0.6          2017-03-17  Graphic Design             600   \n",
       "\n",
       "      month  year  \n",
       "1659      9  2016  \n",
       "1656      6  2015  \n",
       "1220      7  2016  \n",
       "1309     10  2015  \n",
       "1598      3  2017  "
      ]
     },
     "execution_count": 39,
     "metadata": {},
     "output_type": "execute_result"
    }
   ],
   "source": [
    "df[(df['subject'] == \"Graphic Design\")].sort_values(by='price', ascending=False)[:5]"
   ]
  },
  {
   "cell_type": "markdown",
   "metadata": {},
   "source": [
    "Best Beginner Level Graphic Design Course"
   ]
  },
  {
   "cell_type": "code",
   "execution_count": 40,
   "metadata": {},
   "outputs": [
    {
     "data": {
      "text/html": [
       "<div>\n",
       "<style scoped>\n",
       "    .dataframe tbody tr th:only-of-type {\n",
       "        vertical-align: middle;\n",
       "    }\n",
       "\n",
       "    .dataframe tbody tr th {\n",
       "        vertical-align: top;\n",
       "    }\n",
       "\n",
       "    .dataframe thead th {\n",
       "        text-align: right;\n",
       "    }\n",
       "</style>\n",
       "<table border=\"1\" class=\"dataframe\">\n",
       "  <thead>\n",
       "    <tr style=\"text-align: right;\">\n",
       "      <th></th>\n",
       "      <th>course_title</th>\n",
       "      <th>is_paid</th>\n",
       "      <th>price</th>\n",
       "      <th>num_subscribers</th>\n",
       "      <th>num_reviews</th>\n",
       "      <th>num_lectures</th>\n",
       "      <th>level</th>\n",
       "      <th>content_duration</th>\n",
       "      <th>published_timestamp</th>\n",
       "      <th>subject</th>\n",
       "      <th>gross_earnings</th>\n",
       "      <th>month</th>\n",
       "      <th>year</th>\n",
       "    </tr>\n",
       "  </thead>\n",
       "  <tbody>\n",
       "    <tr>\n",
       "      <th>1211</th>\n",
       "      <td>The Ultimate Drawing Course - Beginner to Adva...</td>\n",
       "      <td>True</td>\n",
       "      <td>150</td>\n",
       "      <td>26742</td>\n",
       "      <td>2379</td>\n",
       "      <td>62</td>\n",
       "      <td>Beginner Level</td>\n",
       "      <td>11.0</td>\n",
       "      <td>2017-01-23</td>\n",
       "      <td>Graphic Design</td>\n",
       "      <td>4011300</td>\n",
       "      <td>1</td>\n",
       "      <td>2017</td>\n",
       "    </tr>\n",
       "    <tr>\n",
       "      <th>1409</th>\n",
       "      <td>Graphic Design - An Overview of the Field</td>\n",
       "      <td>False</td>\n",
       "      <td>0</td>\n",
       "      <td>23229</td>\n",
       "      <td>2215</td>\n",
       "      <td>12</td>\n",
       "      <td>Beginner Level</td>\n",
       "      <td>1.0</td>\n",
       "      <td>2015-11-09</td>\n",
       "      <td>Graphic Design</td>\n",
       "      <td>0</td>\n",
       "      <td>11</td>\n",
       "      <td>2015</td>\n",
       "    </tr>\n",
       "    <tr>\n",
       "      <th>1210</th>\n",
       "      <td>Graphic Design Bootcamp</td>\n",
       "      <td>True</td>\n",
       "      <td>200</td>\n",
       "      <td>15276</td>\n",
       "      <td>1740</td>\n",
       "      <td>65</td>\n",
       "      <td>Beginner Level</td>\n",
       "      <td>8.0</td>\n",
       "      <td>2016-05-13</td>\n",
       "      <td>Graphic Design</td>\n",
       "      <td>3055200</td>\n",
       "      <td>5</td>\n",
       "      <td>2016</td>\n",
       "    </tr>\n",
       "    <tr>\n",
       "      <th>1458</th>\n",
       "      <td>Quote Images for Pinterest, Facebook, &amp; Instagram</td>\n",
       "      <td>False</td>\n",
       "      <td>0</td>\n",
       "      <td>12103</td>\n",
       "      <td>576</td>\n",
       "      <td>18</td>\n",
       "      <td>Beginner Level</td>\n",
       "      <td>1.0</td>\n",
       "      <td>2015-09-24</td>\n",
       "      <td>Graphic Design</td>\n",
       "      <td>0</td>\n",
       "      <td>9</td>\n",
       "      <td>2015</td>\n",
       "    </tr>\n",
       "    <tr>\n",
       "      <th>1201</th>\n",
       "      <td>Create Professional Looking Infographics With ...</td>\n",
       "      <td>True</td>\n",
       "      <td>180</td>\n",
       "      <td>9367</td>\n",
       "      <td>104</td>\n",
       "      <td>21</td>\n",
       "      <td>Beginner Level</td>\n",
       "      <td>2.0</td>\n",
       "      <td>2017-03-21</td>\n",
       "      <td>Graphic Design</td>\n",
       "      <td>1686060</td>\n",
       "      <td>3</td>\n",
       "      <td>2017</td>\n",
       "    </tr>\n",
       "  </tbody>\n",
       "</table>\n",
       "</div>"
      ],
      "text/plain": [
       "                                           course_title  is_paid  price  \\\n",
       "1211  The Ultimate Drawing Course - Beginner to Adva...     True    150   \n",
       "1409          Graphic Design - An Overview of the Field    False      0   \n",
       "1210                            Graphic Design Bootcamp     True    200   \n",
       "1458  Quote Images for Pinterest, Facebook, & Instagram    False      0   \n",
       "1201  Create Professional Looking Infographics With ...     True    180   \n",
       "\n",
       "      num_subscribers  num_reviews  num_lectures           level  \\\n",
       "1211            26742         2379            62  Beginner Level   \n",
       "1409            23229         2215            12  Beginner Level   \n",
       "1210            15276         1740            65  Beginner Level   \n",
       "1458            12103          576            18  Beginner Level   \n",
       "1201             9367          104            21  Beginner Level   \n",
       "\n",
       "      content_duration published_timestamp         subject  gross_earnings  \\\n",
       "1211              11.0          2017-01-23  Graphic Design         4011300   \n",
       "1409               1.0          2015-11-09  Graphic Design               0   \n",
       "1210               8.0          2016-05-13  Graphic Design         3055200   \n",
       "1458               1.0          2015-09-24  Graphic Design               0   \n",
       "1201               2.0          2017-03-21  Graphic Design         1686060   \n",
       "\n",
       "      month  year  \n",
       "1211      1  2017  \n",
       "1409     11  2015  \n",
       "1210      5  2016  \n",
       "1458      9  2015  \n",
       "1201      3  2017  "
      ]
     },
     "execution_count": 40,
     "metadata": {},
     "output_type": "execute_result"
    }
   ],
   "source": [
    "df[(df['subject'] == \"Graphic Design\") & (df['level'] == 'Beginner Level')].sort_values(by='num_subscribers', ascending=False)[:5]"
   ]
  },
  {
   "cell_type": "markdown",
   "metadata": {},
   "source": [
    "Best Intermediate Level Graphic Design Course"
   ]
  },
  {
   "cell_type": "code",
   "execution_count": 41,
   "metadata": {},
   "outputs": [
    {
     "data": {
      "text/html": [
       "<div>\n",
       "<style scoped>\n",
       "    .dataframe tbody tr th:only-of-type {\n",
       "        vertical-align: middle;\n",
       "    }\n",
       "\n",
       "    .dataframe tbody tr th {\n",
       "        vertical-align: top;\n",
       "    }\n",
       "\n",
       "    .dataframe thead th {\n",
       "        text-align: right;\n",
       "    }\n",
       "</style>\n",
       "<table border=\"1\" class=\"dataframe\">\n",
       "  <thead>\n",
       "    <tr style=\"text-align: right;\">\n",
       "      <th></th>\n",
       "      <th>course_title</th>\n",
       "      <th>is_paid</th>\n",
       "      <th>price</th>\n",
       "      <th>num_subscribers</th>\n",
       "      <th>num_reviews</th>\n",
       "      <th>num_lectures</th>\n",
       "      <th>level</th>\n",
       "      <th>content_duration</th>\n",
       "      <th>published_timestamp</th>\n",
       "      <th>subject</th>\n",
       "      <th>gross_earnings</th>\n",
       "      <th>month</th>\n",
       "      <th>year</th>\n",
       "    </tr>\n",
       "  </thead>\n",
       "  <tbody>\n",
       "    <tr>\n",
       "      <th>1252</th>\n",
       "      <td>Master App Icon Design for iPhone (IOS) &amp; Andr...</td>\n",
       "      <td>True</td>\n",
       "      <td>25</td>\n",
       "      <td>9464</td>\n",
       "      <td>329</td>\n",
       "      <td>43</td>\n",
       "      <td>Intermediate Level</td>\n",
       "      <td>2.0</td>\n",
       "      <td>2015-12-21</td>\n",
       "      <td>Graphic Design</td>\n",
       "      <td>236600</td>\n",
       "      <td>12</td>\n",
       "      <td>2015</td>\n",
       "    </tr>\n",
       "    <tr>\n",
       "      <th>1254</th>\n",
       "      <td>Mastering advance Photoshop</td>\n",
       "      <td>True</td>\n",
       "      <td>20</td>\n",
       "      <td>5787</td>\n",
       "      <td>40</td>\n",
       "      <td>21</td>\n",
       "      <td>Intermediate Level</td>\n",
       "      <td>2.0</td>\n",
       "      <td>2017-04-27</td>\n",
       "      <td>Graphic Design</td>\n",
       "      <td>115740</td>\n",
       "      <td>4</td>\n",
       "      <td>2017</td>\n",
       "    </tr>\n",
       "    <tr>\n",
       "      <th>1395</th>\n",
       "      <td>Most Wanted Flat Design Techniques #1: Desert ...</td>\n",
       "      <td>False</td>\n",
       "      <td>0</td>\n",
       "      <td>4294</td>\n",
       "      <td>143</td>\n",
       "      <td>15</td>\n",
       "      <td>Intermediate Level</td>\n",
       "      <td>1.0</td>\n",
       "      <td>2016-03-17</td>\n",
       "      <td>Graphic Design</td>\n",
       "      <td>0</td>\n",
       "      <td>3</td>\n",
       "      <td>2016</td>\n",
       "    </tr>\n",
       "  </tbody>\n",
       "</table>\n",
       "</div>"
      ],
      "text/plain": [
       "                                           course_title  is_paid  price  \\\n",
       "1252  Master App Icon Design for iPhone (IOS) & Andr...     True     25   \n",
       "1254                        Mastering advance Photoshop     True     20   \n",
       "1395  Most Wanted Flat Design Techniques #1: Desert ...    False      0   \n",
       "\n",
       "      num_subscribers  num_reviews  num_lectures               level  \\\n",
       "1252             9464          329            43  Intermediate Level   \n",
       "1254             5787           40            21  Intermediate Level   \n",
       "1395             4294          143            15  Intermediate Level   \n",
       "\n",
       "      content_duration published_timestamp         subject  gross_earnings  \\\n",
       "1252               2.0          2015-12-21  Graphic Design          236600   \n",
       "1254               2.0          2017-04-27  Graphic Design          115740   \n",
       "1395               1.0          2016-03-17  Graphic Design               0   \n",
       "\n",
       "      month  year  \n",
       "1252     12  2015  \n",
       "1254      4  2017  \n",
       "1395      3  2016  "
      ]
     },
     "execution_count": 41,
     "metadata": {},
     "output_type": "execute_result"
    }
   ],
   "source": [
    "df[(df['subject'] == \"Graphic Design\") & (df['level'] == 'Intermediate Level')].sort_values(by='num_subscribers', ascending=False)[:3]"
   ]
  },
  {
   "cell_type": "markdown",
   "metadata": {},
   "source": [
    "Latest Graphic Design Course (Sorted By Subscribers)"
   ]
  },
  {
   "cell_type": "code",
   "execution_count": 42,
   "metadata": {},
   "outputs": [
    {
     "data": {
      "text/html": [
       "<div>\n",
       "<style scoped>\n",
       "    .dataframe tbody tr th:only-of-type {\n",
       "        vertical-align: middle;\n",
       "    }\n",
       "\n",
       "    .dataframe tbody tr th {\n",
       "        vertical-align: top;\n",
       "    }\n",
       "\n",
       "    .dataframe thead th {\n",
       "        text-align: right;\n",
       "    }\n",
       "</style>\n",
       "<table border=\"1\" class=\"dataframe\">\n",
       "  <thead>\n",
       "    <tr style=\"text-align: right;\">\n",
       "      <th></th>\n",
       "      <th>course_title</th>\n",
       "      <th>is_paid</th>\n",
       "      <th>price</th>\n",
       "      <th>num_subscribers</th>\n",
       "      <th>num_reviews</th>\n",
       "      <th>num_lectures</th>\n",
       "      <th>level</th>\n",
       "      <th>content_duration</th>\n",
       "      <th>published_timestamp</th>\n",
       "      <th>subject</th>\n",
       "      <th>gross_earnings</th>\n",
       "      <th>month</th>\n",
       "      <th>year</th>\n",
       "    </tr>\n",
       "  </thead>\n",
       "  <tbody>\n",
       "    <tr>\n",
       "      <th>1623</th>\n",
       "      <td>Photoshop isn't like what you imagine A to Z .</td>\n",
       "      <td>True</td>\n",
       "      <td>35</td>\n",
       "      <td>343</td>\n",
       "      <td>0</td>\n",
       "      <td>24</td>\n",
       "      <td>All Levels</td>\n",
       "      <td>3.5</td>\n",
       "      <td>2017-07-06</td>\n",
       "      <td>Graphic Design</td>\n",
       "      <td>12005</td>\n",
       "      <td>7</td>\n",
       "      <td>2017</td>\n",
       "    </tr>\n",
       "    <tr>\n",
       "      <th>1423</th>\n",
       "      <td>Photo Manipulation: Master Photo Editing</td>\n",
       "      <td>True</td>\n",
       "      <td>75</td>\n",
       "      <td>326</td>\n",
       "      <td>6</td>\n",
       "      <td>43</td>\n",
       "      <td>All Levels</td>\n",
       "      <td>1.0</td>\n",
       "      <td>2017-07-03</td>\n",
       "      <td>Graphic Design</td>\n",
       "      <td>24450</td>\n",
       "      <td>7</td>\n",
       "      <td>2017</td>\n",
       "    </tr>\n",
       "    <tr>\n",
       "      <th>1264</th>\n",
       "      <td>Photoshop para iniciante - o básico</td>\n",
       "      <td>True</td>\n",
       "      <td>30</td>\n",
       "      <td>23</td>\n",
       "      <td>2</td>\n",
       "      <td>20</td>\n",
       "      <td>Beginner Level</td>\n",
       "      <td>3.0</td>\n",
       "      <td>2017-07-03</td>\n",
       "      <td>Graphic Design</td>\n",
       "      <td>690</td>\n",
       "      <td>7</td>\n",
       "      <td>2017</td>\n",
       "    </tr>\n",
       "  </tbody>\n",
       "</table>\n",
       "</div>"
      ],
      "text/plain": [
       "                                        course_title  is_paid  price  \\\n",
       "1623  Photoshop isn't like what you imagine A to Z .     True     35   \n",
       "1423        Photo Manipulation: Master Photo Editing     True     75   \n",
       "1264             Photoshop para iniciante - o básico     True     30   \n",
       "\n",
       "      num_subscribers  num_reviews  num_lectures           level  \\\n",
       "1623              343            0            24      All Levels   \n",
       "1423              326            6            43      All Levels   \n",
       "1264               23            2            20  Beginner Level   \n",
       "\n",
       "      content_duration published_timestamp         subject  gross_earnings  \\\n",
       "1623               3.5          2017-07-06  Graphic Design           12005   \n",
       "1423               1.0          2017-07-03  Graphic Design           24450   \n",
       "1264               3.0          2017-07-03  Graphic Design             690   \n",
       "\n",
       "      month  year  \n",
       "1623      7  2017  \n",
       "1423      7  2017  \n",
       "1264      7  2017  "
      ]
     },
     "execution_count": 42,
     "metadata": {},
     "output_type": "execute_result"
    }
   ],
   "source": [
    "df[(df['subject'] == \"Graphic Design\")].sort_values(by=['published_timestamp', 'num_subscribers'], ascending=False)[:3]"
   ]
  },
  {
   "cell_type": "markdown",
   "metadata": {},
   "source": [
    "Trend of Graphic Design Course Development"
   ]
  },
  {
   "cell_type": "code",
   "execution_count": 43,
   "metadata": {},
   "outputs": [
    {
     "data": {
      "text/plain": [
       "Text(0.5, 1.0, 'Trend of Graphic Design course development by Year')"
      ]
     },
     "execution_count": 43,
     "metadata": {},
     "output_type": "execute_result"
    },
    {
     "data": {
      "image/png": "[encoded data removed]",
      "text/plain": [
       "<Figure size 864x432 with 1 Axes>"
      ]
     },
     "metadata": {
      "needs_background": "light"
     },
     "output_type": "display_data"
    }
   ],
   "source": [
    "gdDf = df[df['subject'] == \"Graphic Design\"]\n",
    "groupedgdDf = gdDf.groupby(by='year').count().reset_index()\n",
    "\n",
    "\n",
    "plt.figure(figsize=(12,6))\n",
    "sns.lineplot(data=groupedgdDf, x='year', y='course_title')\n",
    "plt.title('Trend of Graphic Design course development by Year')"
   ]
  },
  {
   "cell_type": "markdown",
   "metadata": {},
   "source": [
    "Trend of Graphic Design Course Subscribers"
   ]
  },
  {
   "cell_type": "code",
   "execution_count": 44,
   "metadata": {},
   "outputs": [
    {
     "data": {
      "text/plain": [
       "Text(0.5, 1.0, 'Trend of Graphic Design course Subscribers by Year')"
      ]
     },
     "execution_count": 44,
     "metadata": {},
     "output_type": "execute_result"
    },
    {
     "data": {
      "image/png": "[encoded data removed]",
      "text/plain": [
       "<Figure size 864x432 with 1 Axes>"
      ]
     },
     "metadata": {
      "needs_background": "light"
     },
     "output_type": "display_data"
    }
   ],
   "source": [
    "groupedgdDfSub = gdDf.groupby(by='year').sum().reset_index()\n",
    "plt.figure(figsize=(12,6))\n",
    "sns.lineplot(data=groupedgdDfSub, x='year', y='num_subscribers')\n",
    "plt.title('Trend of Graphic Design course Subscribers by Year')"
   ]
  },
  {
   "cell_type": "markdown",
   "metadata": {},
   "source": [
    "Trend of Graphic Design Course Earnings"
   ]
  },
  {
   "cell_type": "code",
   "execution_count": 45,
   "metadata": {},
   "outputs": [
    {
     "data": {
      "text/plain": [
       "Text(0.5, 1.0, 'Trend of Graphic Design course earnings by Year')"
      ]
     },
     "execution_count": 45,
     "metadata": {},
     "output_type": "execute_result"
    },
    {
     "data": {
      "image/png": "[encoded data removed]",
      "text/plain": [
       "<Figure size 864x432 with 1 Axes>"
      ]
     },
     "metadata": {
      "needs_background": "light"
     },
     "output_type": "display_data"
    }
   ],
   "source": [
    "groupedgdDfearn = gdDf.groupby(by='year').sum().reset_index()\n",
    "plt.figure(figsize=(12,6))\n",
    "sns.lineplot(data=groupedgdDfearn, x='year', y='gross_earnings')\n",
    "plt.title('Trend of Graphic Design course earnings by Year')"
   ]
  },
  {
   "cell_type": "markdown",
   "metadata": {},
   "source": [
    "Analysis on Web Development Category"
   ]
  },
  {
   "cell_type": "markdown",
   "metadata": {},
   "source": [
    "Top 5 Web Development Courses"
   ]
  },
  {
   "cell_type": "code",
   "execution_count": 46,
   "metadata": {},
   "outputs": [
    {
     "data": {
      "text/html": [
       "<div>\n",
       "<style scoped>\n",
       "    .dataframe tbody tr th:only-of-type {\n",
       "        vertical-align: middle;\n",
       "    }\n",
       "\n",
       "    .dataframe tbody tr th {\n",
       "        vertical-align: top;\n",
       "    }\n",
       "\n",
       "    .dataframe thead th {\n",
       "        text-align: right;\n",
       "    }\n",
       "</style>\n",
       "<table border=\"1\" class=\"dataframe\">\n",
       "  <thead>\n",
       "    <tr style=\"text-align: right;\">\n",
       "      <th></th>\n",
       "      <th>course_title</th>\n",
       "      <th>is_paid</th>\n",
       "      <th>price</th>\n",
       "      <th>num_subscribers</th>\n",
       "      <th>num_reviews</th>\n",
       "      <th>num_lectures</th>\n",
       "      <th>level</th>\n",
       "      <th>content_duration</th>\n",
       "      <th>published_timestamp</th>\n",
       "      <th>subject</th>\n",
       "      <th>gross_earnings</th>\n",
       "      <th>month</th>\n",
       "      <th>year</th>\n",
       "    </tr>\n",
       "  </thead>\n",
       "  <tbody>\n",
       "    <tr>\n",
       "      <th>2827</th>\n",
       "      <td>Learn HTML5 Programming From Scratch</td>\n",
       "      <td>False</td>\n",
       "      <td>0</td>\n",
       "      <td>268923</td>\n",
       "      <td>8629</td>\n",
       "      <td>45</td>\n",
       "      <td>All Levels</td>\n",
       "      <td>10.5</td>\n",
       "      <td>2013-02-14</td>\n",
       "      <td>Web Development</td>\n",
       "      <td>0</td>\n",
       "      <td>2</td>\n",
       "      <td>2013</td>\n",
       "    </tr>\n",
       "    <tr>\n",
       "      <th>3032</th>\n",
       "      <td>Coding for Entrepreneurs Basic</td>\n",
       "      <td>False</td>\n",
       "      <td>0</td>\n",
       "      <td>161029</td>\n",
       "      <td>279</td>\n",
       "      <td>27</td>\n",
       "      <td>Beginner Level</td>\n",
       "      <td>3.5</td>\n",
       "      <td>2013-06-09</td>\n",
       "      <td>Web Development</td>\n",
       "      <td>0</td>\n",
       "      <td>6</td>\n",
       "      <td>2013</td>\n",
       "    </tr>\n",
       "    <tr>\n",
       "      <th>3230</th>\n",
       "      <td>The Web Developer Bootcamp</td>\n",
       "      <td>True</td>\n",
       "      <td>200</td>\n",
       "      <td>121584</td>\n",
       "      <td>27445</td>\n",
       "      <td>342</td>\n",
       "      <td>All Levels</td>\n",
       "      <td>43.0</td>\n",
       "      <td>2015-11-02</td>\n",
       "      <td>Web Development</td>\n",
       "      <td>24316800</td>\n",
       "      <td>11</td>\n",
       "      <td>2015</td>\n",
       "    </tr>\n",
       "    <tr>\n",
       "      <th>2783</th>\n",
       "      <td>Build Your First Website in 1 Week with HTML5 ...</td>\n",
       "      <td>False</td>\n",
       "      <td>0</td>\n",
       "      <td>120291</td>\n",
       "      <td>5924</td>\n",
       "      <td>30</td>\n",
       "      <td>Beginner Level</td>\n",
       "      <td>3.0</td>\n",
       "      <td>2014-04-08</td>\n",
       "      <td>Web Development</td>\n",
       "      <td>0</td>\n",
       "      <td>4</td>\n",
       "      <td>2014</td>\n",
       "    </tr>\n",
       "    <tr>\n",
       "      <th>3232</th>\n",
       "      <td>The Complete Web Developer Course 2.0</td>\n",
       "      <td>True</td>\n",
       "      <td>200</td>\n",
       "      <td>114512</td>\n",
       "      <td>22412</td>\n",
       "      <td>304</td>\n",
       "      <td>All Levels</td>\n",
       "      <td>30.5</td>\n",
       "      <td>2016-03-08</td>\n",
       "      <td>Web Development</td>\n",
       "      <td>22902400</td>\n",
       "      <td>3</td>\n",
       "      <td>2016</td>\n",
       "    </tr>\n",
       "  </tbody>\n",
       "</table>\n",
       "</div>"
      ],
      "text/plain": [
       "                                           course_title  is_paid  price  \\\n",
       "2827               Learn HTML5 Programming From Scratch    False      0   \n",
       "3032                     Coding for Entrepreneurs Basic    False      0   \n",
       "3230                         The Web Developer Bootcamp     True    200   \n",
       "2783  Build Your First Website in 1 Week with HTML5 ...    False      0   \n",
       "3232              The Complete Web Developer Course 2.0     True    200   \n",
       "\n",
       "      num_subscribers  num_reviews  num_lectures           level  \\\n",
       "2827           268923         8629            45      All Levels   \n",
       "3032           161029          279            27  Beginner Level   \n",
       "3230           121584        27445           342      All Levels   \n",
       "2783           120291         5924            30  Beginner Level   \n",
       "3232           114512        22412           304      All Levels   \n",
       "\n",
       "      content_duration published_timestamp          subject  gross_earnings  \\\n",
       "2827              10.5          2013-02-14  Web Development               0   \n",
       "3032               3.5          2013-06-09  Web Development               0   \n",
       "3230              43.0          2015-11-02  Web Development        24316800   \n",
       "2783               3.0          2014-04-08  Web Development               0   \n",
       "3232              30.5          2016-03-08  Web Development        22902400   \n",
       "\n",
       "      month  year  \n",
       "2827      2  2013  \n",
       "3032      6  2013  \n",
       "3230     11  2015  \n",
       "2783      4  2014  \n",
       "3232      3  2016  "
      ]
     },
     "execution_count": 46,
     "metadata": {},
     "output_type": "execute_result"
    }
   ],
   "source": [
    "df[(df['subject'] == \"Web Development\")].sort_values(by='num_subscribers', ascending=False)[:5]"
   ]
  },
  {
   "cell_type": "markdown",
   "metadata": {},
   "source": [
    "Top 3 Free Web Development Courses"
   ]
  },
  {
   "cell_type": "code",
   "execution_count": 47,
   "metadata": {},
   "outputs": [
    {
     "data": {
      "text/html": [
       "<div>\n",
       "<style scoped>\n",
       "    .dataframe tbody tr th:only-of-type {\n",
       "        vertical-align: middle;\n",
       "    }\n",
       "\n",
       "    .dataframe tbody tr th {\n",
       "        vertical-align: top;\n",
       "    }\n",
       "\n",
       "    .dataframe thead th {\n",
       "        text-align: right;\n",
       "    }\n",
       "</style>\n",
       "<table border=\"1\" class=\"dataframe\">\n",
       "  <thead>\n",
       "    <tr style=\"text-align: right;\">\n",
       "      <th></th>\n",
       "      <th>course_title</th>\n",
       "      <th>is_paid</th>\n",
       "      <th>price</th>\n",
       "      <th>num_subscribers</th>\n",
       "      <th>num_reviews</th>\n",
       "      <th>num_lectures</th>\n",
       "      <th>level</th>\n",
       "      <th>content_duration</th>\n",
       "      <th>published_timestamp</th>\n",
       "      <th>subject</th>\n",
       "      <th>gross_earnings</th>\n",
       "      <th>month</th>\n",
       "      <th>year</th>\n",
       "    </tr>\n",
       "  </thead>\n",
       "  <tbody>\n",
       "    <tr>\n",
       "      <th>2827</th>\n",
       "      <td>Learn HTML5 Programming From Scratch</td>\n",
       "      <td>False</td>\n",
       "      <td>0</td>\n",
       "      <td>268923</td>\n",
       "      <td>8629</td>\n",
       "      <td>45</td>\n",
       "      <td>All Levels</td>\n",
       "      <td>10.5</td>\n",
       "      <td>2013-02-14</td>\n",
       "      <td>Web Development</td>\n",
       "      <td>0</td>\n",
       "      <td>2</td>\n",
       "      <td>2013</td>\n",
       "    </tr>\n",
       "    <tr>\n",
       "      <th>3032</th>\n",
       "      <td>Coding for Entrepreneurs Basic</td>\n",
       "      <td>False</td>\n",
       "      <td>0</td>\n",
       "      <td>161029</td>\n",
       "      <td>279</td>\n",
       "      <td>27</td>\n",
       "      <td>Beginner Level</td>\n",
       "      <td>3.5</td>\n",
       "      <td>2013-06-09</td>\n",
       "      <td>Web Development</td>\n",
       "      <td>0</td>\n",
       "      <td>6</td>\n",
       "      <td>2013</td>\n",
       "    </tr>\n",
       "    <tr>\n",
       "      <th>2783</th>\n",
       "      <td>Build Your First Website in 1 Week with HTML5 ...</td>\n",
       "      <td>False</td>\n",
       "      <td>0</td>\n",
       "      <td>120291</td>\n",
       "      <td>5924</td>\n",
       "      <td>30</td>\n",
       "      <td>Beginner Level</td>\n",
       "      <td>3.0</td>\n",
       "      <td>2014-04-08</td>\n",
       "      <td>Web Development</td>\n",
       "      <td>0</td>\n",
       "      <td>4</td>\n",
       "      <td>2014</td>\n",
       "    </tr>\n",
       "  </tbody>\n",
       "</table>\n",
       "</div>"
      ],
      "text/plain": [
       "                                           course_title  is_paid  price  \\\n",
       "2827               Learn HTML5 Programming From Scratch    False      0   \n",
       "3032                     Coding for Entrepreneurs Basic    False      0   \n",
       "2783  Build Your First Website in 1 Week with HTML5 ...    False      0   \n",
       "\n",
       "      num_subscribers  num_reviews  num_lectures           level  \\\n",
       "2827           268923         8629            45      All Levels   \n",
       "3032           161029          279            27  Beginner Level   \n",
       "2783           120291         5924            30  Beginner Level   \n",
       "\n",
       "      content_duration published_timestamp          subject  gross_earnings  \\\n",
       "2827              10.5          2013-02-14  Web Development               0   \n",
       "3032               3.5          2013-06-09  Web Development               0   \n",
       "2783               3.0          2014-04-08  Web Development               0   \n",
       "\n",
       "      month  year  \n",
       "2827      2  2013  \n",
       "3032      6  2013  \n",
       "2783      4  2014  "
      ]
     },
     "execution_count": 47,
     "metadata": {},
     "output_type": "execute_result"
    }
   ],
   "source": [
    "df[(df['subject'] == \"Web Development\") & (df['is_paid'] == False)].sort_values(by='num_subscribers', ascending=False)[:3]"
   ]
  },
  {
   "cell_type": "markdown",
   "metadata": {},
   "source": [
    "Top 3 Paid Web Development Courses"
   ]
  },
  {
   "cell_type": "code",
   "execution_count": 48,
   "metadata": {},
   "outputs": [
    {
     "data": {
      "text/html": [
       "<div>\n",
       "<style scoped>\n",
       "    .dataframe tbody tr th:only-of-type {\n",
       "        vertical-align: middle;\n",
       "    }\n",
       "\n",
       "    .dataframe tbody tr th {\n",
       "        vertical-align: top;\n",
       "    }\n",
       "\n",
       "    .dataframe thead th {\n",
       "        text-align: right;\n",
       "    }\n",
       "</style>\n",
       "<table border=\"1\" class=\"dataframe\">\n",
       "  <thead>\n",
       "    <tr style=\"text-align: right;\">\n",
       "      <th></th>\n",
       "      <th>course_title</th>\n",
       "      <th>is_paid</th>\n",
       "      <th>price</th>\n",
       "      <th>num_subscribers</th>\n",
       "      <th>num_reviews</th>\n",
       "      <th>num_lectures</th>\n",
       "      <th>level</th>\n",
       "      <th>content_duration</th>\n",
       "      <th>published_timestamp</th>\n",
       "      <th>subject</th>\n",
       "      <th>gross_earnings</th>\n",
       "      <th>month</th>\n",
       "      <th>year</th>\n",
       "    </tr>\n",
       "  </thead>\n",
       "  <tbody>\n",
       "    <tr>\n",
       "      <th>3230</th>\n",
       "      <td>The Web Developer Bootcamp</td>\n",
       "      <td>True</td>\n",
       "      <td>200</td>\n",
       "      <td>121584</td>\n",
       "      <td>27445</td>\n",
       "      <td>342</td>\n",
       "      <td>All Levels</td>\n",
       "      <td>43.0</td>\n",
       "      <td>2015-11-02</td>\n",
       "      <td>Web Development</td>\n",
       "      <td>24316800</td>\n",
       "      <td>11</td>\n",
       "      <td>2015</td>\n",
       "    </tr>\n",
       "    <tr>\n",
       "      <th>3232</th>\n",
       "      <td>The Complete Web Developer Course 2.0</td>\n",
       "      <td>True</td>\n",
       "      <td>200</td>\n",
       "      <td>114512</td>\n",
       "      <td>22412</td>\n",
       "      <td>304</td>\n",
       "      <td>All Levels</td>\n",
       "      <td>30.5</td>\n",
       "      <td>2016-03-08</td>\n",
       "      <td>Web Development</td>\n",
       "      <td>22902400</td>\n",
       "      <td>3</td>\n",
       "      <td>2016</td>\n",
       "    </tr>\n",
       "    <tr>\n",
       "      <th>2619</th>\n",
       "      <td>Learn Javascript &amp; JQuery From Scratch</td>\n",
       "      <td>True</td>\n",
       "      <td>30</td>\n",
       "      <td>84897</td>\n",
       "      <td>2685</td>\n",
       "      <td>10</td>\n",
       "      <td>All Levels</td>\n",
       "      <td>2.0</td>\n",
       "      <td>2013-10-10</td>\n",
       "      <td>Web Development</td>\n",
       "      <td>2546910</td>\n",
       "      <td>10</td>\n",
       "      <td>2013</td>\n",
       "    </tr>\n",
       "  </tbody>\n",
       "</table>\n",
       "</div>"
      ],
      "text/plain": [
       "                                course_title  is_paid  price  num_subscribers  \\\n",
       "3230              The Web Developer Bootcamp     True    200           121584   \n",
       "3232   The Complete Web Developer Course 2.0     True    200           114512   \n",
       "2619  Learn Javascript & JQuery From Scratch     True     30            84897   \n",
       "\n",
       "      num_reviews  num_lectures       level  content_duration  \\\n",
       "3230        27445           342  All Levels              43.0   \n",
       "3232        22412           304  All Levels              30.5   \n",
       "2619         2685            10  All Levels               2.0   \n",
       "\n",
       "     published_timestamp          subject  gross_earnings  month  year  \n",
       "3230          2015-11-02  Web Development        24316800     11  2015  \n",
       "3232          2016-03-08  Web Development        22902400      3  2016  \n",
       "2619          2013-10-10  Web Development         2546910     10  2013  "
      ]
     },
     "execution_count": 48,
     "metadata": {},
     "output_type": "execute_result"
    }
   ],
   "source": [
    "df[(df['subject'] == \"Web Development\") & (df['is_paid'] == True)].sort_values(by='num_subscribers', ascending=False)[:3]"
   ]
  },
  {
   "cell_type": "markdown",
   "metadata": {},
   "source": [
    "Most Reviewed Web Development Courses"
   ]
  },
  {
   "cell_type": "code",
   "execution_count": 49,
   "metadata": {},
   "outputs": [
    {
     "data": {
      "text/html": [
       "<div>\n",
       "<style scoped>\n",
       "    .dataframe tbody tr th:only-of-type {\n",
       "        vertical-align: middle;\n",
       "    }\n",
       "\n",
       "    .dataframe tbody tr th {\n",
       "        vertical-align: top;\n",
       "    }\n",
       "\n",
       "    .dataframe thead th {\n",
       "        text-align: right;\n",
       "    }\n",
       "</style>\n",
       "<table border=\"1\" class=\"dataframe\">\n",
       "  <thead>\n",
       "    <tr style=\"text-align: right;\">\n",
       "      <th></th>\n",
       "      <th>course_title</th>\n",
       "      <th>is_paid</th>\n",
       "      <th>price</th>\n",
       "      <th>num_subscribers</th>\n",
       "      <th>num_reviews</th>\n",
       "      <th>num_lectures</th>\n",
       "      <th>level</th>\n",
       "      <th>content_duration</th>\n",
       "      <th>published_timestamp</th>\n",
       "      <th>subject</th>\n",
       "      <th>gross_earnings</th>\n",
       "      <th>month</th>\n",
       "      <th>year</th>\n",
       "    </tr>\n",
       "  </thead>\n",
       "  <tbody>\n",
       "    <tr>\n",
       "      <th>3230</th>\n",
       "      <td>The Web Developer Bootcamp</td>\n",
       "      <td>True</td>\n",
       "      <td>200</td>\n",
       "      <td>121584</td>\n",
       "      <td>27445</td>\n",
       "      <td>342</td>\n",
       "      <td>All Levels</td>\n",
       "      <td>43.0</td>\n",
       "      <td>2015-11-02</td>\n",
       "      <td>Web Development</td>\n",
       "      <td>24316800</td>\n",
       "      <td>11</td>\n",
       "      <td>2015</td>\n",
       "    </tr>\n",
       "    <tr>\n",
       "      <th>3232</th>\n",
       "      <td>The Complete Web Developer Course 2.0</td>\n",
       "      <td>True</td>\n",
       "      <td>200</td>\n",
       "      <td>114512</td>\n",
       "      <td>22412</td>\n",
       "      <td>304</td>\n",
       "      <td>All Levels</td>\n",
       "      <td>30.5</td>\n",
       "      <td>2016-03-08</td>\n",
       "      <td>Web Development</td>\n",
       "      <td>22902400</td>\n",
       "      <td>3</td>\n",
       "      <td>2016</td>\n",
       "    </tr>\n",
       "    <tr>\n",
       "      <th>3204</th>\n",
       "      <td>Angular 4 (formerly Angular 2) - The Complete ...</td>\n",
       "      <td>True</td>\n",
       "      <td>190</td>\n",
       "      <td>73783</td>\n",
       "      <td>19649</td>\n",
       "      <td>329</td>\n",
       "      <td>All Levels</td>\n",
       "      <td>22.0</td>\n",
       "      <td>2016-02-11</td>\n",
       "      <td>Web Development</td>\n",
       "      <td>14018770</td>\n",
       "      <td>2</td>\n",
       "      <td>2016</td>\n",
       "    </tr>\n",
       "  </tbody>\n",
       "</table>\n",
       "</div>"
      ],
      "text/plain": [
       "                                           course_title  is_paid  price  \\\n",
       "3230                         The Web Developer Bootcamp     True    200   \n",
       "3232              The Complete Web Developer Course 2.0     True    200   \n",
       "3204  Angular 4 (formerly Angular 2) - The Complete ...     True    190   \n",
       "\n",
       "      num_subscribers  num_reviews  num_lectures       level  \\\n",
       "3230           121584        27445           342  All Levels   \n",
       "3232           114512        22412           304  All Levels   \n",
       "3204            73783        19649           329  All Levels   \n",
       "\n",
       "      content_duration published_timestamp          subject  gross_earnings  \\\n",
       "3230              43.0          2015-11-02  Web Development        24316800   \n",
       "3232              30.5          2016-03-08  Web Development        22902400   \n",
       "3204              22.0          2016-02-11  Web Development        14018770   \n",
       "\n",
       "      month  year  \n",
       "3230     11  2015  \n",
       "3232      3  2016  \n",
       "3204      2  2016  "
      ]
     },
     "execution_count": 49,
     "metadata": {},
     "output_type": "execute_result"
    }
   ],
   "source": [
    "df[(df['subject'] == \"Web Development\")].sort_values(by='num_reviews', ascending=False)[:3]"
   ]
  },
  {
   "cell_type": "markdown",
   "metadata": {},
   "source": [
    "Costliest Web Development Courses"
   ]
  },
  {
   "cell_type": "code",
   "execution_count": 50,
   "metadata": {},
   "outputs": [
    {
     "data": {
      "text/html": [
       "<div>\n",
       "<style scoped>\n",
       "    .dataframe tbody tr th:only-of-type {\n",
       "        vertical-align: middle;\n",
       "    }\n",
       "\n",
       "    .dataframe tbody tr th {\n",
       "        vertical-align: top;\n",
       "    }\n",
       "\n",
       "    .dataframe thead th {\n",
       "        text-align: right;\n",
       "    }\n",
       "</style>\n",
       "<table border=\"1\" class=\"dataframe\">\n",
       "  <thead>\n",
       "    <tr style=\"text-align: right;\">\n",
       "      <th></th>\n",
       "      <th>course_title</th>\n",
       "      <th>is_paid</th>\n",
       "      <th>price</th>\n",
       "      <th>num_subscribers</th>\n",
       "      <th>num_reviews</th>\n",
       "      <th>num_lectures</th>\n",
       "      <th>level</th>\n",
       "      <th>content_duration</th>\n",
       "      <th>published_timestamp</th>\n",
       "      <th>subject</th>\n",
       "      <th>gross_earnings</th>\n",
       "      <th>month</th>\n",
       "      <th>year</th>\n",
       "    </tr>\n",
       "  </thead>\n",
       "  <tbody>\n",
       "    <tr>\n",
       "      <th>3533</th>\n",
       "      <td>Kids Coding -Introduction to HTML, CSS and Jav...</td>\n",
       "      <td>True</td>\n",
       "      <td>200</td>\n",
       "      <td>2355</td>\n",
       "      <td>143</td>\n",
       "      <td>215</td>\n",
       "      <td>Beginner Level</td>\n",
       "      <td>7.0</td>\n",
       "      <td>2012-11-26</td>\n",
       "      <td>Web Development</td>\n",
       "      <td>471000</td>\n",
       "      <td>11</td>\n",
       "      <td>2012</td>\n",
       "    </tr>\n",
       "    <tr>\n",
       "      <th>3620</th>\n",
       "      <td>Learning Path: The Road to Elasticsearch</td>\n",
       "      <td>True</td>\n",
       "      <td>200</td>\n",
       "      <td>50</td>\n",
       "      <td>5</td>\n",
       "      <td>60</td>\n",
       "      <td>Beginner Level</td>\n",
       "      <td>5.0</td>\n",
       "      <td>2017-05-29</td>\n",
       "      <td>Web Development</td>\n",
       "      <td>10000</td>\n",
       "      <td>5</td>\n",
       "      <td>2017</td>\n",
       "    </tr>\n",
       "    <tr>\n",
       "      <th>3489</th>\n",
       "      <td>Ultimate guide to Social Media Web development...</td>\n",
       "      <td>True</td>\n",
       "      <td>200</td>\n",
       "      <td>11011</td>\n",
       "      <td>13</td>\n",
       "      <td>36</td>\n",
       "      <td>All Levels</td>\n",
       "      <td>2.5</td>\n",
       "      <td>2015-09-20</td>\n",
       "      <td>Web Development</td>\n",
       "      <td>2202200</td>\n",
       "      <td>9</td>\n",
       "      <td>2015</td>\n",
       "    </tr>\n",
       "  </tbody>\n",
       "</table>\n",
       "</div>"
      ],
      "text/plain": [
       "                                           course_title  is_paid  price  \\\n",
       "3533  Kids Coding -Introduction to HTML, CSS and Jav...     True    200   \n",
       "3620           Learning Path: The Road to Elasticsearch     True    200   \n",
       "3489  Ultimate guide to Social Media Web development...     True    200   \n",
       "\n",
       "      num_subscribers  num_reviews  num_lectures           level  \\\n",
       "3533             2355          143           215  Beginner Level   \n",
       "3620               50            5            60  Beginner Level   \n",
       "3489            11011           13            36      All Levels   \n",
       "\n",
       "      content_duration published_timestamp          subject  gross_earnings  \\\n",
       "3533               7.0          2012-11-26  Web Development          471000   \n",
       "3620               5.0          2017-05-29  Web Development           10000   \n",
       "3489               2.5          2015-09-20  Web Development         2202200   \n",
       "\n",
       "      month  year  \n",
       "3533     11  2012  \n",
       "3620      5  2017  \n",
       "3489      9  2015  "
      ]
     },
     "execution_count": 50,
     "metadata": {},
     "output_type": "execute_result"
    }
   ],
   "source": [
    "df[(df['subject'] == \"Web Development\")].sort_values(by='price', ascending=False)[:3]"
   ]
  },
  {
   "cell_type": "markdown",
   "metadata": {},
   "source": [
    "Longest Web Development Courses"
   ]
  },
  {
   "cell_type": "code",
   "execution_count": 51,
   "metadata": {},
   "outputs": [
    {
     "data": {
      "text/html": [
       "<div>\n",
       "<style scoped>\n",
       "    .dataframe tbody tr th:only-of-type {\n",
       "        vertical-align: middle;\n",
       "    }\n",
       "\n",
       "    .dataframe tbody tr th {\n",
       "        vertical-align: top;\n",
       "    }\n",
       "\n",
       "    .dataframe thead th {\n",
       "        text-align: right;\n",
       "    }\n",
       "</style>\n",
       "<table border=\"1\" class=\"dataframe\">\n",
       "  <thead>\n",
       "    <tr style=\"text-align: right;\">\n",
       "      <th></th>\n",
       "      <th>course_title</th>\n",
       "      <th>is_paid</th>\n",
       "      <th>price</th>\n",
       "      <th>num_subscribers</th>\n",
       "      <th>num_reviews</th>\n",
       "      <th>num_lectures</th>\n",
       "      <th>level</th>\n",
       "      <th>content_duration</th>\n",
       "      <th>published_timestamp</th>\n",
       "      <th>subject</th>\n",
       "      <th>gross_earnings</th>\n",
       "      <th>month</th>\n",
       "      <th>year</th>\n",
       "    </tr>\n",
       "  </thead>\n",
       "  <tbody>\n",
       "    <tr>\n",
       "      <th>3141</th>\n",
       "      <td>The Complete Web Development Course -  Build 1...</td>\n",
       "      <td>True</td>\n",
       "      <td>200</td>\n",
       "      <td>7501</td>\n",
       "      <td>1213</td>\n",
       "      <td>384</td>\n",
       "      <td>All Levels</td>\n",
       "      <td>76.5</td>\n",
       "      <td>2015-11-09</td>\n",
       "      <td>Web Development</td>\n",
       "      <td>1500200</td>\n",
       "      <td>11</td>\n",
       "      <td>2015</td>\n",
       "    </tr>\n",
       "    <tr>\n",
       "      <th>3611</th>\n",
       "      <td>Modern E-Commerce Store In php &amp; mysqli With B...</td>\n",
       "      <td>True</td>\n",
       "      <td>50</td>\n",
       "      <td>240</td>\n",
       "      <td>45</td>\n",
       "      <td>358</td>\n",
       "      <td>All Levels</td>\n",
       "      <td>66.5</td>\n",
       "      <td>2016-12-09</td>\n",
       "      <td>Web Development</td>\n",
       "      <td>12000</td>\n",
       "      <td>12</td>\n",
       "      <td>2016</td>\n",
       "    </tr>\n",
       "    <tr>\n",
       "      <th>2613</th>\n",
       "      <td>Become a Professional Web Developer | Version 3.0</td>\n",
       "      <td>True</td>\n",
       "      <td>200</td>\n",
       "      <td>6851</td>\n",
       "      <td>276</td>\n",
       "      <td>454</td>\n",
       "      <td>All Levels</td>\n",
       "      <td>60.0</td>\n",
       "      <td>2014-01-21</td>\n",
       "      <td>Web Development</td>\n",
       "      <td>1370200</td>\n",
       "      <td>1</td>\n",
       "      <td>2014</td>\n",
       "    </tr>\n",
       "  </tbody>\n",
       "</table>\n",
       "</div>"
      ],
      "text/plain": [
       "                                           course_title  is_paid  price  \\\n",
       "3141  The Complete Web Development Course -  Build 1...     True    200   \n",
       "3611  Modern E-Commerce Store In php & mysqli With B...     True     50   \n",
       "2613  Become a Professional Web Developer | Version 3.0     True    200   \n",
       "\n",
       "      num_subscribers  num_reviews  num_lectures       level  \\\n",
       "3141             7501         1213           384  All Levels   \n",
       "3611              240           45           358  All Levels   \n",
       "2613             6851          276           454  All Levels   \n",
       "\n",
       "      content_duration published_timestamp          subject  gross_earnings  \\\n",
       "3141              76.5          2015-11-09  Web Development         1500200   \n",
       "3611              66.5          2016-12-09  Web Development           12000   \n",
       "2613              60.0          2014-01-21  Web Development         1370200   \n",
       "\n",
       "      month  year  \n",
       "3141     11  2015  \n",
       "3611     12  2016  \n",
       "2613      1  2014  "
      ]
     },
     "execution_count": 51,
     "metadata": {},
     "output_type": "execute_result"
    }
   ],
   "source": [
    "df[(df['subject'] == \"Web Development\")].sort_values(by='content_duration', ascending=False)[:3]"
   ]
  },
  {
   "cell_type": "markdown",
   "metadata": {},
   "source": [
    "Trend of Web Development Course Development"
   ]
  },
  {
   "cell_type": "code",
   "execution_count": 52,
   "metadata": {},
   "outputs": [
    {
     "data": {
      "text/plain": [
       "Text(0.5, 1.0, 'Trend of Web Development course development by Year')"
      ]
     },
     "execution_count": 52,
     "metadata": {},
     "output_type": "execute_result"
    },
    {
     "data": {
      "image/png": "[encoded data removed]",
      "text/plain": [
       "<Figure size 864x432 with 1 Axes>"
      ]
     },
     "metadata": {
      "needs_background": "light"
     },
     "output_type": "display_data"
    }
   ],
   "source": [
    "webDf = df[df['subject'] == \"Web Development\"]\n",
    "groupedWebDf = webDf.groupby(by='year').count().reset_index()\n",
    "\n",
    "\n",
    "plt.figure(figsize=(12,6))\n",
    "sns.lineplot(data=groupedWebDf, x='year', y='course_title')\n",
    "plt.title('Trend of Web Development course development by Year')"
   ]
  },
  {
   "cell_type": "markdown",
   "metadata": {},
   "source": [
    "Trend of Web Development Course Subscribers"
   ]
  },
  {
   "cell_type": "code",
   "execution_count": 53,
   "metadata": {},
   "outputs": [
    {
     "data": {
      "text/plain": [
       "Text(0.5, 1.0, 'Trend of Web Development course subscribers by Year')"
      ]
     },
     "execution_count": 53,
     "metadata": {},
     "output_type": "execute_result"
    },
    {
     "data": {
      "image/png": "[encoded data removed]",
      "text/plain": [
       "<Figure size 864x432 with 1 Axes>"
      ]
     },
     "metadata": {
      "needs_background": "light"
     },
     "output_type": "display_data"
    }
   ],
   "source": [
    "groupedWebDf2 = webDf.groupby(by='year').sum().reset_index()\n",
    "\n",
    "\n",
    "plt.figure(figsize=(12,6))\n",
    "sns.lineplot(data=groupedWebDf2, x='year', y='num_subscribers')\n",
    "plt.title('Trend of Web Development course subscribers by Year')"
   ]
  },
  {
   "cell_type": "markdown",
   "metadata": {},
   "source": [
    "Trend of Web Development Course Earnings"
   ]
  },
  {
   "cell_type": "code",
   "execution_count": 54,
   "metadata": {},
   "outputs": [
    {
     "data": {
      "text/plain": [
       "Text(0.5, 1.0, 'Trend of Web Development course earnings by Year')"
      ]
     },
     "execution_count": 54,
     "metadata": {},
     "output_type": "execute_result"
    },
    {
     "data": {
      "image/png": "[encoded data removed]",
      "text/plain": [
       "<Figure size 864x432 with 1 Axes>"
      ]
     },
     "metadata": {
      "needs_background": "light"
     },
     "output_type": "display_data"
    }
   ],
   "source": [
    "plt.figure(figsize=(12,6))\n",
    "sns.lineplot(data=groupedWebDf2, x='year', y='gross_earnings')\n",
    "plt.title('Trend of Web Development course earnings by Year')"
   ]
  },
  {
   "cell_type": "markdown",
   "metadata": {},
   "source": [
    "BOX PLOTS"
   ]
  },
  {
   "cell_type": "code",
   "execution_count": 55,
   "metadata": {},
   "outputs": [
    {
     "data": {
      "text/plain": [
       "Text(0.5, 1.0, 'Box Plot on Subject And Price')"
      ]
     },
     "execution_count": 55,
     "metadata": {},
     "output_type": "execute_result"
    },
    {
     "data": {
      "image/png": "[encoded data removed]",
      "text/plain": [
       "<Figure size 864x432 with 1 Axes>"
      ]
     },
     "metadata": {
      "needs_background": "light"
     },
     "output_type": "display_data"
    }
   ],
   "source": [
    "plt.figure(figsize=(12,6))\n",
    "sns.boxplot(data=df, x='subject', y='price')\n",
    "plt.title('Box Plot on Subject And Price')\n"
   ]
  },
  {
   "cell_type": "code",
   "execution_count": 66,
   "metadata": {},
   "outputs": [
    {
     "data": {
      "text/plain": [
       "Text(0.5, 1.0, 'Box Plot on Subject And Number of Subscribers')"
      ]
     },
     "execution_count": 66,
     "metadata": {},
     "output_type": "execute_result"
    },
    {
     "data": {
      "image/png": "[encoded data removed]",
      "text/plain": [
       "<Figure size 864x432 with 1 Axes>"
      ]
     },
     "metadata": {
      "needs_background": "light"
     },
     "output_type": "display_data"
    }
   ],
   "source": [
    "plt.figure(figsize=(12,6))\n",
    "sns.boxplot(data=df, x='subject', y='num_subscribers')\n",
    "plt.title('Box Plot on Subject And Number of Subscribers')\n"
   ]
  },
  {
   "cell_type": "code",
   "execution_count": 56,
   "metadata": {},
   "outputs": [
    {
     "data": {
      "text/plain": [
       "Text(0.5, 1.0, 'Box Plot on Subject And Gross Earnings')"
      ]
     },
     "execution_count": 56,
     "metadata": {},
     "output_type": "execute_result"
    },
    {
     "data": {
      "image/png": "[encoded data removed]",
      "text/plain": [
       "<Figure size 864x432 with 1 Axes>"
      ]
     },
     "metadata": {
      "needs_background": "light"
     },
     "output_type": "display_data"
    }
   ],
   "source": [
    "plt.figure(figsize=(12,6))\n",
    "sns.boxplot(data=df, x='subject', y='gross_earnings')\n",
    "plt.title('Box Plot on Subject And Gross Earnings')\n"
   ]
  },
  {
   "cell_type": "code",
   "execution_count": 57,
   "metadata": {},
   "outputs": [
    {
     "data": {
      "text/plain": [
       "Text(0.5, 1.0, 'Box Plot on Subject And Year')"
      ]
     },
     "execution_count": 57,
     "metadata": {},
     "output_type": "execute_result"
    },
    {
     "data": {
      "image/png": "[encoded data removed]",
      "text/plain": [
       "<Figure size 864x432 with 1 Axes>"
      ]
     },
     "metadata": {
      "needs_background": "light"
     },
     "output_type": "display_data"
    }
   ],
   "source": [
    "plt.figure(figsize=(12,6))\n",
    "sns.boxplot(data=df, x='subject', y='year')\n",
    "plt.title('Box Plot on Subject And Year')\n"
   ]
  },
  {
   "cell_type": "code",
   "execution_count": 58,
   "metadata": {},
   "outputs": [
    {
     "data": {
      "text/plain": [
       "Text(0.5, 1.0, 'Box Plot on Subject And Month')"
      ]
     },
     "execution_count": 58,
     "metadata": {},
     "output_type": "execute_result"
    },
    {
     "data": {
      "image/png": "[encoded data removed]",
      "text/plain": [
       "<Figure size 864x432 with 1 Axes>"
      ]
     },
     "metadata": {
      "needs_background": "light"
     },
     "output_type": "display_data"
    }
   ],
   "source": [
    "plt.figure(figsize=(12,6))\n",
    "sns.boxplot(data=df, x='subject', y='month')\n",
    "plt.title('Box Plot on Subject And Month')\n"
   ]
  },
  {
   "cell_type": "markdown",
   "metadata": {},
   "source": [
    "Top Subscribed Courses On Udemy "
   ]
  },
  {
   "cell_type": "code",
   "execution_count": 59,
   "metadata": {},
   "outputs": [
    {
     "data": {
      "text/html": [
       "<div>\n",
       "<style scoped>\n",
       "    .dataframe tbody tr th:only-of-type {\n",
       "        vertical-align: middle;\n",
       "    }\n",
       "\n",
       "    .dataframe tbody tr th {\n",
       "        vertical-align: top;\n",
       "    }\n",
       "\n",
       "    .dataframe thead th {\n",
       "        text-align: right;\n",
       "    }\n",
       "</style>\n",
       "<table border=\"1\" class=\"dataframe\">\n",
       "  <thead>\n",
       "    <tr style=\"text-align: right;\">\n",
       "      <th></th>\n",
       "      <th>course_title</th>\n",
       "      <th>is_paid</th>\n",
       "      <th>price</th>\n",
       "      <th>num_subscribers</th>\n",
       "      <th>num_reviews</th>\n",
       "      <th>num_lectures</th>\n",
       "      <th>level</th>\n",
       "      <th>content_duration</th>\n",
       "      <th>published_timestamp</th>\n",
       "      <th>subject</th>\n",
       "      <th>gross_earnings</th>\n",
       "      <th>month</th>\n",
       "      <th>year</th>\n",
       "    </tr>\n",
       "  </thead>\n",
       "  <tbody>\n",
       "    <tr>\n",
       "      <th>2827</th>\n",
       "      <td>Learn HTML5 Programming From Scratch</td>\n",
       "      <td>False</td>\n",
       "      <td>0</td>\n",
       "      <td>268923</td>\n",
       "      <td>8629</td>\n",
       "      <td>45</td>\n",
       "      <td>All Levels</td>\n",
       "      <td>10.5</td>\n",
       "      <td>2013-02-14</td>\n",
       "      <td>Web Development</td>\n",
       "      <td>0</td>\n",
       "      <td>2</td>\n",
       "      <td>2013</td>\n",
       "    </tr>\n",
       "    <tr>\n",
       "      <th>3032</th>\n",
       "      <td>Coding for Entrepreneurs Basic</td>\n",
       "      <td>False</td>\n",
       "      <td>0</td>\n",
       "      <td>161029</td>\n",
       "      <td>279</td>\n",
       "      <td>27</td>\n",
       "      <td>Beginner Level</td>\n",
       "      <td>3.5</td>\n",
       "      <td>2013-06-09</td>\n",
       "      <td>Web Development</td>\n",
       "      <td>0</td>\n",
       "      <td>6</td>\n",
       "      <td>2013</td>\n",
       "    </tr>\n",
       "    <tr>\n",
       "      <th>3230</th>\n",
       "      <td>The Web Developer Bootcamp</td>\n",
       "      <td>True</td>\n",
       "      <td>200</td>\n",
       "      <td>121584</td>\n",
       "      <td>27445</td>\n",
       "      <td>342</td>\n",
       "      <td>All Levels</td>\n",
       "      <td>43.0</td>\n",
       "      <td>2015-11-02</td>\n",
       "      <td>Web Development</td>\n",
       "      <td>24316800</td>\n",
       "      <td>11</td>\n",
       "      <td>2015</td>\n",
       "    </tr>\n",
       "    <tr>\n",
       "      <th>2783</th>\n",
       "      <td>Build Your First Website in 1 Week with HTML5 ...</td>\n",
       "      <td>False</td>\n",
       "      <td>0</td>\n",
       "      <td>120291</td>\n",
       "      <td>5924</td>\n",
       "      <td>30</td>\n",
       "      <td>Beginner Level</td>\n",
       "      <td>3.0</td>\n",
       "      <td>2014-04-08</td>\n",
       "      <td>Web Development</td>\n",
       "      <td>0</td>\n",
       "      <td>4</td>\n",
       "      <td>2014</td>\n",
       "    </tr>\n",
       "    <tr>\n",
       "      <th>3232</th>\n",
       "      <td>The Complete Web Developer Course 2.0</td>\n",
       "      <td>True</td>\n",
       "      <td>200</td>\n",
       "      <td>114512</td>\n",
       "      <td>22412</td>\n",
       "      <td>304</td>\n",
       "      <td>All Levels</td>\n",
       "      <td>30.5</td>\n",
       "      <td>2016-03-08</td>\n",
       "      <td>Web Development</td>\n",
       "      <td>22902400</td>\n",
       "      <td>3</td>\n",
       "      <td>2016</td>\n",
       "    </tr>\n",
       "  </tbody>\n",
       "</table>\n",
       "</div>"
      ],
      "text/plain": [
       "                                           course_title  is_paid  price  \\\n",
       "2827               Learn HTML5 Programming From Scratch    False      0   \n",
       "3032                     Coding for Entrepreneurs Basic    False      0   \n",
       "3230                         The Web Developer Bootcamp     True    200   \n",
       "2783  Build Your First Website in 1 Week with HTML5 ...    False      0   \n",
       "3232              The Complete Web Developer Course 2.0     True    200   \n",
       "\n",
       "      num_subscribers  num_reviews  num_lectures           level  \\\n",
       "2827           268923         8629            45      All Levels   \n",
       "3032           161029          279            27  Beginner Level   \n",
       "3230           121584        27445           342      All Levels   \n",
       "2783           120291         5924            30  Beginner Level   \n",
       "3232           114512        22412           304      All Levels   \n",
       "\n",
       "      content_duration published_timestamp          subject  gross_earnings  \\\n",
       "2827              10.5          2013-02-14  Web Development               0   \n",
       "3032               3.5          2013-06-09  Web Development               0   \n",
       "3230              43.0          2015-11-02  Web Development        24316800   \n",
       "2783               3.0          2014-04-08  Web Development               0   \n",
       "3232              30.5          2016-03-08  Web Development        22902400   \n",
       "\n",
       "      month  year  \n",
       "2827      2  2013  \n",
       "3032      6  2013  \n",
       "3230     11  2015  \n",
       "2783      4  2014  \n",
       "3232      3  2016  "
      ]
     },
     "execution_count": 59,
     "metadata": {},
     "output_type": "execute_result"
    }
   ],
   "source": [
    "df.nlargest(5,'num_subscribers')"
   ]
  },
  {
   "cell_type": "markdown",
   "metadata": {},
   "source": [
    "<h1>Prediction Of Course Prices</h1>"
   ]
  },
  {
   "cell_type": "code",
   "execution_count": 179,
   "metadata": {},
   "outputs": [],
   "source": [
    "X = df[[\"num_subscribers\",\"num_reviews\",\"num_lectures\",\"content_duration\", \"month\", \"year\", \"gross_earnings\"]]\n",
    "y = df['is_paid']"
   ]
  },
  {
   "cell_type": "code",
   "execution_count": 180,
   "metadata": {},
   "outputs": [],
   "source": [
    "from sklearn.model_selection import train_test_split\n",
    "from sklearn.linear_model import LogisticRegression\n",
    "\n",
    "X_train, X_test, y_train, y_test = train_test_split(X,y, test_size=0.3,random_state=101)\n"
   ]
  },
  {
   "cell_type": "code",
   "execution_count": 181,
   "metadata": {},
   "outputs": [
    {
     "data": {
      "text/html": [
       "<style>#sk-container-id-10 {color: black;background-color: white;}#sk-container-id-10 pre{padding: 0;}#sk-container-id-10 div.sk-toggleable {background-color: white;}#sk-container-id-10 label.sk-toggleable__label {cursor: pointer;display: block;width: 100%;margin-bottom: 0;padding: 0.3em;box-sizing: border-box;text-align: center;}#sk-container-id-10 label.sk-toggleable__label-arrow:before {content: \"▸\";float: left;margin-right: 0.25em;color: #696969;}#sk-container-id-10 label.sk-toggleable__label-arrow:hover:before {color: black;}#sk-container-id-10 div.sk-estimator:hover label.sk-toggleable__label-arrow:before {color: black;}#sk-container-id-10 div.sk-toggleable__content {max-height: 0;max-width: 0;overflow: hidden;text-align: left;background-color: #f0f8ff;}#sk-container-id-10 div.sk-toggleable__content pre {margin: 0.2em;color: black;border-radius: 0.25em;background-color: #f0f8ff;}#sk-container-id-10 input.sk-toggleable__control:checked~div.sk-toggleable__content {max-height: 200px;max-width: 100%;overflow: auto;}#sk-container-id-10 input.sk-toggleable__control:checked~label.sk-toggleable__label-arrow:before {content: \"▾\";}#sk-container-id-10 div.sk-estimator input.sk-toggleable__control:checked~label.sk-toggleable__label {background-color: #d4ebff;}#sk-container-id-10 div.sk-label input.sk-toggleable__control:checked~label.sk-toggleable__label {background-color: #d4ebff;}#sk-container-id-10 input.sk-hidden--visually {border: 0;clip: rect(1px 1px 1px 1px);clip: rect(1px, 1px, 1px, 1px);height: 1px;margin: -1px;overflow: hidden;padding: 0;position: absolute;width: 1px;}#sk-container-id-10 div.sk-estimator {font-family: monospace;background-color: #f0f8ff;border: 1px dotted black;border-radius: 0.25em;box-sizing: border-box;margin-bottom: 0.5em;}#sk-container-id-10 div.sk-estimator:hover {background-color: #d4ebff;}#sk-container-id-10 div.sk-parallel-item::after {content: \"\";width: 100%;border-bottom: 1px solid gray;flex-grow: 1;}#sk-container-id-10 div.sk-label:hover label.sk-toggleable__label {background-color: #d4ebff;}#sk-container-id-10 div.sk-serial::before {content: \"\";position: absolute;border-left: 1px solid gray;box-sizing: border-box;top: 0;bottom: 0;left: 50%;z-index: 0;}#sk-container-id-10 div.sk-serial {display: flex;flex-direction: column;align-items: center;background-color: white;padding-right: 0.2em;padding-left: 0.2em;position: relative;}#sk-container-id-10 div.sk-item {position: relative;z-index: 1;}#sk-container-id-10 div.sk-parallel {display: flex;align-items: stretch;justify-content: center;background-color: white;position: relative;}#sk-container-id-10 div.sk-item::before, #sk-container-id-10 div.sk-parallel-item::before {content: \"\";position: absolute;border-left: 1px solid gray;box-sizing: border-box;top: 0;bottom: 0;left: 50%;z-index: -1;}#sk-container-id-10 div.sk-parallel-item {display: flex;flex-direction: column;z-index: 1;position: relative;background-color: white;}#sk-container-id-10 div.sk-parallel-item:first-child::after {align-self: flex-end;width: 50%;}#sk-container-id-10 div.sk-parallel-item:last-child::after {align-self: flex-start;width: 50%;}#sk-container-id-10 div.sk-parallel-item:only-child::after {width: 0;}#sk-container-id-10 div.sk-dashed-wrapped {border: 1px dashed gray;margin: 0 0.4em 0.5em 0.4em;box-sizing: border-box;padding-bottom: 0.4em;background-color: white;}#sk-container-id-10 div.sk-label label {font-family: monospace;font-weight: bold;display: inline-block;line-height: 1.2em;}#sk-container-id-10 div.sk-label-container {text-align: center;}#sk-container-id-10 div.sk-container {/* jupyter's `normalize.less` sets `[hidden] { display: none; }` but bootstrap.min.css set `[hidden] { display: none !important; }` so we also need the `!important` here to be able to override the default hidden behavior on the sphinx rendered scikit-learn.org. See: https://github.com/scikit-learn/scikit-learn/issues/21755 */display: inline-block !important;position: relative;}#sk-container-id-10 div.sk-text-repr-fallback {display: none;}</style><div id=\"sk-container-id-10\" class=\"sk-top-container\"><div class=\"sk-text-repr-fallback\"><pre>LogisticRegression()</pre><b>In a Jupyter environment, please rerun this cell to show the HTML representation or trust the notebook. <br />On GitHub, the HTML representation is unable to render, please try loading this page with nbviewer.org.</b></div><div class=\"sk-container\" hidden><div class=\"sk-item\"><div class=\"sk-estimator sk-toggleable\"><input class=\"sk-toggleable__control sk-hidden--visually\" id=\"sk-estimator-id-10\" type=\"checkbox\" checked><label for=\"sk-estimator-id-10\" class=\"sk-toggleable__label sk-toggleable__label-arrow\">LogisticRegression</label><div class=\"sk-toggleable__content\"><pre>LogisticRegression()</pre></div></div></div></div></div>"
      ],
      "text/plain": [
       "LogisticRegression()"
      ]
     },
     "execution_count": 181,
     "metadata": {},
     "output_type": "execute_result"
    }
   ],
   "source": [
    "lm = LogisticRegression()\n",
    "lm.fit(X_train, y_train)"
   ]
  },
  {
   "cell_type": "code",
   "execution_count": 182,
   "metadata": {},
   "outputs": [
    {
     "name": "stdout",
     "output_type": "stream",
     "text": [
      "Intercept: [1.5451678e-05]\n"
     ]
    }
   ],
   "source": [
    "print(\"Intercept:\", lm.intercept_)\n"
   ]
  },
  {
   "cell_type": "code",
   "execution_count": 183,
   "metadata": {},
   "outputs": [
    {
     "data": {
      "text/plain": [
       "array([ True,  True,  True, ...,  True,  True, False])"
      ]
     },
     "execution_count": 183,
     "metadata": {},
     "output_type": "execute_result"
    }
   ],
   "source": [
    "predictions = lm.predict(X_test)\n",
    "predictions"
   ]
  },
  {
   "cell_type": "code",
   "execution_count": 184,
   "metadata": {},
   "outputs": [
    {
     "name": "stderr",
     "output_type": "stream",
     "text": [
      "C:\\Users\\1992729\\AppData\\Roaming\\Python\\Python39\\site-packages\\seaborn\\_decorators.py:36: FutureWarning: Pass the following variables as keyword args: x, y. From version 0.12, the only valid positional argument will be `data`, and passing other arguments without an explicit keyword will result in an error or misinterpretation.\n",
      "  warnings.warn(\n"
     ]
    },
    {
     "data": {
      "text/plain": [
       "<AxesSubplot:xlabel='is_paid'>"
      ]
     },
     "execution_count": 184,
     "metadata": {},
     "output_type": "execute_result"
    },
    {
     "data": {
      "image/png": "[encoded data removed]",
      "text/plain": [
       "<Figure size 432x288 with 1 Axes>"
      ]
     },
     "metadata": {
      "needs_background": "light"
     },
     "output_type": "display_data"
    }
   ],
   "source": [
    "sns.scatterplot(y_test, predictions)"
   ]
  },
  {
   "cell_type": "code",
   "execution_count": 185,
   "metadata": {},
   "outputs": [
    {
     "name": "stdout",
     "output_type": "stream",
     "text": [
      "score:  0.999\n",
      "              precision    recall  f1-score   support\n",
      "\n",
      "       False       1.00      0.99      0.99        96\n",
      "        True       1.00      1.00      1.00      1008\n",
      "\n",
      "    accuracy                           1.00      1104\n",
      "   macro avg       1.00      0.99      1.00      1104\n",
      "weighted avg       1.00      1.00      1.00      1104\n",
      "\n"
     ]
    }
   ],
   "source": [
    "from sklearn import metrics\n",
    "\"\"\"import numpy as np\n",
    "print(\"MAE: \", metrics.mean_absolute_error(y_test,predictions))\n",
    "print(\"MSE: \", metrics.mean_squared_error(y_test,predictions))\n",
    "print('RMSE:', np.sqrt(metrics.mean_squared_error(y_test, predictions))) \"\"\"\n",
    "print(\"score: \", round(lm.score(X_test,y_test),3))\n",
    "print(metrics.classification_report(y_test,predictions))"
   ]
  },
  {
   "cell_type": "code",
   "execution_count": 187,
   "metadata": {},
   "outputs": [],
   "source": [
    "#sns.distplot((y_test-predictions), bins=30)"
   ]
  },
  {
   "cell_type": "markdown",
   "metadata": {},
   "source": [
    "Key Findings/Insights from the dataset"
   ]
  },
  {
   "cell_type": "markdown",
   "metadata": {},
   "source": [
    "<ul>\n",
    "<li>As of 2017, Udemy comprises of <strong>3678 </strong>courses across different subjects/categories.</li>\n",
    "<li>Average course subscription across the platform is <strong>3197</strong>, with content duration average of <strong>4 hours</strong>.&nbsp;</li>\n",
    "<li>The most subscribed course on Udemy has around 268923 subscriptions.</li>\n",
    "<li>Out of the average 3197 course subscriptions, only 156 people leave review on the courses they take.</li>\n",
    "<li>On average each udemy course consists of <strong>40 lectures</strong>, and the maximum lectures a course has is 779.</li>\n",
    "<li>The longest course on the platform is <strong>78.5 hours </strong>long.</li>\n",
    "<li><em>91%</em> content hosted on the platform is in the form of paid courses, and only <em>9% </em>content is free.</li>\n",
    "<li>Course development for udemy began in 2011, and peaked in early 2016. Since then the addition of new courses on the platform has been lower.</li>\n",
    "<li>The trend of free course development fell less than the trend of paid course development. This shows that there are other competitors that are providing better features and services to course developers, and hence they are turning faces away from udemy.&nbsp;</li>\n",
    "<li>Out of all the courses on the platform, most courses are marked with All levels difficulty level and 1929 courses belong to this category. Expert level courses are very low, and udemy needs to add more expert level courses to the catalogue to attract experienced learners to the platform.</li>\n",
    "<li>On the subjects front, web development emerges as a category leader with <em>32.63% </em>courses on the platform tagged to this category. Up next is business finance with <em>32.49%</em>, followed by Musical Instruments at <em>18.49%</em> and graphic design at <em>16.39%.</em></li>\n",
    "<li>Around 1206 courses were added to the platform in 2016, which is the highest. On the other hand, only 5 courses were added in 2011.&nbsp;</li>\n",
    "<li>Most courses are published in May and June. While least courses are developed in September.</li>\n",
    "<li><em>Bitcoin or How I learned to stop worrying and start investing </em>is the best business finance course on the platform based on subscriber count. The course is 8 hours long, and subscribed by 65576 people.</li>\n",
    "<li><em>Financial Management: A complete study</em> is the longest business finance course with 71.5 hours of content.&nbsp;</li>\n",
    "<li>&nbsp;Published in 2017 and priced at $200,<em> Python Algo Trading: FX Trading with Oanda </em>is the costliest business finance course.</li>\n",
    "<li><em>Accounting in 60 Minutes - A Brief Introduction</em>, is the best beginner level business finance course that is subscribed by 56659 users.</li>\n",
    "<li>The number of business finance course subscribers has fallen sharply since the start of 2016 from <em>426647</em> to <em>130299 </em>in 2017.</li>\n",
    "<li>Earnings for business finance courses decreased by 64% between 2016 and 2017.</li>\n",
    "<li><em>Photoshop In-Depth: Master all of Photoshop</em>, is the most subscribed graphic design course with a subscriber count of <em>53851</em>.</li>\n",
    "<li>With content duration of <em>78.5 hours</em>, <em>The Complete Figure Drawing Course HD</em>, is the longest course in graphic design category.</li>\n",
    "<li>Graphic design course demand peaked in 2015, and since then it is declining constantly.</li>\n",
    "<li><em>Learn HTML5 Programming From Scratch</em>, is the most subscribed web development course on the platform with <em>268923 </em>subscribers.&nbsp;</li>\n",
    "<li>The Complete Web Development Course is the costliest and longest course in web&nbsp; development category. It is 76.5 hours long, and priced at $200.</li>\n",
    "<li>Demand for web development courses peaked in 2015, and since then it has dropped by <em>70%</em> in 2017.</li>\n",
    "\n",
    "</ul>"
   ]
  }
 ],
 "metadata": {
  "interpreter": {
   "hash": "11938c6bc6919ae2720b4d5011047913343b08a43b18698fd82dedb0d4417594"
  },
  "kernelspec": {
   "display_name": "Python 3.9.1 64-bit",
   "language": "python",
   "name": "python3"
  },
  "language_info": {
   "codemirror_mode": {
    "name": "ipython",
    "version": 3
   },
   "file_extension": ".py",
   "mimetype": "text/x-python",
   "name": "python",
   "nbconvert_exporter": "python",
   "pygments_lexer": "ipython3",
   "version": "3.9.1"
  },
  "orig_nbformat": 4
 },
 "nbformat": 4,
 "nbformat_minor": 2
}
