{
  "cells": [
    {
      "cell_type": "markdown",
      "metadata": {
        "id": "rrp_MTna6kTc"
      },
      "source": [
        "# 911 Calls Capstone Project"
      ]
    },
    {
      "cell_type": "markdown",
      "metadata": {
        "id": "zxQBQVhS6kTp"
      },
      "source": [
        "## Data and Setup"
      ]
    },
    {
      "cell_type": "markdown",
      "metadata": {
        "id": "fqgUjYk06kTq"
      },
      "source": [
        "\n",
        "# Importing Required Packages"
      ]
    },
    {
      "cell_type": "code",
      "execution_count": 1,
      "metadata": {
        "collapsed": true,
        "id": "4uf_mvvY6kTr"
      },
      "outputs": [],
      "source": [
        "import pandas as pd\n",
        "import numpy as np\n",
        "import matplotlib.pyplot as plt\n",
        "%matplotlib inline"
      ]
    },
    {
      "cell_type": "markdown",
      "source": [
        ""
      ],
      "metadata": {
        "id": "PV5QrvSWHqrc"
      }
    },
    {
      "cell_type": "markdown",
      "metadata": {
        "id": "v7Ci9PZ06kTv"
      },
      "source": [
        "# Reading in the csv file and creating Data Frame"
      ]
    },
    {
      "cell_type": "code",
      "source": [
        "from google.colab import drive\n",
        "drive.mount('/content/drive')\n",
        "df = pd.read_csv('./drive/MyDrive/Dataset/911.csv')\n",
        "df.head()"
      ],
      "metadata": {
        "colab": {
          "base_uri": "https://localhost:8080/",
          "height": 461
        },
        "id": "LgJV2JL87DLN",
        "outputId": "63c7973b-082e-4fbf-c22a-b24eed6b961d"
      },
      "execution_count": 3,
      "outputs": [
        {
          "output_type": "stream",
          "name": "stdout",
          "text": [
            "Drive already mounted at /content/drive; to attempt to forcibly remount, call drive.mount(\"/content/drive\", force_remount=True).\n"
          ]
        },
        {
          "output_type": "execute_result",
          "data": {
            "text/plain": [
              "         lat        lng                                               desc  \\\n",
              "0  40.297876 -75.581294  REINDEER CT & DEAD END;  NEW HANOVER; Station ...   \n",
              "1  40.258061 -75.264680  BRIAR PATH & WHITEMARSH LN;  HATFIELD TOWNSHIP...   \n",
              "2  40.121182 -75.351975  HAWS AVE; NORRISTOWN; 2015-12-10 @ 14:39:21-St...   \n",
              "3  40.116153 -75.343513  AIRY ST & SWEDE ST;  NORRISTOWN; Station 308A;...   \n",
              "4  40.251492 -75.603350  CHERRYWOOD CT & DEAD END;  LOWER POTTSGROVE; S...   \n",
              "\n",
              "       zip                    title            timeStamp                twp  \\\n",
              "0  19525.0   EMS: BACK PAINS/INJURY  2015-12-10 17:40:00        NEW HANOVER   \n",
              "1  19446.0  EMS: DIABETIC EMERGENCY  2015-12-10 17:40:00  HATFIELD TOWNSHIP   \n",
              "2  19401.0      Fire: GAS-ODOR/LEAK  2015-12-10 17:40:00         NORRISTOWN   \n",
              "3  19401.0   EMS: CARDIAC EMERGENCY  2015-12-10 17:40:01         NORRISTOWN   \n",
              "4      NaN           EMS: DIZZINESS  2015-12-10 17:40:01   LOWER POTTSGROVE   \n",
              "\n",
              "                         addr  e  \n",
              "0      REINDEER CT & DEAD END  1  \n",
              "1  BRIAR PATH & WHITEMARSH LN  1  \n",
              "2                    HAWS AVE  1  \n",
              "3          AIRY ST & SWEDE ST  1  \n",
              "4    CHERRYWOOD CT & DEAD END  1  "
            ],
            "text/html": [
              "\n",
              "  <div id=\"df-1a220f34-dc1f-4053-ad73-ed68d176e735\">\n",
              "    <div class=\"colab-df-container\">\n",
              "      <div>\n",
              "<style scoped>\n",
              "    .dataframe tbody tr th:only-of-type {\n",
              "        vertical-align: middle;\n",
              "    }\n",
              "\n",
              "    .dataframe tbody tr th {\n",
              "        vertical-align: top;\n",
              "    }\n",
              "\n",
              "    .dataframe thead th {\n",
              "        text-align: right;\n",
              "    }\n",
              "</style>\n",
              "<table border=\"1\" class=\"dataframe\">\n",
              "  <thead>\n",
              "    <tr style=\"text-align: right;\">\n",
              "      <th></th>\n",
              "      <th>lat</th>\n",
              "      <th>lng</th>\n",
              "      <th>desc</th>\n",
              "      <th>zip</th>\n",
              "      <th>title</th>\n",
              "      <th>timeStamp</th>\n",
              "      <th>twp</th>\n",
              "      <th>addr</th>\n",
              "      <th>e</th>\n",
              "    </tr>\n",
              "  </thead>\n",
              "  <tbody>\n",
              "    <tr>\n",
              "      <th>0</th>\n",
              "      <td>40.297876</td>\n",
              "      <td>-75.581294</td>\n",
              "      <td>REINDEER CT &amp; DEAD END;  NEW HANOVER; Station ...</td>\n",
              "      <td>19525.0</td>\n",
              "      <td>EMS: BACK PAINS/INJURY</td>\n",
              "      <td>2015-12-10 17:40:00</td>\n",
              "      <td>NEW HANOVER</td>\n",
              "      <td>REINDEER CT &amp; DEAD END</td>\n",
              "      <td>1</td>\n",
              "    </tr>\n",
              "    <tr>\n",
              "      <th>1</th>\n",
              "      <td>40.258061</td>\n",
              "      <td>-75.264680</td>\n",
              "      <td>BRIAR PATH &amp; WHITEMARSH LN;  HATFIELD TOWNSHIP...</td>\n",
              "      <td>19446.0</td>\n",
              "      <td>EMS: DIABETIC EMERGENCY</td>\n",
              "      <td>2015-12-10 17:40:00</td>\n",
              "      <td>HATFIELD TOWNSHIP</td>\n",
              "      <td>BRIAR PATH &amp; WHITEMARSH LN</td>\n",
              "      <td>1</td>\n",
              "    </tr>\n",
              "    <tr>\n",
              "      <th>2</th>\n",
              "      <td>40.121182</td>\n",
              "      <td>-75.351975</td>\n",
              "      <td>HAWS AVE; NORRISTOWN; 2015-12-10 @ 14:39:21-St...</td>\n",
              "      <td>19401.0</td>\n",
              "      <td>Fire: GAS-ODOR/LEAK</td>\n",
              "      <td>2015-12-10 17:40:00</td>\n",
              "      <td>NORRISTOWN</td>\n",
              "      <td>HAWS AVE</td>\n",
              "      <td>1</td>\n",
              "    </tr>\n",
              "    <tr>\n",
              "      <th>3</th>\n",
              "      <td>40.116153</td>\n",
              "      <td>-75.343513</td>\n",
              "      <td>AIRY ST &amp; SWEDE ST;  NORRISTOWN; Station 308A;...</td>\n",
              "      <td>19401.0</td>\n",
              "      <td>EMS: CARDIAC EMERGENCY</td>\n",
              "      <td>2015-12-10 17:40:01</td>\n",
              "      <td>NORRISTOWN</td>\n",
              "      <td>AIRY ST &amp; SWEDE ST</td>\n",
              "      <td>1</td>\n",
              "    </tr>\n",
              "    <tr>\n",
              "      <th>4</th>\n",
              "      <td>40.251492</td>\n",
              "      <td>-75.603350</td>\n",
              "      <td>CHERRYWOOD CT &amp; DEAD END;  LOWER POTTSGROVE; S...</td>\n",
              "      <td>NaN</td>\n",
              "      <td>EMS: DIZZINESS</td>\n",
              "      <td>2015-12-10 17:40:01</td>\n",
              "      <td>LOWER POTTSGROVE</td>\n",
              "      <td>CHERRYWOOD CT &amp; DEAD END</td>\n",
              "      <td>1</td>\n",
              "    </tr>\n",
              "  </tbody>\n",
              "</table>\n",
              "</div>\n",
              "      <button class=\"colab-df-convert\" onclick=\"convertToInteractive('df-1a220f34-dc1f-4053-ad73-ed68d176e735')\"\n",
              "              title=\"Convert this dataframe to an interactive table.\"\n",
              "              style=\"display:none;\">\n",
              "        \n",
              "  <svg xmlns=\"http://www.w3.org/2000/svg\" height=\"24px\"viewBox=\"0 0 24 24\"\n",
              "       width=\"24px\">\n",
              "    <path d=\"M0 0h24v24H0V0z\" fill=\"none\"/>\n",
              "    <path d=\"M18.56 5.44l.94 2.06.94-2.06 2.06-.94-2.06-.94-.94-2.06-.94 2.06-2.06.94zm-11 1L8.5 8.5l.94-2.06 2.06-.94-2.06-.94L8.5 2.5l-.94 2.06-2.06.94zm10 10l.94 2.06.94-2.06 2.06-.94-2.06-.94-.94-2.06-.94 2.06-2.06.94z\"/><path d=\"M17.41 7.96l-1.37-1.37c-.4-.4-.92-.59-1.43-.59-.52 0-1.04.2-1.43.59L10.3 9.45l-7.72 7.72c-.78.78-.78 2.05 0 2.83L4 21.41c.39.39.9.59 1.41.59.51 0 1.02-.2 1.41-.59l7.78-7.78 2.81-2.81c.8-.78.8-2.07 0-2.86zM5.41 20L4 18.59l7.72-7.72 1.47 1.35L5.41 20z\"/>\n",
              "  </svg>\n",
              "      </button>\n",
              "      \n",
              "  <style>\n",
              "    .colab-df-container {\n",
              "      display:flex;\n",
              "      flex-wrap:wrap;\n",
              "      gap: 12px;\n",
              "    }\n",
              "\n",
              "    .colab-df-convert {\n",
              "      background-color: #E8F0FE;\n",
              "      border: none;\n",
              "      border-radius: 50%;\n",
              "      cursor: pointer;\n",
              "      display: none;\n",
              "      fill: #1967D2;\n",
              "      height: 32px;\n",
              "      padding: 0 0 0 0;\n",
              "      width: 32px;\n",
              "    }\n",
              "\n",
              "    .colab-df-convert:hover {\n",
              "      background-color: #E2EBFA;\n",
              "      box-shadow: 0px 1px 2px rgba(60, 64, 67, 0.3), 0px 1px 3px 1px rgba(60, 64, 67, 0.15);\n",
              "      fill: #174EA6;\n",
              "    }\n",
              "\n",
              "    [theme=dark] .colab-df-convert {\n",
              "      background-color: #3B4455;\n",
              "      fill: #D2E3FC;\n",
              "    }\n",
              "\n",
              "    [theme=dark] .colab-df-convert:hover {\n",
              "      background-color: #434B5C;\n",
              "      box-shadow: 0px 1px 3px 1px rgba(0, 0, 0, 0.15);\n",
              "      filter: drop-shadow(0px 1px 2px rgba(0, 0, 0, 0.3));\n",
              "      fill: #FFFFFF;\n",
              "    }\n",
              "  </style>\n",
              "\n",
              "      <script>\n",
              "        const buttonEl =\n",
              "          document.querySelector('#df-1a220f34-dc1f-4053-ad73-ed68d176e735 button.colab-df-convert');\n",
              "        buttonEl.style.display =\n",
              "          google.colab.kernel.accessAllowed ? 'block' : 'none';\n",
              "\n",
              "        async function convertToInteractive(key) {\n",
              "          const element = document.querySelector('#df-1a220f34-dc1f-4053-ad73-ed68d176e735');\n",
              "          const dataTable =\n",
              "            await google.colab.kernel.invokeFunction('convertToInteractive',\n",
              "                                                     [key], {});\n",
              "          if (!dataTable) return;\n",
              "\n",
              "          const docLinkHtml = 'Like what you see? Visit the ' +\n",
              "            '<a target=\"_blank\" href=https://colab.research.google.com/notebooks/data_table.ipynb>data table notebook</a>'\n",
              "            + ' to learn more about interactive tables.';\n",
              "          element.innerHTML = '';\n",
              "          dataTable['output_type'] = 'display_data';\n",
              "          await google.colab.output.renderOutput(dataTable, element);\n",
              "          const docLink = document.createElement('div');\n",
              "          docLink.innerHTML = docLinkHtml;\n",
              "          element.appendChild(docLink);\n",
              "        }\n",
              "      </script>\n",
              "    </div>\n",
              "  </div>\n",
              "  "
            ]
          },
          "metadata": {},
          "execution_count": 3
        }
      ]
    },
    {
      "cell_type": "markdown",
      "metadata": {
        "id": "CuYxDOCw6kTy"
      },
      "source": [
        "# Checking the info() of the df"
      ]
    },
    {
      "cell_type": "code",
      "execution_count": 4,
      "metadata": {
        "colab": {
          "base_uri": "https://localhost:8080/"
        },
        "id": "XEUPS8X26kTz",
        "outputId": "11059d7d-cd2c-40b3-8d2e-bb7a53359cc7"
      },
      "outputs": [
        {
          "output_type": "stream",
          "name": "stdout",
          "text": [
            "<class 'pandas.core.frame.DataFrame'>\n",
            "RangeIndex: 99492 entries, 0 to 99491\n",
            "Data columns (total 9 columns):\n",
            " #   Column     Non-Null Count  Dtype  \n",
            "---  ------     --------------  -----  \n",
            " 0   lat        99492 non-null  float64\n",
            " 1   lng        99492 non-null  float64\n",
            " 2   desc       99492 non-null  object \n",
            " 3   zip        86637 non-null  float64\n",
            " 4   title      99492 non-null  object \n",
            " 5   timeStamp  99492 non-null  object \n",
            " 6   twp        99449 non-null  object \n",
            " 7   addr       98973 non-null  object \n",
            " 8   e          99492 non-null  int64  \n",
            "dtypes: float64(3), int64(1), object(5)\n",
            "memory usage: 6.8+ MB\n"
          ]
        }
      ],
      "source": [
        "df.info()"
      ]
    },
    {
      "cell_type": "markdown",
      "metadata": {
        "id": "2xPGdhYD6kT3"
      },
      "source": [
        "## Basic Questions"
      ]
    },
    {
      "cell_type": "markdown",
      "metadata": {
        "id": "k4ORtbQJ6kT4"
      },
      "source": [
        "# What are the top 5 zipcodes for 911 calls?"
      ]
    },
    {
      "cell_type": "code",
      "execution_count": 6,
      "metadata": {
        "colab": {
          "base_uri": "https://localhost:8080/"
        },
        "id": "LbwOYYR96kT4",
        "outputId": "d6140831-e6c3-427e-efe4-118e3e7624bd"
      },
      "outputs": [
        {
          "output_type": "execute_result",
          "data": {
            "text/plain": [
              "19401.0    6979\n",
              "19464.0    6643\n",
              "19403.0    4854\n",
              "19446.0    4748\n",
              "19406.0    3174\n",
              "Name: zip, dtype: int64"
            ]
          },
          "metadata": {},
          "execution_count": 6
        }
      ],
      "source": [
        "df['zip'].value_counts().head(5)"
      ]
    },
    {
      "cell_type": "markdown",
      "metadata": {
        "id": "Qkbu9koE6kT5"
      },
      "source": [
        "# What are the top 5 townships (twp) for 911 calls?"
      ]
    },
    {
      "cell_type": "code",
      "execution_count": 7,
      "metadata": {
        "colab": {
          "base_uri": "https://localhost:8080/"
        },
        "id": "4UPOhfTA6kT5",
        "outputId": "154447bf-31b8-4aeb-8e2f-9e5679bfdeba"
      },
      "outputs": [
        {
          "output_type": "execute_result",
          "data": {
            "text/plain": [
              "LOWER MERION    8443\n",
              "ABINGTON        5977\n",
              "NORRISTOWN      5890\n",
              "UPPER MERION    5227\n",
              "CHELTENHAM      4575\n",
              "Name: twp, dtype: int64"
            ]
          },
          "metadata": {},
          "execution_count": 7
        }
      ],
      "source": [
        "df['twp'].value_counts().head(5)"
      ]
    },
    {
      "cell_type": "markdown",
      "metadata": {
        "id": "tO9wndu-6kT6"
      },
      "source": [
        "# How many unique title codes are there?"
      ]
    },
    {
      "cell_type": "code",
      "execution_count": 8,
      "metadata": {
        "colab": {
          "base_uri": "https://localhost:8080/"
        },
        "id": "wALiwluG6kT7",
        "outputId": "10574c52-fe3a-4671-9089-e55d21e165fa"
      },
      "outputs": [
        {
          "output_type": "execute_result",
          "data": {
            "text/plain": [
              "<bound method Series.unique of 0             EMS: BACK PAINS/INJURY\n",
              "1            EMS: DIABETIC EMERGENCY\n",
              "2                Fire: GAS-ODOR/LEAK\n",
              "3             EMS: CARDIAC EMERGENCY\n",
              "4                     EMS: DIZZINESS\n",
              "                    ...             \n",
              "99487    Traffic: VEHICLE ACCIDENT -\n",
              "99488    Traffic: VEHICLE ACCIDENT -\n",
              "99489               EMS: FALL VICTIM\n",
              "99490           EMS: NAUSEA/VOMITING\n",
              "99491    Traffic: VEHICLE ACCIDENT -\n",
              "Name: title, Length: 99492, dtype: object>"
            ]
          },
          "metadata": {},
          "execution_count": 8
        }
      ],
      "source": [
        "df['title'].unique"
      ]
    },
    {
      "cell_type": "markdown",
      "metadata": {
        "id": "pmImSIYN6kT8"
      },
      "source": [
        "## Creating new features"
      ]
    },
    {
      "cell_type": "markdown",
      "metadata": {
        "id": "e1BdvKhT6kT8"
      },
      "source": [
        "In the titles column there are \"Reasons/Departments\" specified before the title code. These are EMS, Fire, and Traffic. Using .apply()to create a new column called \"Reason\" that contains this string value. "
      ]
    },
    {
      "cell_type": "code",
      "execution_count": 9,
      "metadata": {
        "collapsed": true,
        "colab": {
          "base_uri": "https://localhost:8080/",
          "height": 476
        },
        "id": "5AB6Ut0u6kT9",
        "outputId": "fc73036f-bbe5-4ed9-e1be-707a6c8eaf2b"
      },
      "outputs": [
        {
          "output_type": "execute_result",
          "data": {
            "text/plain": [
              "         lat        lng                                               desc  \\\n",
              "0  40.297876 -75.581294  REINDEER CT & DEAD END;  NEW HANOVER; Station ...   \n",
              "1  40.258061 -75.264680  BRIAR PATH & WHITEMARSH LN;  HATFIELD TOWNSHIP...   \n",
              "2  40.121182 -75.351975  HAWS AVE; NORRISTOWN; 2015-12-10 @ 14:39:21-St...   \n",
              "3  40.116153 -75.343513  AIRY ST & SWEDE ST;  NORRISTOWN; Station 308A;...   \n",
              "4  40.251492 -75.603350  CHERRYWOOD CT & DEAD END;  LOWER POTTSGROVE; S...   \n",
              "\n",
              "       zip                    title            timeStamp                twp  \\\n",
              "0  19525.0   EMS: BACK PAINS/INJURY  2015-12-10 17:40:00        NEW HANOVER   \n",
              "1  19446.0  EMS: DIABETIC EMERGENCY  2015-12-10 17:40:00  HATFIELD TOWNSHIP   \n",
              "2  19401.0      Fire: GAS-ODOR/LEAK  2015-12-10 17:40:00         NORRISTOWN   \n",
              "3  19401.0   EMS: CARDIAC EMERGENCY  2015-12-10 17:40:01         NORRISTOWN   \n",
              "4      NaN           EMS: DIZZINESS  2015-12-10 17:40:01   LOWER POTTSGROVE   \n",
              "\n",
              "                         addr  e Reason  \n",
              "0      REINDEER CT & DEAD END  1    EMS  \n",
              "1  BRIAR PATH & WHITEMARSH LN  1    EMS  \n",
              "2                    HAWS AVE  1   Fire  \n",
              "3          AIRY ST & SWEDE ST  1    EMS  \n",
              "4    CHERRYWOOD CT & DEAD END  1    EMS  "
            ],
            "text/html": [
              "\n",
              "  <div id=\"df-22116e43-0789-40b4-9a3c-a419d92eee78\">\n",
              "    <div class=\"colab-df-container\">\n",
              "      <div>\n",
              "<style scoped>\n",
              "    .dataframe tbody tr th:only-of-type {\n",
              "        vertical-align: middle;\n",
              "    }\n",
              "\n",
              "    .dataframe tbody tr th {\n",
              "        vertical-align: top;\n",
              "    }\n",
              "\n",
              "    .dataframe thead th {\n",
              "        text-align: right;\n",
              "    }\n",
              "</style>\n",
              "<table border=\"1\" class=\"dataframe\">\n",
              "  <thead>\n",
              "    <tr style=\"text-align: right;\">\n",
              "      <th></th>\n",
              "      <th>lat</th>\n",
              "      <th>lng</th>\n",
              "      <th>desc</th>\n",
              "      <th>zip</th>\n",
              "      <th>title</th>\n",
              "      <th>timeStamp</th>\n",
              "      <th>twp</th>\n",
              "      <th>addr</th>\n",
              "      <th>e</th>\n",
              "      <th>Reason</th>\n",
              "    </tr>\n",
              "  </thead>\n",
              "  <tbody>\n",
              "    <tr>\n",
              "      <th>0</th>\n",
              "      <td>40.297876</td>\n",
              "      <td>-75.581294</td>\n",
              "      <td>REINDEER CT &amp; DEAD END;  NEW HANOVER; Station ...</td>\n",
              "      <td>19525.0</td>\n",
              "      <td>EMS: BACK PAINS/INJURY</td>\n",
              "      <td>2015-12-10 17:40:00</td>\n",
              "      <td>NEW HANOVER</td>\n",
              "      <td>REINDEER CT &amp; DEAD END</td>\n",
              "      <td>1</td>\n",
              "      <td>EMS</td>\n",
              "    </tr>\n",
              "    <tr>\n",
              "      <th>1</th>\n",
              "      <td>40.258061</td>\n",
              "      <td>-75.264680</td>\n",
              "      <td>BRIAR PATH &amp; WHITEMARSH LN;  HATFIELD TOWNSHIP...</td>\n",
              "      <td>19446.0</td>\n",
              "      <td>EMS: DIABETIC EMERGENCY</td>\n",
              "      <td>2015-12-10 17:40:00</td>\n",
              "      <td>HATFIELD TOWNSHIP</td>\n",
              "      <td>BRIAR PATH &amp; WHITEMARSH LN</td>\n",
              "      <td>1</td>\n",
              "      <td>EMS</td>\n",
              "    </tr>\n",
              "    <tr>\n",
              "      <th>2</th>\n",
              "      <td>40.121182</td>\n",
              "      <td>-75.351975</td>\n",
              "      <td>HAWS AVE; NORRISTOWN; 2015-12-10 @ 14:39:21-St...</td>\n",
              "      <td>19401.0</td>\n",
              "      <td>Fire: GAS-ODOR/LEAK</td>\n",
              "      <td>2015-12-10 17:40:00</td>\n",
              "      <td>NORRISTOWN</td>\n",
              "      <td>HAWS AVE</td>\n",
              "      <td>1</td>\n",
              "      <td>Fire</td>\n",
              "    </tr>\n",
              "    <tr>\n",
              "      <th>3</th>\n",
              "      <td>40.116153</td>\n",
              "      <td>-75.343513</td>\n",
              "      <td>AIRY ST &amp; SWEDE ST;  NORRISTOWN; Station 308A;...</td>\n",
              "      <td>19401.0</td>\n",
              "      <td>EMS: CARDIAC EMERGENCY</td>\n",
              "      <td>2015-12-10 17:40:01</td>\n",
              "      <td>NORRISTOWN</td>\n",
              "      <td>AIRY ST &amp; SWEDE ST</td>\n",
              "      <td>1</td>\n",
              "      <td>EMS</td>\n",
              "    </tr>\n",
              "    <tr>\n",
              "      <th>4</th>\n",
              "      <td>40.251492</td>\n",
              "      <td>-75.603350</td>\n",
              "      <td>CHERRYWOOD CT &amp; DEAD END;  LOWER POTTSGROVE; S...</td>\n",
              "      <td>NaN</td>\n",
              "      <td>EMS: DIZZINESS</td>\n",
              "      <td>2015-12-10 17:40:01</td>\n",
              "      <td>LOWER POTTSGROVE</td>\n",
              "      <td>CHERRYWOOD CT &amp; DEAD END</td>\n",
              "      <td>1</td>\n",
              "      <td>EMS</td>\n",
              "    </tr>\n",
              "  </tbody>\n",
              "</table>\n",
              "</div>\n",
              "      <button class=\"colab-df-convert\" onclick=\"convertToInteractive('df-22116e43-0789-40b4-9a3c-a419d92eee78')\"\n",
              "              title=\"Convert this dataframe to an interactive table.\"\n",
              "              style=\"display:none;\">\n",
              "        \n",
              "  <svg xmlns=\"http://www.w3.org/2000/svg\" height=\"24px\"viewBox=\"0 0 24 24\"\n",
              "       width=\"24px\">\n",
              "    <path d=\"M0 0h24v24H0V0z\" fill=\"none\"/>\n",
              "    <path d=\"M18.56 5.44l.94 2.06.94-2.06 2.06-.94-2.06-.94-.94-2.06-.94 2.06-2.06.94zm-11 1L8.5 8.5l.94-2.06 2.06-.94-2.06-.94L8.5 2.5l-.94 2.06-2.06.94zm10 10l.94 2.06.94-2.06 2.06-.94-2.06-.94-.94-2.06-.94 2.06-2.06.94z\"/><path d=\"M17.41 7.96l-1.37-1.37c-.4-.4-.92-.59-1.43-.59-.52 0-1.04.2-1.43.59L10.3 9.45l-7.72 7.72c-.78.78-.78 2.05 0 2.83L4 21.41c.39.39.9.59 1.41.59.51 0 1.02-.2 1.41-.59l7.78-7.78 2.81-2.81c.8-.78.8-2.07 0-2.86zM5.41 20L4 18.59l7.72-7.72 1.47 1.35L5.41 20z\"/>\n",
              "  </svg>\n",
              "      </button>\n",
              "      \n",
              "  <style>\n",
              "    .colab-df-container {\n",
              "      display:flex;\n",
              "      flex-wrap:wrap;\n",
              "      gap: 12px;\n",
              "    }\n",
              "\n",
              "    .colab-df-convert {\n",
              "      background-color: #E8F0FE;\n",
              "      border: none;\n",
              "      border-radius: 50%;\n",
              "      cursor: pointer;\n",
              "      display: none;\n",
              "      fill: #1967D2;\n",
              "      height: 32px;\n",
              "      padding: 0 0 0 0;\n",
              "      width: 32px;\n",
              "    }\n",
              "\n",
              "    .colab-df-convert:hover {\n",
              "      background-color: #E2EBFA;\n",
              "      box-shadow: 0px 1px 2px rgba(60, 64, 67, 0.3), 0px 1px 3px 1px rgba(60, 64, 67, 0.15);\n",
              "      fill: #174EA6;\n",
              "    }\n",
              "\n",
              "    [theme=dark] .colab-df-convert {\n",
              "      background-color: #3B4455;\n",
              "      fill: #D2E3FC;\n",
              "    }\n",
              "\n",
              "    [theme=dark] .colab-df-convert:hover {\n",
              "      background-color: #434B5C;\n",
              "      box-shadow: 0px 1px 3px 1px rgba(0, 0, 0, 0.15);\n",
              "      filter: drop-shadow(0px 1px 2px rgba(0, 0, 0, 0.3));\n",
              "      fill: #FFFFFF;\n",
              "    }\n",
              "  </style>\n",
              "\n",
              "      <script>\n",
              "        const buttonEl =\n",
              "          document.querySelector('#df-22116e43-0789-40b4-9a3c-a419d92eee78 button.colab-df-convert');\n",
              "        buttonEl.style.display =\n",
              "          google.colab.kernel.accessAllowed ? 'block' : 'none';\n",
              "\n",
              "        async function convertToInteractive(key) {\n",
              "          const element = document.querySelector('#df-22116e43-0789-40b4-9a3c-a419d92eee78');\n",
              "          const dataTable =\n",
              "            await google.colab.kernel.invokeFunction('convertToInteractive',\n",
              "                                                     [key], {});\n",
              "          if (!dataTable) return;\n",
              "\n",
              "          const docLinkHtml = 'Like what you see? Visit the ' +\n",
              "            '<a target=\"_blank\" href=https://colab.research.google.com/notebooks/data_table.ipynb>data table notebook</a>'\n",
              "            + ' to learn more about interactive tables.';\n",
              "          element.innerHTML = '';\n",
              "          dataTable['output_type'] = 'display_data';\n",
              "          await google.colab.output.renderOutput(dataTable, element);\n",
              "          const docLink = document.createElement('div');\n",
              "          docLink.innerHTML = docLinkHtml;\n",
              "          element.appendChild(docLink);\n",
              "        }\n",
              "      </script>\n",
              "    </div>\n",
              "  </div>\n",
              "  "
            ]
          },
          "metadata": {},
          "execution_count": 9
        }
      ],
      "source": [
        "def createReason(x):\n",
        "  x = x.split(\":\")\n",
        "  return x[0]\n",
        "\n",
        "df['Reason'] = df['title'].apply(createReason)\n",
        "df.head()"
      ]
    },
    {
      "cell_type": "markdown",
      "metadata": {
        "id": "BJbKurfi6kT9"
      },
      "source": [
        "# What is the most common Reason for a 911 call based off of this new column?"
      ]
    },
    {
      "cell_type": "code",
      "execution_count": 10,
      "metadata": {
        "colab": {
          "base_uri": "https://localhost:8080/"
        },
        "id": "59ucVV9f6kT-",
        "outputId": "e611281f-0359-459f-a032-c37c7539cd8d"
      },
      "outputs": [
        {
          "output_type": "execute_result",
          "data": {
            "text/plain": [
              "EMS        48877\n",
              "Traffic    35695\n",
              "Fire       14920\n",
              "Name: Reason, dtype: int64"
            ]
          },
          "metadata": {},
          "execution_count": 10
        }
      ],
      "source": [
        "df['Reason'].value_counts()"
      ]
    },
    {
      "cell_type": "markdown",
      "metadata": {
        "id": "40WZXFbb6kT-"
      },
      "source": [
        "Creating a countplot of 911 calls by Reason."
      ]
    },
    {
      "cell_type": "code",
      "execution_count": 11,
      "metadata": {
        "colab": {
          "base_uri": "https://localhost:8080/",
          "height": 296
        },
        "id": "z3M7IFba6kT_",
        "outputId": "6194d3dd-7c1f-4eea-d4f6-381ef9e1047f"
      },
      "outputs": [
        {
          "output_type": "execute_result",
          "data": {
            "text/plain": [
              "<matplotlib.axes._subplots.AxesSubplot at 0x7fe9d1680ed0>"
            ]
          },
          "metadata": {},
          "execution_count": 11
        },
        {
          "output_type": "display_data",
          "data": {
            "text/plain": [
              "<Figure size 432x288 with 1 Axes>"
            ],
            "image/png": "[encoded data removed]"
          },
          "metadata": {
            "needs_background": "light"
          }
        }
      ],
      "source": [
        "import seaborn as sns\n",
        "\n",
        "sns.countplot(data=df, x='Reason')"
      ]
    },
    {
      "cell_type": "markdown",
      "metadata": {
        "id": "RDSpQ-1u6kT_"
      },
      "source": [
        "___\n",
        "What is the data type of the objects in the timeStamp column?"
      ]
    },
    {
      "cell_type": "code",
      "execution_count": 13,
      "metadata": {
        "colab": {
          "base_uri": "https://localhost:8080/"
        },
        "id": "3YOn7Jdj6kUA",
        "outputId": "10c3a56d-3623-4add-d050-895c5868bd67"
      },
      "outputs": [
        {
          "output_type": "execute_result",
          "data": {
            "text/plain": [
              "dtype('O')"
            ]
          },
          "metadata": {},
          "execution_count": 13
        }
      ],
      "source": [
        "df['timeStamp'].dtype"
      ]
    },
    {
      "cell_type": "markdown",
      "metadata": {
        "id": "8Jq7Gt8T6kUA"
      },
      "source": [
        "Using pd.to_datetime to convert the column from strings to DateTime objects."
      ]
    },
    {
      "cell_type": "code",
      "execution_count": 15,
      "metadata": {
        "collapsed": true,
        "colab": {
          "base_uri": "https://localhost:8080/",
          "height": 476
        },
        "id": "CkJ8JoI-6kUA",
        "outputId": "97fa53ae-7954-49cb-afac-399c455f24ef"
      },
      "outputs": [
        {
          "output_type": "execute_result",
          "data": {
            "text/plain": [
              "         lat        lng                                               desc  \\\n",
              "0  40.297876 -75.581294  REINDEER CT & DEAD END;  NEW HANOVER; Station ...   \n",
              "1  40.258061 -75.264680  BRIAR PATH & WHITEMARSH LN;  HATFIELD TOWNSHIP...   \n",
              "2  40.121182 -75.351975  HAWS AVE; NORRISTOWN; 2015-12-10 @ 14:39:21-St...   \n",
              "3  40.116153 -75.343513  AIRY ST & SWEDE ST;  NORRISTOWN; Station 308A;...   \n",
              "4  40.251492 -75.603350  CHERRYWOOD CT & DEAD END;  LOWER POTTSGROVE; S...   \n",
              "\n",
              "       zip                    title           timeStamp                twp  \\\n",
              "0  19525.0   EMS: BACK PAINS/INJURY 2015-12-10 17:40:00        NEW HANOVER   \n",
              "1  19446.0  EMS: DIABETIC EMERGENCY 2015-12-10 17:40:00  HATFIELD TOWNSHIP   \n",
              "2  19401.0      Fire: GAS-ODOR/LEAK 2015-12-10 17:40:00         NORRISTOWN   \n",
              "3  19401.0   EMS: CARDIAC EMERGENCY 2015-12-10 17:40:01         NORRISTOWN   \n",
              "4      NaN           EMS: DIZZINESS 2015-12-10 17:40:01   LOWER POTTSGROVE   \n",
              "\n",
              "                         addr  e Reason  \n",
              "0      REINDEER CT & DEAD END  1    EMS  \n",
              "1  BRIAR PATH & WHITEMARSH LN  1    EMS  \n",
              "2                    HAWS AVE  1   Fire  \n",
              "3          AIRY ST & SWEDE ST  1    EMS  \n",
              "4    CHERRYWOOD CT & DEAD END  1    EMS  "
            ],
            "text/html": [
              "\n",
              "  <div id=\"df-c2ce980f-5863-4b48-b6b0-392241ecf747\">\n",
              "    <div class=\"colab-df-container\">\n",
              "      <div>\n",
              "<style scoped>\n",
              "    .dataframe tbody tr th:only-of-type {\n",
              "        vertical-align: middle;\n",
              "    }\n",
              "\n",
              "    .dataframe tbody tr th {\n",
              "        vertical-align: top;\n",
              "    }\n",
              "\n",
              "    .dataframe thead th {\n",
              "        text-align: right;\n",
              "    }\n",
              "</style>\n",
              "<table border=\"1\" class=\"dataframe\">\n",
              "  <thead>\n",
              "    <tr style=\"text-align: right;\">\n",
              "      <th></th>\n",
              "      <th>lat</th>\n",
              "      <th>lng</th>\n",
              "      <th>desc</th>\n",
              "      <th>zip</th>\n",
              "      <th>title</th>\n",
              "      <th>timeStamp</th>\n",
              "      <th>twp</th>\n",
              "      <th>addr</th>\n",
              "      <th>e</th>\n",
              "      <th>Reason</th>\n",
              "    </tr>\n",
              "  </thead>\n",
              "  <tbody>\n",
              "    <tr>\n",
              "      <th>0</th>\n",
              "      <td>40.297876</td>\n",
              "      <td>-75.581294</td>\n",
              "      <td>REINDEER CT &amp; DEAD END;  NEW HANOVER; Station ...</td>\n",
              "      <td>19525.0</td>\n",
              "      <td>EMS: BACK PAINS/INJURY</td>\n",
              "      <td>2015-12-10 17:40:00</td>\n",
              "      <td>NEW HANOVER</td>\n",
              "      <td>REINDEER CT &amp; DEAD END</td>\n",
              "      <td>1</td>\n",
              "      <td>EMS</td>\n",
              "    </tr>\n",
              "    <tr>\n",
              "      <th>1</th>\n",
              "      <td>40.258061</td>\n",
              "      <td>-75.264680</td>\n",
              "      <td>BRIAR PATH &amp; WHITEMARSH LN;  HATFIELD TOWNSHIP...</td>\n",
              "      <td>19446.0</td>\n",
              "      <td>EMS: DIABETIC EMERGENCY</td>\n",
              "      <td>2015-12-10 17:40:00</td>\n",
              "      <td>HATFIELD TOWNSHIP</td>\n",
              "      <td>BRIAR PATH &amp; WHITEMARSH LN</td>\n",
              "      <td>1</td>\n",
              "      <td>EMS</td>\n",
              "    </tr>\n",
              "    <tr>\n",
              "      <th>2</th>\n",
              "      <td>40.121182</td>\n",
              "      <td>-75.351975</td>\n",
              "      <td>HAWS AVE; NORRISTOWN; 2015-12-10 @ 14:39:21-St...</td>\n",
              "      <td>19401.0</td>\n",
              "      <td>Fire: GAS-ODOR/LEAK</td>\n",
              "      <td>2015-12-10 17:40:00</td>\n",
              "      <td>NORRISTOWN</td>\n",
              "      <td>HAWS AVE</td>\n",
              "      <td>1</td>\n",
              "      <td>Fire</td>\n",
              "    </tr>\n",
              "    <tr>\n",
              "      <th>3</th>\n",
              "      <td>40.116153</td>\n",
              "      <td>-75.343513</td>\n",
              "      <td>AIRY ST &amp; SWEDE ST;  NORRISTOWN; Station 308A;...</td>\n",
              "      <td>19401.0</td>\n",
              "      <td>EMS: CARDIAC EMERGENCY</td>\n",
              "      <td>2015-12-10 17:40:01</td>\n",
              "      <td>NORRISTOWN</td>\n",
              "      <td>AIRY ST &amp; SWEDE ST</td>\n",
              "      <td>1</td>\n",
              "      <td>EMS</td>\n",
              "    </tr>\n",
              "    <tr>\n",
              "      <th>4</th>\n",
              "      <td>40.251492</td>\n",
              "      <td>-75.603350</td>\n",
              "      <td>CHERRYWOOD CT &amp; DEAD END;  LOWER POTTSGROVE; S...</td>\n",
              "      <td>NaN</td>\n",
              "      <td>EMS: DIZZINESS</td>\n",
              "      <td>2015-12-10 17:40:01</td>\n",
              "      <td>LOWER POTTSGROVE</td>\n",
              "      <td>CHERRYWOOD CT &amp; DEAD END</td>\n",
              "      <td>1</td>\n",
              "      <td>EMS</td>\n",
              "    </tr>\n",
              "  </tbody>\n",
              "</table>\n",
              "</div>\n",
              "      <button class=\"colab-df-convert\" onclick=\"convertToInteractive('df-c2ce980f-5863-4b48-b6b0-392241ecf747')\"\n",
              "              title=\"Convert this dataframe to an interactive table.\"\n",
              "              style=\"display:none;\">\n",
              "        \n",
              "  <svg xmlns=\"http://www.w3.org/2000/svg\" height=\"24px\"viewBox=\"0 0 24 24\"\n",
              "       width=\"24px\">\n",
              "    <path d=\"M0 0h24v24H0V0z\" fill=\"none\"/>\n",
              "    <path d=\"M18.56 5.44l.94 2.06.94-2.06 2.06-.94-2.06-.94-.94-2.06-.94 2.06-2.06.94zm-11 1L8.5 8.5l.94-2.06 2.06-.94-2.06-.94L8.5 2.5l-.94 2.06-2.06.94zm10 10l.94 2.06.94-2.06 2.06-.94-2.06-.94-.94-2.06-.94 2.06-2.06.94z\"/><path d=\"M17.41 7.96l-1.37-1.37c-.4-.4-.92-.59-1.43-.59-.52 0-1.04.2-1.43.59L10.3 9.45l-7.72 7.72c-.78.78-.78 2.05 0 2.83L4 21.41c.39.39.9.59 1.41.59.51 0 1.02-.2 1.41-.59l7.78-7.78 2.81-2.81c.8-.78.8-2.07 0-2.86zM5.41 20L4 18.59l7.72-7.72 1.47 1.35L5.41 20z\"/>\n",
              "  </svg>\n",
              "      </button>\n",
              "      \n",
              "  <style>\n",
              "    .colab-df-container {\n",
              "      display:flex;\n",
              "      flex-wrap:wrap;\n",
              "      gap: 12px;\n",
              "    }\n",
              "\n",
              "    .colab-df-convert {\n",
              "      background-color: #E8F0FE;\n",
              "      border: none;\n",
              "      border-radius: 50%;\n",
              "      cursor: pointer;\n",
              "      display: none;\n",
              "      fill: #1967D2;\n",
              "      height: 32px;\n",
              "      padding: 0 0 0 0;\n",
              "      width: 32px;\n",
              "    }\n",
              "\n",
              "    .colab-df-convert:hover {\n",
              "      background-color: #E2EBFA;\n",
              "      box-shadow: 0px 1px 2px rgba(60, 64, 67, 0.3), 0px 1px 3px 1px rgba(60, 64, 67, 0.15);\n",
              "      fill: #174EA6;\n",
              "    }\n",
              "\n",
              "    [theme=dark] .colab-df-convert {\n",
              "      background-color: #3B4455;\n",
              "      fill: #D2E3FC;\n",
              "    }\n",
              "\n",
              "    [theme=dark] .colab-df-convert:hover {\n",
              "      background-color: #434B5C;\n",
              "      box-shadow: 0px 1px 3px 1px rgba(0, 0, 0, 0.15);\n",
              "      filter: drop-shadow(0px 1px 2px rgba(0, 0, 0, 0.3));\n",
              "      fill: #FFFFFF;\n",
              "    }\n",
              "  </style>\n",
              "\n",
              "      <script>\n",
              "        const buttonEl =\n",
              "          document.querySelector('#df-c2ce980f-5863-4b48-b6b0-392241ecf747 button.colab-df-convert');\n",
              "        buttonEl.style.display =\n",
              "          google.colab.kernel.accessAllowed ? 'block' : 'none';\n",
              "\n",
              "        async function convertToInteractive(key) {\n",
              "          const element = document.querySelector('#df-c2ce980f-5863-4b48-b6b0-392241ecf747');\n",
              "          const dataTable =\n",
              "            await google.colab.kernel.invokeFunction('convertToInteractive',\n",
              "                                                     [key], {});\n",
              "          if (!dataTable) return;\n",
              "\n",
              "          const docLinkHtml = 'Like what you see? Visit the ' +\n",
              "            '<a target=\"_blank\" href=https://colab.research.google.com/notebooks/data_table.ipynb>data table notebook</a>'\n",
              "            + ' to learn more about interactive tables.';\n",
              "          element.innerHTML = '';\n",
              "          dataTable['output_type'] = 'display_data';\n",
              "          await google.colab.output.renderOutput(dataTable, element);\n",
              "          const docLink = document.createElement('div');\n",
              "          docLink.innerHTML = docLinkHtml;\n",
              "          element.appendChild(docLink);\n",
              "        }\n",
              "      </script>\n",
              "    </div>\n",
              "  </div>\n",
              "  "
            ]
          },
          "metadata": {},
          "execution_count": 15
        }
      ],
      "source": [
        "df['timeStamp'] = pd.to_datetime(df['timeStamp'])\n",
        "df.head()"
      ]
    },
    {
      "cell_type": "markdown",
      "metadata": {
        "id": "QWMpxEnQ6kUB"
      },
      "source": [
        "Now that the timestamp column is actually DateTime objects, using .apply() to create 3 new columns called Hour, Month, and Day of Week."
      ]
    },
    {
      "cell_type": "code",
      "execution_count": 16,
      "metadata": {
        "id": "9wUdF9Rj6kUC"
      },
      "outputs": [],
      "source": [
        "df['Hour'] = df['timeStamp'].apply(lambda x: x.hour)\n",
        "df['Month'] = df['timeStamp'].apply(lambda x: x.month)\n",
        "df['DayOfWeek'] = df['timeStamp'].apply(lambda x: x.dayofweek)"
      ]
    },
    {
      "cell_type": "code",
      "source": [
        "df.head()"
      ],
      "metadata": {
        "colab": {
          "base_uri": "https://localhost:8080/",
          "height": 565
        },
        "id": "6OkQVBUF-5tJ",
        "outputId": "86ea1cd0-54b2-462d-819c-94e702aa5353"
      },
      "execution_count": 17,
      "outputs": [
        {
          "output_type": "execute_result",
          "data": {
            "text/plain": [
              "         lat        lng                                               desc  \\\n",
              "0  40.297876 -75.581294  REINDEER CT & DEAD END;  NEW HANOVER; Station ...   \n",
              "1  40.258061 -75.264680  BRIAR PATH & WHITEMARSH LN;  HATFIELD TOWNSHIP...   \n",
              "2  40.121182 -75.351975  HAWS AVE; NORRISTOWN; 2015-12-10 @ 14:39:21-St...   \n",
              "3  40.116153 -75.343513  AIRY ST & SWEDE ST;  NORRISTOWN; Station 308A;...   \n",
              "4  40.251492 -75.603350  CHERRYWOOD CT & DEAD END;  LOWER POTTSGROVE; S...   \n",
              "\n",
              "       zip                    title           timeStamp                twp  \\\n",
              "0  19525.0   EMS: BACK PAINS/INJURY 2015-12-10 17:40:00        NEW HANOVER   \n",
              "1  19446.0  EMS: DIABETIC EMERGENCY 2015-12-10 17:40:00  HATFIELD TOWNSHIP   \n",
              "2  19401.0      Fire: GAS-ODOR/LEAK 2015-12-10 17:40:00         NORRISTOWN   \n",
              "3  19401.0   EMS: CARDIAC EMERGENCY 2015-12-10 17:40:01         NORRISTOWN   \n",
              "4      NaN           EMS: DIZZINESS 2015-12-10 17:40:01   LOWER POTTSGROVE   \n",
              "\n",
              "                         addr  e Reason  Hour  Month  DayOfWeek  \n",
              "0      REINDEER CT & DEAD END  1    EMS    17     12          3  \n",
              "1  BRIAR PATH & WHITEMARSH LN  1    EMS    17     12          3  \n",
              "2                    HAWS AVE  1   Fire    17     12          3  \n",
              "3          AIRY ST & SWEDE ST  1    EMS    17     12          3  \n",
              "4    CHERRYWOOD CT & DEAD END  1    EMS    17     12          3  "
            ],
            "text/html": [
              "\n",
              "  <div id=\"df-5db38fe0-22e7-4d0d-a4a5-b4c0aca20efa\">\n",
              "    <div class=\"colab-df-container\">\n",
              "      <div>\n",
              "<style scoped>\n",
              "    .dataframe tbody tr th:only-of-type {\n",
              "        vertical-align: middle;\n",
              "    }\n",
              "\n",
              "    .dataframe tbody tr th {\n",
              "        vertical-align: top;\n",
              "    }\n",
              "\n",
              "    .dataframe thead th {\n",
              "        text-align: right;\n",
              "    }\n",
              "</style>\n",
              "<table border=\"1\" class=\"dataframe\">\n",
              "  <thead>\n",
              "    <tr style=\"text-align: right;\">\n",
              "      <th></th>\n",
              "      <th>lat</th>\n",
              "      <th>lng</th>\n",
              "      <th>desc</th>\n",
              "      <th>zip</th>\n",
              "      <th>title</th>\n",
              "      <th>timeStamp</th>\n",
              "      <th>twp</th>\n",
              "      <th>addr</th>\n",
              "      <th>e</th>\n",
              "      <th>Reason</th>\n",
              "      <th>Hour</th>\n",
              "      <th>Month</th>\n",
              "      <th>DayOfWeek</th>\n",
              "    </tr>\n",
              "  </thead>\n",
              "  <tbody>\n",
              "    <tr>\n",
              "      <th>0</th>\n",
              "      <td>40.297876</td>\n",
              "      <td>-75.581294</td>\n",
              "      <td>REINDEER CT &amp; DEAD END;  NEW HANOVER; Station ...</td>\n",
              "      <td>19525.0</td>\n",
              "      <td>EMS: BACK PAINS/INJURY</td>\n",
              "      <td>2015-12-10 17:40:00</td>\n",
              "      <td>NEW HANOVER</td>\n",
              "      <td>REINDEER CT &amp; DEAD END</td>\n",
              "      <td>1</td>\n",
              "      <td>EMS</td>\n",
              "      <td>17</td>\n",
              "      <td>12</td>\n",
              "      <td>3</td>\n",
              "    </tr>\n",
              "    <tr>\n",
              "      <th>1</th>\n",
              "      <td>40.258061</td>\n",
              "      <td>-75.264680</td>\n",
              "      <td>BRIAR PATH &amp; WHITEMARSH LN;  HATFIELD TOWNSHIP...</td>\n",
              "      <td>19446.0</td>\n",
              "      <td>EMS: DIABETIC EMERGENCY</td>\n",
              "      <td>2015-12-10 17:40:00</td>\n",
              "      <td>HATFIELD TOWNSHIP</td>\n",
              "      <td>BRIAR PATH &amp; WHITEMARSH LN</td>\n",
              "      <td>1</td>\n",
              "      <td>EMS</td>\n",
              "      <td>17</td>\n",
              "      <td>12</td>\n",
              "      <td>3</td>\n",
              "    </tr>\n",
              "    <tr>\n",
              "      <th>2</th>\n",
              "      <td>40.121182</td>\n",
              "      <td>-75.351975</td>\n",
              "      <td>HAWS AVE; NORRISTOWN; 2015-12-10 @ 14:39:21-St...</td>\n",
              "      <td>19401.0</td>\n",
              "      <td>Fire: GAS-ODOR/LEAK</td>\n",
              "      <td>2015-12-10 17:40:00</td>\n",
              "      <td>NORRISTOWN</td>\n",
              "      <td>HAWS AVE</td>\n",
              "      <td>1</td>\n",
              "      <td>Fire</td>\n",
              "      <td>17</td>\n",
              "      <td>12</td>\n",
              "      <td>3</td>\n",
              "    </tr>\n",
              "    <tr>\n",
              "      <th>3</th>\n",
              "      <td>40.116153</td>\n",
              "      <td>-75.343513</td>\n",
              "      <td>AIRY ST &amp; SWEDE ST;  NORRISTOWN; Station 308A;...</td>\n",
              "      <td>19401.0</td>\n",
              "      <td>EMS: CARDIAC EMERGENCY</td>\n",
              "      <td>2015-12-10 17:40:01</td>\n",
              "      <td>NORRISTOWN</td>\n",
              "      <td>AIRY ST &amp; SWEDE ST</td>\n",
              "      <td>1</td>\n",
              "      <td>EMS</td>\n",
              "      <td>17</td>\n",
              "      <td>12</td>\n",
              "      <td>3</td>\n",
              "    </tr>\n",
              "    <tr>\n",
              "      <th>4</th>\n",
              "      <td>40.251492</td>\n",
              "      <td>-75.603350</td>\n",
              "      <td>CHERRYWOOD CT &amp; DEAD END;  LOWER POTTSGROVE; S...</td>\n",
              "      <td>NaN</td>\n",
              "      <td>EMS: DIZZINESS</td>\n",
              "      <td>2015-12-10 17:40:01</td>\n",
              "      <td>LOWER POTTSGROVE</td>\n",
              "      <td>CHERRYWOOD CT &amp; DEAD END</td>\n",
              "      <td>1</td>\n",
              "      <td>EMS</td>\n",
              "      <td>17</td>\n",
              "      <td>12</td>\n",
              "      <td>3</td>\n",
              "    </tr>\n",
              "  </tbody>\n",
              "</table>\n",
              "</div>\n",
              "      <button class=\"colab-df-convert\" onclick=\"convertToInteractive('df-5db38fe0-22e7-4d0d-a4a5-b4c0aca20efa')\"\n",
              "              title=\"Convert this dataframe to an interactive table.\"\n",
              "              style=\"display:none;\">\n",
              "        \n",
              "  <svg xmlns=\"http://www.w3.org/2000/svg\" height=\"24px\"viewBox=\"0 0 24 24\"\n",
              "       width=\"24px\">\n",
              "    <path d=\"M0 0h24v24H0V0z\" fill=\"none\"/>\n",
              "    <path d=\"M18.56 5.44l.94 2.06.94-2.06 2.06-.94-2.06-.94-.94-2.06-.94 2.06-2.06.94zm-11 1L8.5 8.5l.94-2.06 2.06-.94-2.06-.94L8.5 2.5l-.94 2.06-2.06.94zm10 10l.94 2.06.94-2.06 2.06-.94-2.06-.94-.94-2.06-.94 2.06-2.06.94z\"/><path d=\"M17.41 7.96l-1.37-1.37c-.4-.4-.92-.59-1.43-.59-.52 0-1.04.2-1.43.59L10.3 9.45l-7.72 7.72c-.78.78-.78 2.05 0 2.83L4 21.41c.39.39.9.59 1.41.59.51 0 1.02-.2 1.41-.59l7.78-7.78 2.81-2.81c.8-.78.8-2.07 0-2.86zM5.41 20L4 18.59l7.72-7.72 1.47 1.35L5.41 20z\"/>\n",
              "  </svg>\n",
              "      </button>\n",
              "      \n",
              "  <style>\n",
              "    .colab-df-container {\n",
              "      display:flex;\n",
              "      flex-wrap:wrap;\n",
              "      gap: 12px;\n",
              "    }\n",
              "\n",
              "    .colab-df-convert {\n",
              "      background-color: #E8F0FE;\n",
              "      border: none;\n",
              "      border-radius: 50%;\n",
              "      cursor: pointer;\n",
              "      display: none;\n",
              "      fill: #1967D2;\n",
              "      height: 32px;\n",
              "      padding: 0 0 0 0;\n",
              "      width: 32px;\n",
              "    }\n",
              "\n",
              "    .colab-df-convert:hover {\n",
              "      background-color: #E2EBFA;\n",
              "      box-shadow: 0px 1px 2px rgba(60, 64, 67, 0.3), 0px 1px 3px 1px rgba(60, 64, 67, 0.15);\n",
              "      fill: #174EA6;\n",
              "    }\n",
              "\n",
              "    [theme=dark] .colab-df-convert {\n",
              "      background-color: #3B4455;\n",
              "      fill: #D2E3FC;\n",
              "    }\n",
              "\n",
              "    [theme=dark] .colab-df-convert:hover {\n",
              "      background-color: #434B5C;\n",
              "      box-shadow: 0px 1px 3px 1px rgba(0, 0, 0, 0.15);\n",
              "      filter: drop-shadow(0px 1px 2px rgba(0, 0, 0, 0.3));\n",
              "      fill: #FFFFFF;\n",
              "    }\n",
              "  </style>\n",
              "\n",
              "      <script>\n",
              "        const buttonEl =\n",
              "          document.querySelector('#df-5db38fe0-22e7-4d0d-a4a5-b4c0aca20efa button.colab-df-convert');\n",
              "        buttonEl.style.display =\n",
              "          google.colab.kernel.accessAllowed ? 'block' : 'none';\n",
              "\n",
              "        async function convertToInteractive(key) {\n",
              "          const element = document.querySelector('#df-5db38fe0-22e7-4d0d-a4a5-b4c0aca20efa');\n",
              "          const dataTable =\n",
              "            await google.colab.kernel.invokeFunction('convertToInteractive',\n",
              "                                                     [key], {});\n",
              "          if (!dataTable) return;\n",
              "\n",
              "          const docLinkHtml = 'Like what you see? Visit the ' +\n",
              "            '<a target=\"_blank\" href=https://colab.research.google.com/notebooks/data_table.ipynb>data table notebook</a>'\n",
              "            + ' to learn more about interactive tables.';\n",
              "          element.innerHTML = '';\n",
              "          dataTable['output_type'] = 'display_data';\n",
              "          await google.colab.output.renderOutput(dataTable, element);\n",
              "          const docLink = document.createElement('div');\n",
              "          docLink.innerHTML = docLinkHtml;\n",
              "          element.appendChild(docLink);\n",
              "        }\n",
              "      </script>\n",
              "    </div>\n",
              "  </div>\n",
              "  "
            ]
          },
          "metadata": {},
          "execution_count": 17
        }
      ]
    },
    {
      "cell_type": "markdown",
      "metadata": {
        "collapsed": false,
        "id": "H1eSoRyj6kUC"
      },
      "source": [
        "Using the .map() with dictionary to map the actual string names to the day of the week"
      ]
    },
    {
      "cell_type": "code",
      "execution_count": 18,
      "metadata": {
        "id": "kQjO7U6_6kUD"
      },
      "outputs": [],
      "source": [
        "dmap = {0:'Mon',1:'Tue',2:'Wed',3:'Thu',4:'Fri',5:'Sat',6:'Sun'}\n",
        "df['DayOfWeek'] = df['DayOfWeek'].map(dmap)"
      ]
    },
    {
      "cell_type": "code",
      "execution_count": 19,
      "metadata": {
        "colab": {
          "base_uri": "https://localhost:8080/",
          "height": 565
        },
        "id": "28QEe6Ss6kUD",
        "outputId": "472b6559-e0bc-4819-c7fd-9237204fafd3"
      },
      "outputs": [
        {
          "output_type": "execute_result",
          "data": {
            "text/plain": [
              "         lat        lng                                               desc  \\\n",
              "0  40.297876 -75.581294  REINDEER CT & DEAD END;  NEW HANOVER; Station ...   \n",
              "1  40.258061 -75.264680  BRIAR PATH & WHITEMARSH LN;  HATFIELD TOWNSHIP...   \n",
              "2  40.121182 -75.351975  HAWS AVE; NORRISTOWN; 2015-12-10 @ 14:39:21-St...   \n",
              "3  40.116153 -75.343513  AIRY ST & SWEDE ST;  NORRISTOWN; Station 308A;...   \n",
              "4  40.251492 -75.603350  CHERRYWOOD CT & DEAD END;  LOWER POTTSGROVE; S...   \n",
              "\n",
              "       zip                    title           timeStamp                twp  \\\n",
              "0  19525.0   EMS: BACK PAINS/INJURY 2015-12-10 17:40:00        NEW HANOVER   \n",
              "1  19446.0  EMS: DIABETIC EMERGENCY 2015-12-10 17:40:00  HATFIELD TOWNSHIP   \n",
              "2  19401.0      Fire: GAS-ODOR/LEAK 2015-12-10 17:40:00         NORRISTOWN   \n",
              "3  19401.0   EMS: CARDIAC EMERGENCY 2015-12-10 17:40:01         NORRISTOWN   \n",
              "4      NaN           EMS: DIZZINESS 2015-12-10 17:40:01   LOWER POTTSGROVE   \n",
              "\n",
              "                         addr  e Reason  Hour  Month DayOfWeek  \n",
              "0      REINDEER CT & DEAD END  1    EMS    17     12       Thu  \n",
              "1  BRIAR PATH & WHITEMARSH LN  1    EMS    17     12       Thu  \n",
              "2                    HAWS AVE  1   Fire    17     12       Thu  \n",
              "3          AIRY ST & SWEDE ST  1    EMS    17     12       Thu  \n",
              "4    CHERRYWOOD CT & DEAD END  1    EMS    17     12       Thu  "
            ],
            "text/html": [
              "\n",
              "  <div id=\"df-eb0b414d-d5ff-434f-b965-c5f1b968ca8b\">\n",
              "    <div class=\"colab-df-container\">\n",
              "      <div>\n",
              "<style scoped>\n",
              "    .dataframe tbody tr th:only-of-type {\n",
              "        vertical-align: middle;\n",
              "    }\n",
              "\n",
              "    .dataframe tbody tr th {\n",
              "        vertical-align: top;\n",
              "    }\n",
              "\n",
              "    .dataframe thead th {\n",
              "        text-align: right;\n",
              "    }\n",
              "</style>\n",
              "<table border=\"1\" class=\"dataframe\">\n",
              "  <thead>\n",
              "    <tr style=\"text-align: right;\">\n",
              "      <th></th>\n",
              "      <th>lat</th>\n",
              "      <th>lng</th>\n",
              "      <th>desc</th>\n",
              "      <th>zip</th>\n",
              "      <th>title</th>\n",
              "      <th>timeStamp</th>\n",
              "      <th>twp</th>\n",
              "      <th>addr</th>\n",
              "      <th>e</th>\n",
              "      <th>Reason</th>\n",
              "      <th>Hour</th>\n",
              "      <th>Month</th>\n",
              "      <th>DayOfWeek</th>\n",
              "    </tr>\n",
              "  </thead>\n",
              "  <tbody>\n",
              "    <tr>\n",
              "      <th>0</th>\n",
              "      <td>40.297876</td>\n",
              "      <td>-75.581294</td>\n",
              "      <td>REINDEER CT &amp; DEAD END;  NEW HANOVER; Station ...</td>\n",
              "      <td>19525.0</td>\n",
              "      <td>EMS: BACK PAINS/INJURY</td>\n",
              "      <td>2015-12-10 17:40:00</td>\n",
              "      <td>NEW HANOVER</td>\n",
              "      <td>REINDEER CT &amp; DEAD END</td>\n",
              "      <td>1</td>\n",
              "      <td>EMS</td>\n",
              "      <td>17</td>\n",
              "      <td>12</td>\n",
              "      <td>Thu</td>\n",
              "    </tr>\n",
              "    <tr>\n",
              "      <th>1</th>\n",
              "      <td>40.258061</td>\n",
              "      <td>-75.264680</td>\n",
              "      <td>BRIAR PATH &amp; WHITEMARSH LN;  HATFIELD TOWNSHIP...</td>\n",
              "      <td>19446.0</td>\n",
              "      <td>EMS: DIABETIC EMERGENCY</td>\n",
              "      <td>2015-12-10 17:40:00</td>\n",
              "      <td>HATFIELD TOWNSHIP</td>\n",
              "      <td>BRIAR PATH &amp; WHITEMARSH LN</td>\n",
              "      <td>1</td>\n",
              "      <td>EMS</td>\n",
              "      <td>17</td>\n",
              "      <td>12</td>\n",
              "      <td>Thu</td>\n",
              "    </tr>\n",
              "    <tr>\n",
              "      <th>2</th>\n",
              "      <td>40.121182</td>\n",
              "      <td>-75.351975</td>\n",
              "      <td>HAWS AVE; NORRISTOWN; 2015-12-10 @ 14:39:21-St...</td>\n",
              "      <td>19401.0</td>\n",
              "      <td>Fire: GAS-ODOR/LEAK</td>\n",
              "      <td>2015-12-10 17:40:00</td>\n",
              "      <td>NORRISTOWN</td>\n",
              "      <td>HAWS AVE</td>\n",
              "      <td>1</td>\n",
              "      <td>Fire</td>\n",
              "      <td>17</td>\n",
              "      <td>12</td>\n",
              "      <td>Thu</td>\n",
              "    </tr>\n",
              "    <tr>\n",
              "      <th>3</th>\n",
              "      <td>40.116153</td>\n",
              "      <td>-75.343513</td>\n",
              "      <td>AIRY ST &amp; SWEDE ST;  NORRISTOWN; Station 308A;...</td>\n",
              "      <td>19401.0</td>\n",
              "      <td>EMS: CARDIAC EMERGENCY</td>\n",
              "      <td>2015-12-10 17:40:01</td>\n",
              "      <td>NORRISTOWN</td>\n",
              "      <td>AIRY ST &amp; SWEDE ST</td>\n",
              "      <td>1</td>\n",
              "      <td>EMS</td>\n",
              "      <td>17</td>\n",
              "      <td>12</td>\n",
              "      <td>Thu</td>\n",
              "    </tr>\n",
              "    <tr>\n",
              "      <th>4</th>\n",
              "      <td>40.251492</td>\n",
              "      <td>-75.603350</td>\n",
              "      <td>CHERRYWOOD CT &amp; DEAD END;  LOWER POTTSGROVE; S...</td>\n",
              "      <td>NaN</td>\n",
              "      <td>EMS: DIZZINESS</td>\n",
              "      <td>2015-12-10 17:40:01</td>\n",
              "      <td>LOWER POTTSGROVE</td>\n",
              "      <td>CHERRYWOOD CT &amp; DEAD END</td>\n",
              "      <td>1</td>\n",
              "      <td>EMS</td>\n",
              "      <td>17</td>\n",
              "      <td>12</td>\n",
              "      <td>Thu</td>\n",
              "    </tr>\n",
              "  </tbody>\n",
              "</table>\n",
              "</div>\n",
              "      <button class=\"colab-df-convert\" onclick=\"convertToInteractive('df-eb0b414d-d5ff-434f-b965-c5f1b968ca8b')\"\n",
              "              title=\"Convert this dataframe to an interactive table.\"\n",
              "              style=\"display:none;\">\n",
              "        \n",
              "  <svg xmlns=\"http://www.w3.org/2000/svg\" height=\"24px\"viewBox=\"0 0 24 24\"\n",
              "       width=\"24px\">\n",
              "    <path d=\"M0 0h24v24H0V0z\" fill=\"none\"/>\n",
              "    <path d=\"M18.56 5.44l.94 2.06.94-2.06 2.06-.94-2.06-.94-.94-2.06-.94 2.06-2.06.94zm-11 1L8.5 8.5l.94-2.06 2.06-.94-2.06-.94L8.5 2.5l-.94 2.06-2.06.94zm10 10l.94 2.06.94-2.06 2.06-.94-2.06-.94-.94-2.06-.94 2.06-2.06.94z\"/><path d=\"M17.41 7.96l-1.37-1.37c-.4-.4-.92-.59-1.43-.59-.52 0-1.04.2-1.43.59L10.3 9.45l-7.72 7.72c-.78.78-.78 2.05 0 2.83L4 21.41c.39.39.9.59 1.41.59.51 0 1.02-.2 1.41-.59l7.78-7.78 2.81-2.81c.8-.78.8-2.07 0-2.86zM5.41 20L4 18.59l7.72-7.72 1.47 1.35L5.41 20z\"/>\n",
              "  </svg>\n",
              "      </button>\n",
              "      \n",
              "  <style>\n",
              "    .colab-df-container {\n",
              "      display:flex;\n",
              "      flex-wrap:wrap;\n",
              "      gap: 12px;\n",
              "    }\n",
              "\n",
              "    .colab-df-convert {\n",
              "      background-color: #E8F0FE;\n",
              "      border: none;\n",
              "      border-radius: 50%;\n",
              "      cursor: pointer;\n",
              "      display: none;\n",
              "      fill: #1967D2;\n",
              "      height: 32px;\n",
              "      padding: 0 0 0 0;\n",
              "      width: 32px;\n",
              "    }\n",
              "\n",
              "    .colab-df-convert:hover {\n",
              "      background-color: #E2EBFA;\n",
              "      box-shadow: 0px 1px 2px rgba(60, 64, 67, 0.3), 0px 1px 3px 1px rgba(60, 64, 67, 0.15);\n",
              "      fill: #174EA6;\n",
              "    }\n",
              "\n",
              "    [theme=dark] .colab-df-convert {\n",
              "      background-color: #3B4455;\n",
              "      fill: #D2E3FC;\n",
              "    }\n",
              "\n",
              "    [theme=dark] .colab-df-convert:hover {\n",
              "      background-color: #434B5C;\n",
              "      box-shadow: 0px 1px 3px 1px rgba(0, 0, 0, 0.15);\n",
              "      filter: drop-shadow(0px 1px 2px rgba(0, 0, 0, 0.3));\n",
              "      fill: #FFFFFF;\n",
              "    }\n",
              "  </style>\n",
              "\n",
              "      <script>\n",
              "        const buttonEl =\n",
              "          document.querySelector('#df-eb0b414d-d5ff-434f-b965-c5f1b968ca8b button.colab-df-convert');\n",
              "        buttonEl.style.display =\n",
              "          google.colab.kernel.accessAllowed ? 'block' : 'none';\n",
              "\n",
              "        async function convertToInteractive(key) {\n",
              "          const element = document.querySelector('#df-eb0b414d-d5ff-434f-b965-c5f1b968ca8b');\n",
              "          const dataTable =\n",
              "            await google.colab.kernel.invokeFunction('convertToInteractive',\n",
              "                                                     [key], {});\n",
              "          if (!dataTable) return;\n",
              "\n",
              "          const docLinkHtml = 'Like what you see? Visit the ' +\n",
              "            '<a target=\"_blank\" href=https://colab.research.google.com/notebooks/data_table.ipynb>data table notebook</a>'\n",
              "            + ' to learn more about interactive tables.';\n",
              "          element.innerHTML = '';\n",
              "          dataTable['output_type'] = 'display_data';\n",
              "          await google.colab.output.renderOutput(dataTable, element);\n",
              "          const docLink = document.createElement('div');\n",
              "          docLink.innerHTML = docLinkHtml;\n",
              "          element.appendChild(docLink);\n",
              "        }\n",
              "      </script>\n",
              "    </div>\n",
              "  </div>\n",
              "  "
            ]
          },
          "metadata": {},
          "execution_count": 19
        }
      ],
      "source": [
        "df.head()"
      ]
    },
    {
      "cell_type": "markdown",
      "metadata": {
        "collapsed": false,
        "id": "5Jm4Um9r6kUE"
      },
      "source": [
        "# Creating a countplot of the Day of Week column with the hue based off of the Reason column."
      ]
    },
    {
      "cell_type": "code",
      "execution_count": 22,
      "metadata": {
        "colab": {
          "base_uri": "https://localhost:8080/",
          "height": 296
        },
        "id": "qX5zj3dL6kUE",
        "outputId": "87fd7cc2-0669-491c-8a72-7884f55e8889"
      },
      "outputs": [
        {
          "output_type": "execute_result",
          "data": {
            "text/plain": [
              "<matplotlib.axes._subplots.AxesSubplot at 0x7fe9d05ffb90>"
            ]
          },
          "metadata": {},
          "execution_count": 22
        },
        {
          "output_type": "display_data",
          "data": {
            "text/plain": [
              "<Figure size 432x288 with 1 Axes>"
            ],
            "image/png": "[encoded data removed]"
          },
          "metadata": {
            "needs_background": "light"
          }
        }
      ],
      "source": [
        "sns.countplot(data=df, x='DayOfWeek', hue='Reason')"
      ]
    },
    {
      "cell_type": "markdown",
      "metadata": {
        "id": "ltMLjL7L6kUF"
      },
      "source": [
        "# Now doing the same for Month"
      ]
    },
    {
      "cell_type": "code",
      "execution_count": 23,
      "metadata": {
        "colab": {
          "base_uri": "https://localhost:8080/",
          "height": 296
        },
        "id": "IWkrFsVh6kUF",
        "outputId": "e175ee5c-eb5b-4bd1-b4c2-3bb98a6240d9"
      },
      "outputs": [
        {
          "output_type": "execute_result",
          "data": {
            "text/plain": [
              "<matplotlib.axes._subplots.AxesSubplot at 0x7fe9d168e250>"
            ]
          },
          "metadata": {},
          "execution_count": 23
        },
        {
          "output_type": "display_data",
          "data": {
            "text/plain": [
              "<Figure size 432x288 with 1 Axes>"
            ],
            "image/png": "[encoded data removed]"
          },
          "metadata": {
            "needs_background": "light"
          }
        }
      ],
      "source": [
        "sns.countplot(data=df, x='Month', hue='Reason', palette='viridis')"
      ]
    },
    {
      "cell_type": "markdown",
      "source": [
        "# Which Hour Has the most calls?"
      ],
      "metadata": {
        "id": "7XHmu7O6A_yO"
      }
    },
    {
      "cell_type": "code",
      "source": [
        "sns.countplot(data=df, x='Hour')"
      ],
      "metadata": {
        "colab": {
          "base_uri": "https://localhost:8080/",
          "height": 296
        },
        "id": "MhHSTIyLBFml",
        "outputId": "40f3e53b-fe66-46c0-e170-72e1fa184dda"
      },
      "execution_count": 28,
      "outputs": [
        {
          "output_type": "execute_result",
          "data": {
            "text/plain": [
              "<matplotlib.axes._subplots.AxesSubplot at 0x7fe9d0405a90>"
            ]
          },
          "metadata": {},
          "execution_count": 28
        },
        {
          "output_type": "display_data",
          "data": {
            "text/plain": [
              "<Figure size 432x288 with 1 Axes>"
            ],
            "image/png": "[encoded data removed]"
          },
          "metadata": {
            "needs_background": "light"
          }
        }
      ]
    },
    {
      "cell_type": "markdown",
      "source": [
        "# Which Zip code Receives More Calls?"
      ],
      "metadata": {
        "id": "oahxgJbSFK6v"
      }
    },
    {
      "cell_type": "code",
      "source": [
        "df['zip'].value_counts().head(10).plot(kind='bar', figsize=(15,6), color='orange')\n",
        "plt.title(\"Number Of Calls By Top 10 Zip code\")\n",
        "plt.xlabel('Zip Code')\n",
        "plt.ylabel('Number of Calls')"
      ],
      "metadata": {
        "colab": {
          "base_uri": "https://localhost:8080/",
          "height": 452
        },
        "id": "5_4h7fwTFOvi",
        "outputId": "8c612358-bd71-43d8-cb86-3f3bfc4fac08"
      },
      "execution_count": 75,
      "outputs": [
        {
          "output_type": "execute_result",
          "data": {
            "text/plain": [
              "Text(0, 0.5, 'Number of Calls')"
            ]
          },
          "metadata": {},
          "execution_count": 75
        },
        {
          "output_type": "display_data",
          "data": {
            "text/plain": [
              "<Figure size 1080x432 with 1 Axes>"
            ],
            "image/png": "[encoded data removed]"
          },
          "metadata": {
            "needs_background": "light"
          }
        }
      ]
    },
    {
      "cell_type": "markdown",
      "source": [
        "# Observations\n",
        "\n",
        "\n",
        "1.   19401 Zip code receives the most 911 calls.\n",
        "2.   911 receives the most calls from LOWER MERION.\n",
        "3.   911 receives most calls for EMS with 48877 calls in the dataset.\n",
        "4. Wednesdays record most calls for EMS.\n",
        "5. Tuesday record most calls for traffic.\n",
        "6. Mondays record most calls for Fire.\n",
        "7. January and July have received the highest and almost same number of calls for EMS.\n",
        "8. Most calls for traffic were received in January.\n",
        "9. Most calls for fire were received in July. \n",
        "10. 911 receives most calls between 15, 16, and 17 hours of the day.\n",
        "\n",
        "\n",
        "\n",
        "\n"
      ],
      "metadata": {
        "id": "sMORVhpMHs4T"
      }
    }
  ],
  "metadata": {
    "kernelspec": {
      "display_name": "Python 3",
      "language": "python",
      "name": "python3"
    },
    "language_info": {
      "codemirror_mode": {
        "name": "ipython",
        "version": 3
      },
      "file_extension": ".py",
      "mimetype": "text/x-python",
      "name": "python",
      "nbconvert_exporter": "python",
      "pygments_lexer": "ipython3",
      "version": "3.5.1"
    },
    "colab": {
      "name": "01-911 Calls Data Capstone Project.ipynb",
      "provenance": [],
      "collapsed_sections": []
    }
  },
  "nbformat": 4,
  "nbformat_minor": 0
}